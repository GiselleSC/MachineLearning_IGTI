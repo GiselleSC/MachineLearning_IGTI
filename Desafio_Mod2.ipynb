{
 "cells": [
  {
   "cell_type": "markdown",
   "metadata": {},
   "source": [
    "# *******************************************************\n",
    "# IGTI - Bootcamp Analista de Machine Learning\n",
    "# Módulo 2 - Modelos Preditivos e Séries Temporais\n",
    "# DESAFIO - GISELLE S C\n",
    "# *******************************************************"
   ]
  },
  {
   "cell_type": "raw",
   "metadata": {},
   "source": [
    "Objetivos:\n",
    "\n",
    "Exercitar os seguintes conceitos trabalhados no Módulo:\n",
    "- Análise exploratória dos dados (EDA - Exploratory Data Analysis).\n",
    "- Preparação dos dados.\n",
    "- Comparação e ajuste de modelos de classificação.\n",
    "\n",
    "Enunciado:\n",
    "\n",
    "Neste desafio serão abordados todos os conceitos apresentados durante a disciplina Modelos Preditivos e Séries Temporais (MPT). Para este desafio será utilizada uma versão modificada do dataset “Wine Quality” disponível no UCI Machine Learning Repository (https://archive.ics.uci.edu/ml/datasets/wine). Esse dataset contém um conjunto de atributos (dados de sensores) sobre o processo de fabricação de vinhos (tinto e branco). Esses dados são utilizados para classificar, ao final do processo, a qualidade do vinho obtido. Existem informações como o teor alcoólico e nível de acidez."
   ]
  },
  {
   "cell_type": "code",
   "execution_count": null,
   "metadata": {
    "colab": {},
    "colab_type": "code",
    "id": "zo-oX7E-dLGg"
   },
   "outputs": [],
   "source": [
    "#importando as bibliotecas\n",
    "import pandas as pd\n",
    "import numpy as np\n",
    "from matplotlib import pyplot as plt\n",
    "import seaborn as sns\n",
    "import datetime\n",
    "from sklearn.model_selection import train_test_split,KFold,cross_val_score, cross_val_predict # esse método é utilizado para dividir o \n",
    "                                                    # conjunto de dados em grupos de treinamento e test\n",
    "from sklearn.svm import SVC      #importa o algoritmo svm para ser utilizado \n",
    "from sklearn import tree         # importa o algoritmo arvore de decisão\n",
    "from sklearn.linear_model import LogisticRegression #importa o algoritmo de regressão logística\n",
    "from sklearn.metrics import mean_absolute_error #utilizada para o calculo do MAE\n",
    "from sklearn.metrics import mean_squared_error #utilizada para o calculo do MSE\n",
    "from sklearn.metrics import r2_score #utilizada para o calculo do R2\n",
    "from sklearn import metrics  #utilizada para as métricas de comparação entre os métodos\n",
    "from sklearn.ensemble import RandomForestClassifier\n",
    "from sklearn.tree import DecisionTreeClassifier \n",
    "from sklearn.neighbors import KNeighborsClassifier\n",
    "from sklearn import svm\n",
    "from sklearn.metrics import accuracy_score"
   ]
  },
  {
   "cell_type": "code",
   "execution_count": null,
   "metadata": {
    "colab": {
     "base_uri": "https://localhost:8080/",
     "height": 74,
     "resources": {
      "http://localhost:8080/nbextensions/google.colab/files.js": {
       "data": "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",
       "headers": [
        [
         "content-type",
         "application/javascript"
        ]
       ],
       "ok": true,
       "status": 200,
       "status_text": ""
      }
     }
    },
    "colab_type": "code",
    "executionInfo": {
     "elapsed": 8170,
     "status": "ok",
     "timestamp": 1591791270706,
     "user": {
      "displayName": "Giselle Silva",
      "photoUrl": "https://lh3.googleusercontent.com/a-/AOh14Ghw1WCpW9Q_9WLdA1gi-7ssprk6FMiSRivyisCC5LA=s64",
      "userId": "07908098511200809974"
     },
     "user_tz": 180
    },
    "id": "YkIEpFxbf_IC",
    "outputId": "a5cfa6ce-9696-48ba-ab21-ca26884784d9"
   },
   "outputs": [
    {
     "data": {
      "text/html": [
       "\n",
       "     <input type=\"file\" id=\"files-3210b2f1-823a-4472-8b4a-c77dbcee1322\" name=\"files[]\" multiple disabled />\n",
       "     <output id=\"result-3210b2f1-823a-4472-8b4a-c77dbcee1322\">\n",
       "      Upload widget is only available when the cell has been executed in the\n",
       "      current browser session. Please rerun this cell to enable.\n",
       "      </output>\n",
       "      <script src=\"/nbextensions/google.colab/files.js\"></script> "
      ],
      "text/plain": [
       "<IPython.core.display.HTML object>"
      ]
     },
     "metadata": {
      "tags": []
     },
     "output_type": "display_data"
    },
    {
     "name": "stdout",
     "output_type": "stream",
     "text": [
      "Saving winequality-red.csv to winequality-red.csv\n"
     ]
    }
   ],
   "source": [
    "#importando o arquivo para o google colab\n",
    "from google.colab import files\n",
    "uploaded = files.upload()"
   ]
  },
  {
   "cell_type": "code",
   "execution_count": null,
   "metadata": {
    "colab": {},
    "colab_type": "code",
    "id": "QASTAuRbf_Vz"
   },
   "outputs": [],
   "source": [
    "dados_wine=pd.read_csv('winequality-red.csv',sep=\";\") #carregando os dados"
   ]
  },
  {
   "cell_type": "code",
   "execution_count": null,
   "metadata": {
    "colab": {
     "base_uri": "https://localhost:8080/",
     "height": 204
    },
    "colab_type": "code",
    "executionInfo": {
     "elapsed": 669,
     "status": "ok",
     "timestamp": 1591746415088,
     "user": {
      "displayName": "Giselle Silva",
      "photoUrl": "https://lh3.googleusercontent.com/a-/AOh14Ghw1WCpW9Q_9WLdA1gi-7ssprk6FMiSRivyisCC5LA=s64",
      "userId": "07908098511200809974"
     },
     "user_tz": 180
    },
    "id": "77z2zCGff_fY",
    "outputId": "a8c00fa8-abd0-42fd-db50-c26bdf8e215f"
   },
   "outputs": [
    {
     "data": {
      "text/html": [
       "<div>\n",
       "<style scoped>\n",
       "    .dataframe tbody tr th:only-of-type {\n",
       "        vertical-align: middle;\n",
       "    }\n",
       "\n",
       "    .dataframe tbody tr th {\n",
       "        vertical-align: top;\n",
       "    }\n",
       "\n",
       "    .dataframe thead th {\n",
       "        text-align: right;\n",
       "    }\n",
       "</style>\n",
       "<table border=\"1\" class=\"dataframe\">\n",
       "  <thead>\n",
       "    <tr style=\"text-align: right;\">\n",
       "      <th></th>\n",
       "      <th>fixed acidity</th>\n",
       "      <th>volatile acidity</th>\n",
       "      <th>citric acid</th>\n",
       "      <th>residual sugar</th>\n",
       "      <th>chlorides</th>\n",
       "      <th>free sulfur dioxide</th>\n",
       "      <th>total sulfur dioxide</th>\n",
       "      <th>density</th>\n",
       "      <th>pH</th>\n",
       "      <th>sulphates</th>\n",
       "      <th>alcohol</th>\n",
       "      <th>quality</th>\n",
       "    </tr>\n",
       "  </thead>\n",
       "  <tbody>\n",
       "    <tr>\n",
       "      <th>0</th>\n",
       "      <td>7.4</td>\n",
       "      <td>0.70</td>\n",
       "      <td>0.00</td>\n",
       "      <td>1.9</td>\n",
       "      <td>0.076</td>\n",
       "      <td>11.0</td>\n",
       "      <td>34.0</td>\n",
       "      <td>0.9978</td>\n",
       "      <td>3.51</td>\n",
       "      <td>0.56</td>\n",
       "      <td>9.4</td>\n",
       "      <td>5</td>\n",
       "    </tr>\n",
       "    <tr>\n",
       "      <th>1</th>\n",
       "      <td>7.8</td>\n",
       "      <td>0.88</td>\n",
       "      <td>0.00</td>\n",
       "      <td>2.6</td>\n",
       "      <td>0.098</td>\n",
       "      <td>25.0</td>\n",
       "      <td>67.0</td>\n",
       "      <td>0.9968</td>\n",
       "      <td>3.20</td>\n",
       "      <td>0.68</td>\n",
       "      <td>9.8</td>\n",
       "      <td>5</td>\n",
       "    </tr>\n",
       "    <tr>\n",
       "      <th>2</th>\n",
       "      <td>7.8</td>\n",
       "      <td>0.76</td>\n",
       "      <td>0.04</td>\n",
       "      <td>2.3</td>\n",
       "      <td>0.092</td>\n",
       "      <td>15.0</td>\n",
       "      <td>54.0</td>\n",
       "      <td>0.9970</td>\n",
       "      <td>3.26</td>\n",
       "      <td>0.65</td>\n",
       "      <td>9.8</td>\n",
       "      <td>5</td>\n",
       "    </tr>\n",
       "    <tr>\n",
       "      <th>3</th>\n",
       "      <td>11.2</td>\n",
       "      <td>0.28</td>\n",
       "      <td>0.56</td>\n",
       "      <td>1.9</td>\n",
       "      <td>0.075</td>\n",
       "      <td>17.0</td>\n",
       "      <td>60.0</td>\n",
       "      <td>0.9980</td>\n",
       "      <td>3.16</td>\n",
       "      <td>0.58</td>\n",
       "      <td>9.8</td>\n",
       "      <td>6</td>\n",
       "    </tr>\n",
       "    <tr>\n",
       "      <th>4</th>\n",
       "      <td>7.4</td>\n",
       "      <td>0.70</td>\n",
       "      <td>0.00</td>\n",
       "      <td>1.9</td>\n",
       "      <td>0.076</td>\n",
       "      <td>11.0</td>\n",
       "      <td>34.0</td>\n",
       "      <td>0.9978</td>\n",
       "      <td>3.51</td>\n",
       "      <td>0.56</td>\n",
       "      <td>9.4</td>\n",
       "      <td>5</td>\n",
       "    </tr>\n",
       "  </tbody>\n",
       "</table>\n",
       "</div>"
      ],
      "text/plain": [
       "   fixed acidity  volatile acidity  citric acid  ...  sulphates  alcohol  quality\n",
       "0            7.4              0.70         0.00  ...       0.56      9.4        5\n",
       "1            7.8              0.88         0.00  ...       0.68      9.8        5\n",
       "2            7.8              0.76         0.04  ...       0.65      9.8        5\n",
       "3           11.2              0.28         0.56  ...       0.58      9.8        6\n",
       "4            7.4              0.70         0.00  ...       0.56      9.4        5\n",
       "\n",
       "[5 rows x 12 columns]"
      ]
     },
     "execution_count": 74,
     "metadata": {
      "tags": []
     },
     "output_type": "execute_result"
    }
   ],
   "source": [
    "dados_wine.head()"
   ]
  },
  {
   "cell_type": "code",
   "execution_count": null,
   "metadata": {
    "colab": {
     "base_uri": "https://localhost:8080/",
     "height": 340
    },
    "colab_type": "code",
    "executionInfo": {
     "elapsed": 688,
     "status": "ok",
     "timestamp": 1591747160767,
     "user": {
      "displayName": "Giselle Silva",
      "photoUrl": "https://lh3.googleusercontent.com/a-/AOh14Ghw1WCpW9Q_9WLdA1gi-7ssprk6FMiSRivyisCC5LA=s64",
      "userId": "07908098511200809974"
     },
     "user_tz": 180
    },
    "id": "Rut6_lp9hgWr",
    "outputId": "1bae42ac-d635-485e-e452-e4e2bf9d8786"
   },
   "outputs": [
    {
     "name": "stdout",
     "output_type": "stream",
     "text": [
      "<class 'pandas.core.frame.DataFrame'>\n",
      "RangeIndex: 1599 entries, 0 to 1598\n",
      "Data columns (total 12 columns):\n",
      " #   Column                Non-Null Count  Dtype  \n",
      "---  ------                --------------  -----  \n",
      " 0   fixed acidity         1599 non-null   float64\n",
      " 1   volatile acidity      1599 non-null   float64\n",
      " 2   citric acid           1599 non-null   float64\n",
      " 3   residual sugar        1599 non-null   float64\n",
      " 4   chlorides             1599 non-null   float64\n",
      " 5   free sulfur dioxide   1599 non-null   float64\n",
      " 6   total sulfur dioxide  1599 non-null   float64\n",
      " 7   density               1599 non-null   float64\n",
      " 8   pH                    1599 non-null   float64\n",
      " 9   sulphates             1599 non-null   float64\n",
      " 10  alcohol               1599 non-null   float64\n",
      " 11  quality               1599 non-null   int64  \n",
      "dtypes: float64(11), int64(1)\n",
      "memory usage: 150.0 KB\n"
     ]
    }
   ],
   "source": [
    "dados_wine.info()"
   ]
  },
  {
   "cell_type": "code",
   "execution_count": null,
   "metadata": {
    "colab": {
     "base_uri": "https://localhost:8080/",
     "height": 238
    },
    "colab_type": "code",
    "executionInfo": {
     "elapsed": 673,
     "status": "ok",
     "timestamp": 1591747312643,
     "user": {
      "displayName": "Giselle Silva",
      "photoUrl": "https://lh3.googleusercontent.com/a-/AOh14Ghw1WCpW9Q_9WLdA1gi-7ssprk6FMiSRivyisCC5LA=s64",
      "userId": "07908098511200809974"
     },
     "user_tz": 180
    },
    "id": "4B3J9gV4g7et",
    "outputId": "63c1332a-9d23-4bb8-a5f9-e7b10dbaec4d"
   },
   "outputs": [
    {
     "data": {
      "text/plain": [
       "fixed acidity           0\n",
       "volatile acidity        0\n",
       "citric acid             0\n",
       "residual sugar          0\n",
       "chlorides               0\n",
       "free sulfur dioxide     0\n",
       "total sulfur dioxide    0\n",
       "density                 0\n",
       "pH                      0\n",
       "sulphates               0\n",
       "alcohol                 0\n",
       "quality                 0\n",
       "dtype: int64"
      ]
     },
     "execution_count": 9,
     "metadata": {
      "tags": []
     },
     "output_type": "execute_result"
    }
   ],
   "source": [
    "dados_wine.isnull().sum()"
   ]
  },
  {
   "cell_type": "code",
   "execution_count": null,
   "metadata": {
    "colab": {
     "base_uri": "https://localhost:8080/",
     "height": 34
    },
    "colab_type": "code",
    "executionInfo": {
     "elapsed": 691,
     "status": "ok",
     "timestamp": 1591747334059,
     "user": {
      "displayName": "Giselle Silva",
      "photoUrl": "https://lh3.googleusercontent.com/a-/AOh14Ghw1WCpW9Q_9WLdA1gi-7ssprk6FMiSRivyisCC5LA=s64",
      "userId": "07908098511200809974"
     },
     "user_tz": 180
    },
    "id": "pWye-Ae3iJV1",
    "outputId": "f7e45ac6-712a-4a2e-e051-102947e51071"
   },
   "outputs": [
    {
     "data": {
      "text/plain": [
       "(1599, 12)"
      ]
     },
     "execution_count": 10,
     "metadata": {
      "tags": []
     },
     "output_type": "execute_result"
    }
   ],
   "source": [
    "dados_wine.shape"
   ]
  },
  {
   "cell_type": "code",
   "execution_count": null,
   "metadata": {
    "colab": {
     "base_uri": "https://localhost:8080/",
     "height": 314
    },
    "colab_type": "code",
    "executionInfo": {
     "elapsed": 680,
     "status": "ok",
     "timestamp": 1591743814824,
     "user": {
      "displayName": "Giselle Silva",
      "photoUrl": "https://lh3.googleusercontent.com/a-/AOh14Ghw1WCpW9Q_9WLdA1gi-7ssprk6FMiSRivyisCC5LA=s64",
      "userId": "07908098511200809974"
     },
     "user_tz": 180
    },
    "id": "-Y_Bw8WZgzZZ",
    "outputId": "249a9881-45b2-4080-d3cc-b2018c4a46a1"
   },
   "outputs": [
    {
     "data": {
      "text/html": [
       "<div>\n",
       "<style scoped>\n",
       "    .dataframe tbody tr th:only-of-type {\n",
       "        vertical-align: middle;\n",
       "    }\n",
       "\n",
       "    .dataframe tbody tr th {\n",
       "        vertical-align: top;\n",
       "    }\n",
       "\n",
       "    .dataframe thead th {\n",
       "        text-align: right;\n",
       "    }\n",
       "</style>\n",
       "<table border=\"1\" class=\"dataframe\">\n",
       "  <thead>\n",
       "    <tr style=\"text-align: right;\">\n",
       "      <th></th>\n",
       "      <th>fixed acidity</th>\n",
       "      <th>volatile acidity</th>\n",
       "      <th>citric acid</th>\n",
       "      <th>residual sugar</th>\n",
       "      <th>chlorides</th>\n",
       "      <th>free sulfur dioxide</th>\n",
       "      <th>total sulfur dioxide</th>\n",
       "      <th>density</th>\n",
       "      <th>pH</th>\n",
       "      <th>sulphates</th>\n",
       "      <th>alcohol</th>\n",
       "      <th>quality</th>\n",
       "    </tr>\n",
       "  </thead>\n",
       "  <tbody>\n",
       "    <tr>\n",
       "      <th>count</th>\n",
       "      <td>1599.000000</td>\n",
       "      <td>1599.000000</td>\n",
       "      <td>1599.000000</td>\n",
       "      <td>1599.000000</td>\n",
       "      <td>1599.000000</td>\n",
       "      <td>1599.000000</td>\n",
       "      <td>1599.000000</td>\n",
       "      <td>1599.000000</td>\n",
       "      <td>1599.000000</td>\n",
       "      <td>1599.000000</td>\n",
       "      <td>1599.000000</td>\n",
       "      <td>1599.000000</td>\n",
       "    </tr>\n",
       "    <tr>\n",
       "      <th>mean</th>\n",
       "      <td>8.319637</td>\n",
       "      <td>0.527821</td>\n",
       "      <td>0.270976</td>\n",
       "      <td>2.538806</td>\n",
       "      <td>0.087467</td>\n",
       "      <td>15.874922</td>\n",
       "      <td>46.467792</td>\n",
       "      <td>0.996747</td>\n",
       "      <td>3.311113</td>\n",
       "      <td>0.658149</td>\n",
       "      <td>10.422983</td>\n",
       "      <td>5.636023</td>\n",
       "    </tr>\n",
       "    <tr>\n",
       "      <th>std</th>\n",
       "      <td>1.741096</td>\n",
       "      <td>0.179060</td>\n",
       "      <td>0.194801</td>\n",
       "      <td>1.409928</td>\n",
       "      <td>0.047065</td>\n",
       "      <td>10.460157</td>\n",
       "      <td>32.895324</td>\n",
       "      <td>0.001887</td>\n",
       "      <td>0.154386</td>\n",
       "      <td>0.169507</td>\n",
       "      <td>1.065668</td>\n",
       "      <td>0.807569</td>\n",
       "    </tr>\n",
       "    <tr>\n",
       "      <th>min</th>\n",
       "      <td>4.600000</td>\n",
       "      <td>0.120000</td>\n",
       "      <td>0.000000</td>\n",
       "      <td>0.900000</td>\n",
       "      <td>0.012000</td>\n",
       "      <td>1.000000</td>\n",
       "      <td>6.000000</td>\n",
       "      <td>0.990070</td>\n",
       "      <td>2.740000</td>\n",
       "      <td>0.330000</td>\n",
       "      <td>8.400000</td>\n",
       "      <td>3.000000</td>\n",
       "    </tr>\n",
       "    <tr>\n",
       "      <th>25%</th>\n",
       "      <td>7.100000</td>\n",
       "      <td>0.390000</td>\n",
       "      <td>0.090000</td>\n",
       "      <td>1.900000</td>\n",
       "      <td>0.070000</td>\n",
       "      <td>7.000000</td>\n",
       "      <td>22.000000</td>\n",
       "      <td>0.995600</td>\n",
       "      <td>3.210000</td>\n",
       "      <td>0.550000</td>\n",
       "      <td>9.500000</td>\n",
       "      <td>5.000000</td>\n",
       "    </tr>\n",
       "    <tr>\n",
       "      <th>50%</th>\n",
       "      <td>7.900000</td>\n",
       "      <td>0.520000</td>\n",
       "      <td>0.260000</td>\n",
       "      <td>2.200000</td>\n",
       "      <td>0.079000</td>\n",
       "      <td>14.000000</td>\n",
       "      <td>38.000000</td>\n",
       "      <td>0.996750</td>\n",
       "      <td>3.310000</td>\n",
       "      <td>0.620000</td>\n",
       "      <td>10.200000</td>\n",
       "      <td>6.000000</td>\n",
       "    </tr>\n",
       "    <tr>\n",
       "      <th>75%</th>\n",
       "      <td>9.200000</td>\n",
       "      <td>0.640000</td>\n",
       "      <td>0.420000</td>\n",
       "      <td>2.600000</td>\n",
       "      <td>0.090000</td>\n",
       "      <td>21.000000</td>\n",
       "      <td>62.000000</td>\n",
       "      <td>0.997835</td>\n",
       "      <td>3.400000</td>\n",
       "      <td>0.730000</td>\n",
       "      <td>11.100000</td>\n",
       "      <td>6.000000</td>\n",
       "    </tr>\n",
       "    <tr>\n",
       "      <th>max</th>\n",
       "      <td>15.900000</td>\n",
       "      <td>1.580000</td>\n",
       "      <td>1.000000</td>\n",
       "      <td>15.500000</td>\n",
       "      <td>0.611000</td>\n",
       "      <td>72.000000</td>\n",
       "      <td>289.000000</td>\n",
       "      <td>1.003690</td>\n",
       "      <td>4.010000</td>\n",
       "      <td>2.000000</td>\n",
       "      <td>14.900000</td>\n",
       "      <td>8.000000</td>\n",
       "    </tr>\n",
       "  </tbody>\n",
       "</table>\n",
       "</div>"
      ],
      "text/plain": [
       "       fixed acidity  volatile acidity  ...      alcohol      quality\n",
       "count    1599.000000       1599.000000  ...  1599.000000  1599.000000\n",
       "mean        8.319637          0.527821  ...    10.422983     5.636023\n",
       "std         1.741096          0.179060  ...     1.065668     0.807569\n",
       "min         4.600000          0.120000  ...     8.400000     3.000000\n",
       "25%         7.100000          0.390000  ...     9.500000     5.000000\n",
       "50%         7.900000          0.520000  ...    10.200000     6.000000\n",
       "75%         9.200000          0.640000  ...    11.100000     6.000000\n",
       "max        15.900000          1.580000  ...    14.900000     8.000000\n",
       "\n",
       "[8 rows x 12 columns]"
      ]
     },
     "execution_count": 11,
     "metadata": {
      "tags": []
     },
     "output_type": "execute_result"
    }
   ],
   "source": [
    "dados_wine.describe()"
   ]
  },
  {
   "cell_type": "code",
   "execution_count": null,
   "metadata": {
    "colab": {
     "base_uri": "https://localhost:8080/",
     "height": 68
    },
    "colab_type": "code",
    "executionInfo": {
     "elapsed": 1129,
     "status": "ok",
     "timestamp": 1591745366304,
     "user": {
      "displayName": "Giselle Silva",
      "photoUrl": "https://lh3.googleusercontent.com/a-/AOh14Ghw1WCpW9Q_9WLdA1gi-7ssprk6FMiSRivyisCC5LA=s64",
      "userId": "07908098511200809974"
     },
     "user_tz": 180
    },
    "id": "2h8Z2Wdzgzns",
    "outputId": "ea8b59ad-b6d6-4004-b9de-8b0d5664c45b"
   },
   "outputs": [
    {
     "name": "stdout",
     "output_type": "stream",
     "text": [
      "               fixed acidity        pH\n",
      "fixed acidity       1.000000 -0.682978\n",
      "pH                 -0.682978  1.000000\n"
     ]
    }
   ],
   "source": [
    "#Cálculo da correlação para as variáveis selecionadas\n",
    "dados_corr=dados_wine[['fixed acidity','pH']]\n",
    "corr=dados_corr.corr(method='pearson')\n",
    "print(corr)\n",
    "##corr.style.background_gradient(cmap='coolwarm')"
   ]
  },
  {
   "cell_type": "code",
   "execution_count": null,
   "metadata": {
    "colab": {
     "base_uri": "https://localhost:8080/",
     "height": 68
    },
    "colab_type": "code",
    "executionInfo": {
     "elapsed": 673,
     "status": "ok",
     "timestamp": 1591745435222,
     "user": {
      "displayName": "Giselle Silva",
      "photoUrl": "https://lh3.googleusercontent.com/a-/AOh14Ghw1WCpW9Q_9WLdA1gi-7ssprk6FMiSRivyisCC5LA=s64",
      "userId": "07908098511200809974"
     },
     "user_tz": 180
    },
    "id": "766Qij9ogzhe",
    "outputId": "f5ae6aa8-23b6-42df-aa81-c47825d47181"
   },
   "outputs": [
    {
     "name": "stdout",
     "output_type": "stream",
     "text": [
      "          quality   alcohol\n",
      "quality  1.000000  0.476166\n",
      "alcohol  0.476166  1.000000\n"
     ]
    }
   ],
   "source": [
    "dados_corr=dados_wine[['quality','alcohol']]\n",
    "corr=dados_corr.corr(method='pearson')\n",
    "print(corr)"
   ]
  },
  {
   "cell_type": "markdown",
   "metadata": {
    "colab_type": "text",
    "id": "Ufztwl45DI0L"
   },
   "source": [
    "## *Poderia ter feito assim tb:*\n",
    "\n",
    "df_vinhos[['fixed acidity', 'pH']].corr()\n",
    "\n",
    "df_vinhos[['quality', 'alcohol']].corr() \n",
    "\n",
    "## *Ou assim: Podemos usar também o método: *\n",
    "\n",
    "df['fixed acidity'].corr(df['pH']) para análise das 2 variaveis.\n",
    "\n"
   ]
  },
  {
   "cell_type": "markdown",
   "metadata": {
    "colab_type": "text",
    "id": "qi5nOpECDxs2"
   },
   "source": [
    "## *Outro método:*\n",
    "\n",
    "import seaborn as sn #biblioteca utilizada pra plotar os gráficos em um formato mais \"elegante\"\n",
    "### realizando o plot da matriz de correlação\n",
    "dtCorrel=dataset[[\"fixed acidity\", \"alcohol\"]]\n",
    "plt.figure(figsize=(10, 5))\n",
    "matriz_de_correlação = dtCorrel.corr()  #construindo a matriz de correlação\n",
    "sn.heatmap(matriz_de_correlação, annot=True,vmin=-1, vmax=1,center= 0)  #plotando a matriz de correlação com o seaborn\n",
    "plt.show()\n"
   ]
  },
  {
   "cell_type": "code",
   "execution_count": null,
   "metadata": {
    "colab": {
     "base_uri": "https://localhost:8080/",
     "height": 136
    },
    "colab_type": "code",
    "executionInfo": {
     "elapsed": 684,
     "status": "ok",
     "timestamp": 1591745565534,
     "user": {
      "displayName": "Giselle Silva",
      "photoUrl": "https://lh3.googleusercontent.com/a-/AOh14Ghw1WCpW9Q_9WLdA1gi-7ssprk6FMiSRivyisCC5LA=s64",
      "userId": "07908098511200809974"
     },
     "user_tz": 180
    },
    "id": "-WH5K5xfgzyD",
    "outputId": "8193349b-c150-4140-e72c-80f93cbd44ff"
   },
   "outputs": [
    {
     "data": {
      "text/plain": [
       "5    681\n",
       "6    638\n",
       "7    199\n",
       "4     53\n",
       "8     18\n",
       "3     10\n",
       "Name: quality, dtype: int64"
      ]
     },
     "execution_count": 28,
     "metadata": {
      "tags": []
     },
     "output_type": "execute_result"
    }
   ],
   "source": [
    "dados_wine['quality'].value_counts()  # ou colocando df[df[\"quality\"] == 5] no final para ter somente esta categoria"
   ]
  },
  {
   "cell_type": "markdown",
   "metadata": {
    "colab_type": "text",
    "id": "KEG8CUfJgjF4"
   },
   "source": [
    "**Preparando os dados para as modelagens**"
   ]
  },
  {
   "cell_type": "code",
   "execution_count": null,
   "metadata": {
    "colab": {},
    "colab_type": "code",
    "id": "KS0nX0ZSeaWX"
   },
   "outputs": [],
   "source": [
    "dados_wine.head()"
   ]
  },
  {
   "cell_type": "code",
   "execution_count": null,
   "metadata": {
    "colab": {},
    "colab_type": "code",
    "id": "HpwrjeZYbxu6"
   },
   "outputs": [],
   "source": [
    "#transforma os dados em array\n",
    "x = dados_wine.iloc[:, :-1].values  #dados de entrada\n",
    "y = dados_wine.iloc[:, 11].values  # saídas ou target  (quality)"
   ]
  },
  {
   "cell_type": "code",
   "execution_count": null,
   "metadata": {
    "colab": {
     "base_uri": "https://localhost:8080/",
     "height": 34
    },
    "colab_type": "code",
    "executionInfo": {
     "elapsed": 714,
     "status": "ok",
     "timestamp": 1591746470298,
     "user": {
      "displayName": "Giselle Silva",
      "photoUrl": "https://lh3.googleusercontent.com/a-/AOh14Ghw1WCpW9Q_9WLdA1gi-7ssprk6FMiSRivyisCC5LA=s64",
      "userId": "07908098511200809974"
     },
     "user_tz": 180
    },
    "id": "l9MbNzp_hJBs",
    "outputId": "243bc93a-60b6-4364-cca7-12e9bb57aa42"
   },
   "outputs": [
    {
     "data": {
      "text/plain": [
       "((1599, 11), (1599,))"
      ]
     },
     "execution_count": 79,
     "metadata": {
      "tags": []
     },
     "output_type": "execute_result"
    }
   ],
   "source": [
    "x.shape,y.shape"
   ]
  },
  {
   "cell_type": "code",
   "execution_count": null,
   "metadata": {
    "colab": {},
    "colab_type": "code",
    "id": "cm9lUt5Hbxcf"
   },
   "outputs": [],
   "source": [
    "from sklearn.preprocessing import MinMaxScaler  #aplicando a normalização dos dados\n",
    "scaler = MinMaxScaler(feature_range=(0, 1)) #cria o objeto que realiza a normalização dos dados por meio dos valores mínimos e máximos"
   ]
  },
  {
   "cell_type": "code",
   "execution_count": null,
   "metadata": {
    "colab": {},
    "colab_type": "code",
    "id": "EclU1CQJbx3T"
   },
   "outputs": [],
   "source": [
    "fa = dados_wine['fixed acidity'].values\n",
    "fa_norm = scaler.fit_transform(fa.reshape(-1, 1)) # aplica a escala"
   ]
  },
  {
   "cell_type": "code",
   "execution_count": null,
   "metadata": {
    "colab": {
     "base_uri": "https://localhost:8080/",
     "height": 34
    },
    "colab_type": "code",
    "executionInfo": {
     "elapsed": 784,
     "status": "ok",
     "timestamp": 1591745040905,
     "user": {
      "displayName": "Giselle Silva",
      "photoUrl": "https://lh3.googleusercontent.com/a-/AOh14Ghw1WCpW9Q_9WLdA1gi-7ssprk6FMiSRivyisCC5LA=s64",
      "userId": "07908098511200809974"
     },
     "user_tz": 180
    },
    "id": "QGmHKBgMZYhG",
    "outputId": "64b7de21-5dc9-447b-8f35-35f188de6398"
   },
   "outputs": [
    {
     "data": {
      "text/plain": [
       "array([0.])"
      ]
     },
     "execution_count": 58,
     "metadata": {
      "tags": []
     },
     "output_type": "execute_result"
    }
   ],
   "source": [
    "min(fa_norm)"
   ]
  },
  {
   "cell_type": "markdown",
   "metadata": {
    "colab_type": "text",
    "id": "DzIFgozjFmA7"
   },
   "source": [
    "## *poderia ter feito desta forma:*\n",
    "\n",
    "entradas_normalizadas[:,0].min()"
   ]
  },
  {
   "cell_type": "code",
   "execution_count": null,
   "metadata": {
    "colab": {},
    "colab_type": "code",
    "id": "1FhKo03OZYrH"
   },
   "outputs": [],
   "source": [
    "entradas_normalizadas = scaler.fit_transform(x.reshape(-11, 11)) # aplica a escala"
   ]
  },
  {
   "cell_type": "markdown",
   "metadata": {
    "colab_type": "text",
    "id": "nsv2h2cuGfHd"
   },
   "source": [
    "O algoritmo KNeighborsClassifier nao solicita que a variavel dependente seja de 2D. Neste caso a variável deve ser de 1D, por isso, nao precisa usar o reshape.\n",
    "https://scikit-learn.org/stable/modules/generated/sklearn.neighbors.KNeighborsClassifier.html\n"
   ]
  },
  {
   "cell_type": "code",
   "execution_count": null,
   "metadata": {
    "colab": {},
    "colab_type": "code",
    "id": "4Obu4Q3XZYxU"
   },
   "outputs": [],
   "source": [
    "from sklearn.model_selection import train_test_split   # função que realiza a divisão do dataset\n",
    "X_train, X_test, y_train, y_test = train_test_split(entradas_normalizadas, y, test_size=0.30, random_state=1)"
   ]
  },
  {
   "cell_type": "code",
   "execution_count": null,
   "metadata": {
    "colab": {
     "base_uri": "https://localhost:8080/",
     "height": 34
    },
    "colab_type": "code",
    "executionInfo": {
     "elapsed": 662,
     "status": "ok",
     "timestamp": 1591746516374,
     "user": {
      "displayName": "Giselle Silva",
      "photoUrl": "https://lh3.googleusercontent.com/a-/AOh14Ghw1WCpW9Q_9WLdA1gi-7ssprk6FMiSRivyisCC5LA=s64",
      "userId": "07908098511200809974"
     },
     "user_tz": 180
    },
    "id": "Sh13WEtAZ3Ww",
    "outputId": "85410a7b-1667-4bde-a76b-1e51c518d508"
   },
   "outputs": [
    {
     "data": {
      "text/plain": [
       "((1119, 11), (1119,), (480, 11), (480,))"
      ]
     },
     "execution_count": 83,
     "metadata": {
      "tags": []
     },
     "output_type": "execute_result"
    }
   ],
   "source": [
    "X_train.shape,y_train.shape, X_test.shape, y_test.shape"
   ]
  },
  {
   "cell_type": "markdown",
   "metadata": {
    "colab_type": "text",
    "id": "p0IJXITAbe1v"
   },
   "source": [
    "**Modelo KNN**"
   ]
  },
  {
   "cell_type": "code",
   "execution_count": null,
   "metadata": {
    "colab": {},
    "colab_type": "code",
    "id": "yXbuCenOZ3dK"
   },
   "outputs": [],
   "source": [
    "#importando as bibliotecas \n",
    "import pylab as pl # utilizado para plotar os gráficos\n",
    "from sklearn import neighbors  #biblioteca do KNN e de conjunto de dados (dataset)"
   ]
  },
  {
   "cell_type": "code",
   "execution_count": null,
   "metadata": {
    "colab": {
     "base_uri": "https://localhost:8080/",
     "height": 68
    },
    "colab_type": "code",
    "executionInfo": {
     "elapsed": 660,
     "status": "ok",
     "timestamp": 1591745559225,
     "user": {
      "displayName": "Giselle Silva",
      "photoUrl": "https://lh3.googleusercontent.com/a-/AOh14Ghw1WCpW9Q_9WLdA1gi-7ssprk6FMiSRivyisCC5LA=s64",
      "userId": "07908098511200809974"
     },
     "user_tz": 180
    },
    "id": "RVYqjFJWcPHr",
    "outputId": "c43c806d-1759-4c07-cebe-88b5918706ee"
   },
   "outputs": [
    {
     "data": {
      "text/plain": [
       "KNeighborsClassifier(algorithm='auto', leaf_size=30, metric='minkowski',\n",
       "                     metric_params=None, n_jobs=None, n_neighbors=5, p=2,\n",
       "                     weights='uniform')"
      ]
     },
     "execution_count": 115,
     "metadata": {
      "tags": []
     },
     "output_type": "execute_result"
    }
   ],
   "source": [
    "#treina o modelo \n",
    "from sklearn.neighbors import KNeighborsClassifier\n",
    "clf_KNN = KNeighborsClassifier(n_neighbors=5) #utiliza a construção por meio de 5 vizinhos\n",
    "clf_KNN.fit(X_train, y_train) # aplica a classificação"
   ]
  },
  {
   "cell_type": "code",
   "execution_count": null,
   "metadata": {
    "colab": {},
    "colab_type": "code",
    "id": "0DvLpSh5Z3jy"
   },
   "outputs": [],
   "source": [
    "#realiza a previsão com os dados de teste\n",
    "y_pred_KNN = clf_KNN.predict(X_test) "
   ]
  },
  {
   "cell_type": "code",
   "execution_count": null,
   "metadata": {
    "colab": {
     "base_uri": "https://localhost:8080/",
     "height": 34
    },
    "colab_type": "code",
    "executionInfo": {
     "elapsed": 804,
     "status": "ok",
     "timestamp": 1591745566449,
     "user": {
      "displayName": "Giselle Silva",
      "photoUrl": "https://lh3.googleusercontent.com/a-/AOh14Ghw1WCpW9Q_9WLdA1gi-7ssprk6FMiSRivyisCC5LA=s64",
      "userId": "07908098511200809974"
     },
     "user_tz": 180
    },
    "id": "3VPilZRVfJdJ",
    "outputId": "cb53dd21-291a-48ed-ad6f-53b23afc8407"
   },
   "outputs": [
    {
     "name": "stdout",
     "output_type": "stream",
     "text": [
      "Acurácia do KNN:  0.5645833333333333\n"
     ]
    }
   ],
   "source": [
    "acuracia_KNN = accuracy_score(y_test, y_pred_KNN)\n",
    "print('Acurácia do KNN: ',acuracia_KNN)"
   ]
  },
  {
   "cell_type": "markdown",
   "metadata": {
    "colab_type": "text",
    "id": "NmR7j3WWfsTH"
   },
   "source": [
    "**ARVORE DE DECISÃO**"
   ]
  },
  {
   "cell_type": "code",
   "execution_count": null,
   "metadata": {
    "colab": {},
    "colab_type": "code",
    "id": "DEN0CjbvfJkK"
   },
   "outputs": [],
   "source": [
    "from sklearn.tree import DecisionTreeClassifier # importa o classificador árvore de decisão\n",
    "from sklearn import metrics #importa as métricas para avaliaçãon de modelos"
   ]
  },
  {
   "cell_type": "code",
   "execution_count": null,
   "metadata": {
    "colab": {},
    "colab_type": "code",
    "id": "VgZmlZphf46F"
   },
   "outputs": [],
   "source": [
    "# Cria o objeto de classificação através\n",
    "clf_AD = DecisionTreeClassifier()\n",
    "\n",
    "# Realiza o treinamento do classificador\n",
    "clf_AD = clf_AD.fit(X_train,y_train)\n",
    "\n",
    "#Realiza a previsão de classificaçao \n",
    "y_pred_AD = clf_AD.predict(X_test)"
   ]
  },
  {
   "cell_type": "code",
   "execution_count": null,
   "metadata": {
    "colab": {
     "base_uri": "https://localhost:8080/",
     "height": 34
    },
    "colab_type": "code",
    "executionInfo": {
     "elapsed": 825,
     "status": "ok",
     "timestamp": 1591745590088,
     "user": {
      "displayName": "Giselle Silva",
      "photoUrl": "https://lh3.googleusercontent.com/a-/AOh14Ghw1WCpW9Q_9WLdA1gi-7ssprk6FMiSRivyisCC5LA=s64",
      "userId": "07908098511200809974"
     },
     "user_tz": 180
    },
    "id": "yI1dRR0xgHv3",
    "outputId": "b9491ee2-5bdf-497d-84e8-68702365edef"
   },
   "outputs": [
    {
     "name": "stdout",
     "output_type": "stream",
     "text": [
      "Acurácia da Árvore de Decisão:  0.5833333333333334\n"
     ]
    }
   ],
   "source": [
    "acuracia_AD = accuracy_score(y_test, y_pred_AD)\n",
    "print('Acurácia da Árvore de Decisão: ',acuracia_AD)"
   ]
  },
  {
   "cell_type": "markdown",
   "metadata": {
    "colab_type": "text",
    "id": "b7atQV7VVcc5"
   },
   "source": [
    "**Random Forest**"
   ]
  },
  {
   "cell_type": "code",
   "execution_count": null,
   "metadata": {
    "colab": {},
    "colab_type": "code",
    "id": "C4RCOc4-fJqE"
   },
   "outputs": [],
   "source": [
    "clf_forest = RandomForestClassifier(max_depth=10, random_state=1)\n",
    "clf_forest = clf_forest.fit(X_train,y_train)"
   ]
  },
  {
   "cell_type": "code",
   "execution_count": null,
   "metadata": {
    "colab": {},
    "colab_type": "code",
    "id": "_EoT0Xf3VHSB"
   },
   "outputs": [],
   "source": [
    "#Realiza a previsão de classificaçao \n",
    "y_pred_forest = clf_forest.predict(X_test)"
   ]
  },
  {
   "cell_type": "code",
   "execution_count": null,
   "metadata": {
    "colab": {
     "base_uri": "https://localhost:8080/",
     "height": 34
    },
    "colab_type": "code",
    "executionInfo": {
     "elapsed": 661,
     "status": "ok",
     "timestamp": 1591745623501,
     "user": {
      "displayName": "Giselle Silva",
      "photoUrl": "https://lh3.googleusercontent.com/a-/AOh14Ghw1WCpW9Q_9WLdA1gi-7ssprk6FMiSRivyisCC5LA=s64",
      "userId": "07908098511200809974"
     },
     "user_tz": 180
    },
    "id": "PPEEOB-xVHZZ",
    "outputId": "671dce2b-4ece-440f-a6c3-4623613af722"
   },
   "outputs": [
    {
     "name": "stdout",
     "output_type": "stream",
     "text": [
      "Acurácia do Random Forest:  0.6791666666666667\n"
     ]
    }
   ],
   "source": [
    "acuracia_forest = accuracy_score(y_test, y_pred_forest)\n",
    "print('Acurácia do Random Forest: ',acuracia_forest)"
   ]
  },
  {
   "cell_type": "markdown",
   "metadata": {
    "colab_type": "text",
    "id": "xQvwbTIKXnVK"
   },
   "source": [
    "**Algoritmo SVM**\n"
   ]
  },
  {
   "cell_type": "code",
   "execution_count": null,
   "metadata": {
    "colab": {},
    "colab_type": "code",
    "id": "IRQixU17XTva"
   },
   "outputs": [],
   "source": [
    "clf_svm=SVC(gamma='auto',kernel='rbf')\n",
    "clf_svm = clf_svm.fit(X_train,y_train)\n",
    "\n",
    "#Realiza a previsão de classificaçao \n",
    "y_pred_svm = clf_svm.predict(X_test)"
   ]
  },
  {
   "cell_type": "code",
   "execution_count": null,
   "metadata": {
    "colab": {
     "base_uri": "https://localhost:8080/",
     "height": 34
    },
    "colab_type": "code",
    "executionInfo": {
     "elapsed": 632,
     "status": "ok",
     "timestamp": 1591745659017,
     "user": {
      "displayName": "Giselle Silva",
      "photoUrl": "https://lh3.googleusercontent.com/a-/AOh14Ghw1WCpW9Q_9WLdA1gi-7ssprk6FMiSRivyisCC5LA=s64",
      "userId": "07908098511200809974"
     },
     "user_tz": 180
    },
    "id": "h6nFhxxqZkkN",
    "outputId": "38de9ea0-1df3-4cbf-d057-3d029fa2a2c2"
   },
   "outputs": [
    {
     "name": "stdout",
     "output_type": "stream",
     "text": [
      "Acurácia do SVM:  0.5854166666666667\n"
     ]
    }
   ],
   "source": [
    "acuracia_svm = accuracy_score(y_test, y_pred_svm)\n",
    "print('Acurácia do SVM: ',acuracia_svm)"
   ]
  },
  {
   "cell_type": "markdown",
   "metadata": {
    "colab_type": "text",
    "id": "hUtUQhbuXs_X"
   },
   "source": [
    "**Algoritmo Rede MLP**"
   ]
  },
  {
   "cell_type": "code",
   "execution_count": null,
   "metadata": {
    "colab": {
     "base_uri": "https://localhost:8080/",
     "height": 71
    },
    "colab_type": "code",
    "executionInfo": {
     "elapsed": 1406,
     "status": "ok",
     "timestamp": 1591745688466,
     "user": {
      "displayName": "Giselle Silva",
      "photoUrl": "https://lh3.googleusercontent.com/a-/AOh14Ghw1WCpW9Q_9WLdA1gi-7ssprk6FMiSRivyisCC5LA=s64",
      "userId": "07908098511200809974"
     },
     "user_tz": 180
    },
    "id": "egE5V6vDZkkC",
    "outputId": "e9c207f8-28dd-40c8-9e2a-bfaf1b21c7d4"
   },
   "outputs": [
    {
     "name": "stderr",
     "output_type": "stream",
     "text": [
      "/usr/local/lib/python3.6/dist-packages/sklearn/neural_network/_multilayer_perceptron.py:571: ConvergenceWarning: Stochastic Optimizer: Maximum iterations (200) reached and the optimization hasn't converged yet.\n",
      "  % self.max_iter, ConvergenceWarning)\n"
     ]
    }
   ],
   "source": [
    "#definição da biblioteca\n",
    "from sklearn.neural_network import MLPClassifier\n",
    "\n",
    "clf_mlp = MLPClassifier( alpha=1e-5, hidden_layer_sizes=(5, 5), random_state=1)\n",
    "clf_mlp = clf_mlp.fit(X_train,y_train)\n",
    "\n",
    "#Realiza a previsão de classificaçao \n",
    "y_pred_mlp = clf_mlp.predict(X_test)"
   ]
  },
  {
   "cell_type": "code",
   "execution_count": null,
   "metadata": {
    "colab": {
     "base_uri": "https://localhost:8080/",
     "height": 34
    },
    "colab_type": "code",
    "executionInfo": {
     "elapsed": 676,
     "status": "ok",
     "timestamp": 1591745690955,
     "user": {
      "displayName": "Giselle Silva",
      "photoUrl": "https://lh3.googleusercontent.com/a-/AOh14Ghw1WCpW9Q_9WLdA1gi-7ssprk6FMiSRivyisCC5LA=s64",
      "userId": "07908098511200809974"
     },
     "user_tz": 180
    },
    "id": "TcpOCymKXT0v",
    "outputId": "94b1405a-6255-46e4-daaa-6f93dc523462"
   },
   "outputs": [
    {
     "name": "stdout",
     "output_type": "stream",
     "text": [
      "Acurácia do MLP:  0.6\n"
     ]
    }
   ],
   "source": [
    "acuracia_mlp = accuracy_score(y_test, y_pred_mlp)\n",
    "print('Acurácia do MLP: ',acuracia_mlp)"
   ]
  },
  {
   "cell_type": "markdown",
   "metadata": {
    "colab_type": "text",
    "id": "zlKWGZrifFO6"
   },
   "source": [
    "**Alterando a saída para binária e aplicando o Random Forest**"
   ]
  },
  {
   "cell_type": "code",
   "execution_count": null,
   "metadata": {
    "colab": {
     "base_uri": "https://localhost:8080/",
     "height": 68
    },
    "colab_type": "code",
    "executionInfo": {
     "elapsed": 606,
     "status": "ok",
     "timestamp": 1591791791269,
     "user": {
      "displayName": "Giselle Silva",
      "photoUrl": "https://lh3.googleusercontent.com/a-/AOh14Ghw1WCpW9Q_9WLdA1gi-7ssprk6FMiSRivyisCC5LA=s64",
      "userId": "07908098511200809974"
     },
     "user_tz": 180
    },
    "id": "e6FqDS1-YtjB",
    "outputId": "30d25487-681a-445c-d702-dbcf092237dd"
   },
   "outputs": [
    {
     "data": {
      "text/plain": [
       "1    855\n",
       "0    744\n",
       "Name: quality_bin, dtype: int64"
      ]
     },
     "execution_count": 11,
     "metadata": {
      "tags": []
     },
     "output_type": "execute_result"
    }
   ],
   "source": [
    "dados_wine['quality_bin']=dados_wine['quality'].replace({6:1,7:1,8:1,3:0,4:0,5:0})\n",
    "dados_wine['quality_bin'].value_counts()"
   ]
  },
  {
   "cell_type": "code",
   "execution_count": null,
   "metadata": {
    "colab": {},
    "colab_type": "code",
    "id": "61KvoOeAXT7d"
   },
   "outputs": [],
   "source": [
    "dados_wine.head()"
   ]
  },
  {
   "cell_type": "markdown",
   "metadata": {
    "colab_type": "text",
    "id": "8LzcJIG0Mz2s"
   },
   "source": [
    "Preparando os dados com a nova saída"
   ]
  },
  {
   "cell_type": "code",
   "execution_count": null,
   "metadata": {
    "colab": {},
    "colab_type": "code",
    "id": "j0ppIdV0M5tL"
   },
   "outputs": [],
   "source": [
    "#transforma os dados em array\n",
    "x = dados_wine.iloc[:, :-2].values  #dados de entrada\n",
    "y_bin = dados_wine.iloc[:, 12].values  # saídas ou target  (quality)"
   ]
  },
  {
   "cell_type": "code",
   "execution_count": null,
   "metadata": {
    "colab": {
     "base_uri": "https://localhost:8080/",
     "height": 34
    },
    "colab_type": "code",
    "executionInfo": {
     "elapsed": 598,
     "status": "ok",
     "timestamp": 1591792318014,
     "user": {
      "displayName": "Giselle Silva",
      "photoUrl": "https://lh3.googleusercontent.com/a-/AOh14Ghw1WCpW9Q_9WLdA1gi-7ssprk6FMiSRivyisCC5LA=s64",
      "userId": "07908098511200809974"
     },
     "user_tz": 180
    },
    "id": "yE1qZDWiM5tR",
    "outputId": "eafdd9e7-7dd0-464c-cbfa-144cde91e1b0"
   },
   "outputs": [
    {
     "data": {
      "text/plain": [
       "((1599, 11), (1599,))"
      ]
     },
     "execution_count": 26,
     "metadata": {
      "tags": []
     },
     "output_type": "execute_result"
    }
   ],
   "source": [
    "x.shape,y_bin.shape"
   ]
  },
  {
   "cell_type": "code",
   "execution_count": null,
   "metadata": {
    "colab": {},
    "colab_type": "code",
    "id": "TCdW-0t1M5tX"
   },
   "outputs": [],
   "source": [
    "from sklearn.preprocessing import MinMaxScaler  #aplicando a normalização dos dados\n",
    "scaler = MinMaxScaler(feature_range=(0, 1)) #cria o objeto que realiza a normalização dos dados por meio dos valores mínimos e máximos"
   ]
  },
  {
   "cell_type": "code",
   "execution_count": null,
   "metadata": {
    "colab": {},
    "colab_type": "code",
    "id": "c0N_OY0lM5tl"
   },
   "outputs": [],
   "source": [
    "entradas_normalizadas = scaler.fit_transform(x.reshape(-11, 11)) # aplica a escala"
   ]
  },
  {
   "cell_type": "code",
   "execution_count": null,
   "metadata": {
    "colab": {},
    "colab_type": "code",
    "id": "2ra2rJKSM5tw"
   },
   "outputs": [],
   "source": [
    "from sklearn.model_selection import train_test_split   # função que realiza a divisão do dataset\n",
    "X_train, X_test, y_bin_train, y_bin_test = train_test_split(entradas_normalizadas, y_bin, test_size=0.30, random_state=1)"
   ]
  },
  {
   "cell_type": "code",
   "execution_count": null,
   "metadata": {
    "colab": {
     "base_uri": "https://localhost:8080/",
     "height": 34
    },
    "colab_type": "code",
    "executionInfo": {
     "elapsed": 529,
     "status": "ok",
     "timestamp": 1591792327389,
     "user": {
      "displayName": "Giselle Silva",
      "photoUrl": "https://lh3.googleusercontent.com/a-/AOh14Ghw1WCpW9Q_9WLdA1gi-7ssprk6FMiSRivyisCC5LA=s64",
      "userId": "07908098511200809974"
     },
     "user_tz": 180
    },
    "id": "FCfSjdYAM5t1",
    "outputId": "38b43df2-72c3-4420-e29c-fd618659eda1"
   },
   "outputs": [
    {
     "data": {
      "text/plain": [
       "((1119, 11), (1119,), (480, 11), (480,))"
      ]
     },
     "execution_count": 30,
     "metadata": {
      "tags": []
     },
     "output_type": "execute_result"
    }
   ],
   "source": [
    "X_train.shape,y_bin_train.shape, X_test.shape, y_bin_test.shape"
   ]
  },
  {
   "cell_type": "markdown",
   "metadata": {
    "colab_type": "text",
    "id": "Our5O37eMiCO"
   },
   "source": [
    "**Random Forest com saída binária**"
   ]
  },
  {
   "cell_type": "code",
   "execution_count": null,
   "metadata": {
    "colab": {},
    "colab_type": "code",
    "id": "KPwdc6LHMhAs"
   },
   "outputs": [],
   "source": [
    "clf_forest_bin = RandomForestClassifier(max_depth=10, random_state=1)\n",
    "clf_forest_bin = clf_forest_bin.fit(X_train,y_bin_train)"
   ]
  },
  {
   "cell_type": "code",
   "execution_count": null,
   "metadata": {
    "colab": {},
    "colab_type": "code",
    "id": "9C-OCj-mMhA1"
   },
   "outputs": [],
   "source": [
    "#Realiza a previsão de classificaçao \n",
    "y_bin_pred_forest = clf_forest_bin.predict(X_test)"
   ]
  },
  {
   "cell_type": "code",
   "execution_count": null,
   "metadata": {
    "colab": {
     "base_uri": "https://localhost:8080/",
     "height": 34
    },
    "colab_type": "code",
    "executionInfo": {
     "elapsed": 785,
     "status": "ok",
     "timestamp": 1591792490300,
     "user": {
      "displayName": "Giselle Silva",
      "photoUrl": "https://lh3.googleusercontent.com/a-/AOh14Ghw1WCpW9Q_9WLdA1gi-7ssprk6FMiSRivyisCC5LA=s64",
      "userId": "07908098511200809974"
     },
     "user_tz": 180
    },
    "id": "ca_Arme-MhA6",
    "outputId": "b0365a15-b375-4141-9c65-d5b8c3e1b56a"
   },
   "outputs": [
    {
     "name": "stdout",
     "output_type": "stream",
     "text": [
      "Acurácia do Random Forest (saída binária):  0.8041666666666667\n"
     ]
    }
   ],
   "source": [
    "acuracia_forest_bin = accuracy_score(y_bin_test, y_bin_pred_forest)\n",
    "print('Acurácia do Random Forest (saída binária): ',acuracia_forest_bin)"
   ]
  }
 ],
 "metadata": {
  "colab": {
   "authorship_tag": "ABX9TyP7bPcTSXo5k9vtCpuC0xR7",
   "name": "Desafio_Mod2.ipynb",
   "provenance": []
  },
  "kernelspec": {
   "display_name": "Python 3",
   "language": "python",
   "name": "python3"
  },
  "language_info": {
   "codemirror_mode": {
    "name": "ipython",
    "version": 3
   },
   "file_extension": ".py",
   "mimetype": "text/x-python",
   "name": "python",
   "nbconvert_exporter": "python",
   "pygments_lexer": "ipython3",
   "version": "3.8.3"
  }
 },
 "nbformat": 4,
 "nbformat_minor": 4
}
