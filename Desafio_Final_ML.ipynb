{
 "cells": [
  {
   "cell_type": "markdown",
   "metadata": {
    "colab_type": "text",
    "id": "-5TZH9L-ltOh"
   },
   "source": [
    "**DESAFIO FINAL BOOTCAMP ANALISTA DE MACHINE LEARNING**"
   ]
  },
  {
   "cell_type": "raw",
   "metadata": {},
   "source": [
    "Objetivos:\n",
    "\n",
    "Exercitar os seguintes conceitos trabalhados no Bootcamp:\n",
    "- Pré-processamento dos dados.\n",
    "- Detecção de anomalias.\n",
    "- Processamento dos dados.\n",
    "- Correlações.\n",
    "- Redução da dimensionalidade.\n",
    "- Algoritmos supervisionados e não supervisionados.\n",
    "\n",
    "Enunciado:\n",
    "Para todo engenheiro de Machine Learning é fundamental que todos os sete passos para construção de uma solução sejam seguidos. Nesse sentido, saber percorrer todas essas etapas e, ao final, identificar a melhor estratégia, é papel primordial para esse profissional.\n",
    "Neste desafio final vamos empregar boa parte dos conceitos mostrados no decorrer de todos os módulos do bootcamp para a análise e classificação de veículos, do conhecido dataset “cars”. Esse dataset contém um conjunto de informações sobre vários veículos pesquisados. Existem dados, por exemplo, sobre a potência do veículo, sobre a origem e cilindradas cúbicas.\n",
    "Para essa análise vamos empregar os conceitos de redução da dimensionalidade com o PCA, clusterização com o K-Means e classificações com algoritmos supervisionados."
   ]
  },
  {
   "cell_type": "code",
   "execution_count": null,
   "metadata": {
    "colab": {},
    "colab_type": "code",
    "id": "J69EhPxujtMt"
   },
   "outputs": [],
   "source": [
    "import pandas as pd #biblioteca utilizada para o tratamento de dados via dataframes \n",
    "import numpy as np #biblioteca utilizada para o tratamento de valores numéricos (vetores e matrizes)\n",
    "import seaborn as sns #biblioteca utilizada para criar gráficos mais \"bonitos\"\n",
    "import matplotlib.pyplot as plt #biblioteca para criar gráficos \"comuns\" ao estilo Matlab\n",
    "import google"
   ]
  },
  {
   "cell_type": "code",
   "execution_count": null,
   "metadata": {
    "colab": {
     "base_uri": "https://localhost:8080/",
     "height": 72,
     "resources": {
      "http://localhost:8080/nbextensions/google.colab/files.js": {
       "data": "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",
       "headers": [
        [
         "content-type",
         "application/javascript"
        ]
       ],
       "ok": true,
       "status": 200,
       "status_text": ""
      }
     }
    },
    "colab_type": "code",
    "executionInfo": {
     "elapsed": 8111,
     "status": "ok",
     "timestamp": 1595029344026,
     "user": {
      "displayName": "Giselle Silva",
      "photoUrl": "https://lh3.googleusercontent.com/a-/AOh14Gh3X37qk8ArY-wrAsV32hHxnkYojVI5XaMfvOw5MSE=s64",
      "userId": "07908098511200809974"
     },
     "user_tz": 180
    },
    "id": "IuhCozPjmFqc",
    "outputId": "6d9781fe-7abb-4d8e-b45b-10fa2f5de6ca"
   },
   "outputs": [
    {
     "data": {
      "text/html": [
       "\n",
       "     <input type=\"file\" id=\"files-f215f80f-6463-402e-a604-a760eab720d4\" name=\"files[]\" multiple disabled\n",
       "        style=\"border:none\" />\n",
       "     <output id=\"result-f215f80f-6463-402e-a604-a760eab720d4\">\n",
       "      Upload widget is only available when the cell has been executed in the\n",
       "      current browser session. Please rerun this cell to enable.\n",
       "      </output>\n",
       "      <script src=\"/nbextensions/google.colab/files.js\"></script> "
      ],
      "text/plain": [
       "<IPython.core.display.HTML object>"
      ]
     },
     "metadata": {
      "tags": []
     },
     "output_type": "display_data"
    },
    {
     "name": "stdout",
     "output_type": "stream",
     "text": [
      "Saving cars.csv to cars.csv\n"
     ]
    }
   ],
   "source": [
    "from google.colab import files  #biblioteca utilizada para carregar os dados para o google colab\n",
    "uploaded = files.upload()\n",
    "# arquivo de dados: cars.csv"
   ]
  },
  {
   "cell_type": "code",
   "execution_count": null,
   "metadata": {
    "colab": {},
    "colab_type": "code",
    "id": "3i84G54FmnhD"
   },
   "outputs": [],
   "source": [
    "#realizando a leitura do arquivo (dataset)\n",
    "nome_do_arquivo=\"cars.csv\"\n",
    "dataset_cars= pd.read_csv(nome_do_arquivo)"
   ]
  },
  {
   "cell_type": "markdown",
   "metadata": {
    "colab_type": "text",
    "id": "bLmqozt8m8W8"
   },
   "source": [
    "***Pré-processamento dos dados***"
   ]
  },
  {
   "cell_type": "code",
   "execution_count": null,
   "metadata": {
    "colab": {
     "base_uri": "https://localhost:8080/",
     "height": 204
    },
    "colab_type": "code",
    "executionInfo": {
     "elapsed": 909,
     "status": "ok",
     "timestamp": 1594957764820,
     "user": {
      "displayName": "Giselle Silva",
      "photoUrl": "https://lh3.googleusercontent.com/a-/AOh14Gh3X37qk8ArY-wrAsV32hHxnkYojVI5XaMfvOw5MSE=s64",
      "userId": "07908098511200809974"
     },
     "user_tz": 180
    },
    "id": "VjPNtv7Rm6_l",
    "outputId": "446b0f71-b4b6-4ef4-b172-6ffdfb232e38"
   },
   "outputs": [
    {
     "data": {
      "text/html": [
       "<div>\n",
       "<style scoped>\n",
       "    .dataframe tbody tr th:only-of-type {\n",
       "        vertical-align: middle;\n",
       "    }\n",
       "\n",
       "    .dataframe tbody tr th {\n",
       "        vertical-align: top;\n",
       "    }\n",
       "\n",
       "    .dataframe thead th {\n",
       "        text-align: right;\n",
       "    }\n",
       "</style>\n",
       "<table border=\"1\" class=\"dataframe\">\n",
       "  <thead>\n",
       "    <tr style=\"text-align: right;\">\n",
       "      <th></th>\n",
       "      <th>mpg</th>\n",
       "      <th>cylinders</th>\n",
       "      <th>cubicinches</th>\n",
       "      <th>hp</th>\n",
       "      <th>weightlbs</th>\n",
       "      <th>time-to-60</th>\n",
       "      <th>year</th>\n",
       "      <th>brand</th>\n",
       "    </tr>\n",
       "  </thead>\n",
       "  <tbody>\n",
       "    <tr>\n",
       "      <th>0</th>\n",
       "      <td>14.0</td>\n",
       "      <td>8</td>\n",
       "      <td>350</td>\n",
       "      <td>165</td>\n",
       "      <td>4209</td>\n",
       "      <td>12</td>\n",
       "      <td>1972</td>\n",
       "      <td>US.</td>\n",
       "    </tr>\n",
       "    <tr>\n",
       "      <th>1</th>\n",
       "      <td>31.9</td>\n",
       "      <td>4</td>\n",
       "      <td>89</td>\n",
       "      <td>71</td>\n",
       "      <td>1925</td>\n",
       "      <td>14</td>\n",
       "      <td>1980</td>\n",
       "      <td>Europe.</td>\n",
       "    </tr>\n",
       "    <tr>\n",
       "      <th>2</th>\n",
       "      <td>17.0</td>\n",
       "      <td>8</td>\n",
       "      <td>302</td>\n",
       "      <td>140</td>\n",
       "      <td>3449</td>\n",
       "      <td>11</td>\n",
       "      <td>1971</td>\n",
       "      <td>US.</td>\n",
       "    </tr>\n",
       "    <tr>\n",
       "      <th>3</th>\n",
       "      <td>15.0</td>\n",
       "      <td>8</td>\n",
       "      <td>400</td>\n",
       "      <td>150</td>\n",
       "      <td>3761</td>\n",
       "      <td>10</td>\n",
       "      <td>1971</td>\n",
       "      <td>US.</td>\n",
       "    </tr>\n",
       "    <tr>\n",
       "      <th>4</th>\n",
       "      <td>30.5</td>\n",
       "      <td>4</td>\n",
       "      <td>98</td>\n",
       "      <td>63</td>\n",
       "      <td>2051</td>\n",
       "      <td>17</td>\n",
       "      <td>1978</td>\n",
       "      <td>US.</td>\n",
       "    </tr>\n",
       "  </tbody>\n",
       "</table>\n",
       "</div>"
      ],
      "text/plain": [
       "    mpg  cylinders cubicinches   hp weightlbs  time-to-60  year     brand\n",
       "0  14.0          8         350  165      4209          12  1972       US.\n",
       "1  31.9          4          89   71      1925          14  1980   Europe.\n",
       "2  17.0          8         302  140      3449          11  1971       US.\n",
       "3  15.0          8         400  150      3761          10  1971       US.\n",
       "4  30.5          4          98   63      2051          17  1978       US."
      ]
     },
     "execution_count": 5,
     "metadata": {
      "tags": []
     },
     "output_type": "execute_result"
    }
   ],
   "source": [
    "dataset_cars.head()"
   ]
  },
  {
   "cell_type": "code",
   "execution_count": null,
   "metadata": {
    "colab": {
     "base_uri": "https://localhost:8080/",
     "height": 272
    },
    "colab_type": "code",
    "executionInfo": {
     "elapsed": 900,
     "status": "ok",
     "timestamp": 1594957764824,
     "user": {
      "displayName": "Giselle Silva",
      "photoUrl": "https://lh3.googleusercontent.com/a-/AOh14Gh3X37qk8ArY-wrAsV32hHxnkYojVI5XaMfvOw5MSE=s64",
      "userId": "07908098511200809974"
     },
     "user_tz": 180
    },
    "id": "DbB900K7nsgg",
    "outputId": "78952b9c-cce9-495d-9fed-a737f898bb67"
   },
   "outputs": [
    {
     "name": "stdout",
     "output_type": "stream",
     "text": [
      "<class 'pandas.core.frame.DataFrame'>\n",
      "RangeIndex: 261 entries, 0 to 260\n",
      "Data columns (total 8 columns):\n",
      " #   Column       Non-Null Count  Dtype  \n",
      "---  ------       --------------  -----  \n",
      " 0   mpg          261 non-null    float64\n",
      " 1   cylinders    261 non-null    int64  \n",
      " 2   cubicinches  261 non-null    object \n",
      " 3   hp           261 non-null    int64  \n",
      " 4   weightlbs    261 non-null    object \n",
      " 5   time-to-60   261 non-null    int64  \n",
      " 6   year         261 non-null    int64  \n",
      " 7   brand        261 non-null    object \n",
      "dtypes: float64(1), int64(4), object(3)\n",
      "memory usage: 16.4+ KB\n"
     ]
    }
   ],
   "source": [
    "dataset_cars.info()"
   ]
  },
  {
   "cell_type": "code",
   "execution_count": null,
   "metadata": {
    "colab": {
     "base_uri": "https://localhost:8080/",
     "height": 170
    },
    "colab_type": "code",
    "executionInfo": {
     "elapsed": 890,
     "status": "ok",
     "timestamp": 1594957764825,
     "user": {
      "displayName": "Giselle Silva",
      "photoUrl": "https://lh3.googleusercontent.com/a-/AOh14Gh3X37qk8ArY-wrAsV32hHxnkYojVI5XaMfvOw5MSE=s64",
      "userId": "07908098511200809974"
     },
     "user_tz": 180
    },
    "id": "-usndwyuny07",
    "outputId": "29eb05bc-29da-40b4-cfb6-81ce5fe58231"
   },
   "outputs": [
    {
     "data": {
      "text/plain": [
       "mpg            0\n",
       "cylinders      0\n",
       "cubicinches    0\n",
       "hp             0\n",
       "weightlbs      0\n",
       "time-to-60     0\n",
       "year           0\n",
       "brand          0\n",
       "dtype: int64"
      ]
     },
     "execution_count": 7,
     "metadata": {
      "tags": []
     },
     "output_type": "execute_result"
    }
   ],
   "source": [
    "dataset_cars.isnull().sum()"
   ]
  },
  {
   "cell_type": "code",
   "execution_count": null,
   "metadata": {
    "colab": {
     "base_uri": "https://localhost:8080/",
     "height": 297
    },
    "colab_type": "code",
    "executionInfo": {
     "elapsed": 875,
     "status": "ok",
     "timestamp": 1594957764826,
     "user": {
      "displayName": "Giselle Silva",
      "photoUrl": "https://lh3.googleusercontent.com/a-/AOh14Gh3X37qk8ArY-wrAsV32hHxnkYojVI5XaMfvOw5MSE=s64",
      "userId": "07908098511200809974"
     },
     "user_tz": 180
    },
    "id": "O4XUKv6qoFeH",
    "outputId": "1674e339-7ded-4e88-97f5-d1f426f4c935"
   },
   "outputs": [
    {
     "data": {
      "text/html": [
       "<div>\n",
       "<style scoped>\n",
       "    .dataframe tbody tr th:only-of-type {\n",
       "        vertical-align: middle;\n",
       "    }\n",
       "\n",
       "    .dataframe tbody tr th {\n",
       "        vertical-align: top;\n",
       "    }\n",
       "\n",
       "    .dataframe thead th {\n",
       "        text-align: right;\n",
       "    }\n",
       "</style>\n",
       "<table border=\"1\" class=\"dataframe\">\n",
       "  <thead>\n",
       "    <tr style=\"text-align: right;\">\n",
       "      <th></th>\n",
       "      <th>mpg</th>\n",
       "      <th>cylinders</th>\n",
       "      <th>hp</th>\n",
       "      <th>time-to-60</th>\n",
       "      <th>year</th>\n",
       "    </tr>\n",
       "  </thead>\n",
       "  <tbody>\n",
       "    <tr>\n",
       "      <th>count</th>\n",
       "      <td>261.000000</td>\n",
       "      <td>261.000000</td>\n",
       "      <td>261.000000</td>\n",
       "      <td>261.000000</td>\n",
       "      <td>261.000000</td>\n",
       "    </tr>\n",
       "    <tr>\n",
       "      <th>mean</th>\n",
       "      <td>23.144828</td>\n",
       "      <td>5.590038</td>\n",
       "      <td>106.360153</td>\n",
       "      <td>15.547893</td>\n",
       "      <td>1976.819923</td>\n",
       "    </tr>\n",
       "    <tr>\n",
       "      <th>std</th>\n",
       "      <td>7.823570</td>\n",
       "      <td>1.733310</td>\n",
       "      <td>40.499959</td>\n",
       "      <td>2.910625</td>\n",
       "      <td>3.637696</td>\n",
       "    </tr>\n",
       "    <tr>\n",
       "      <th>min</th>\n",
       "      <td>10.000000</td>\n",
       "      <td>3.000000</td>\n",
       "      <td>46.000000</td>\n",
       "      <td>8.000000</td>\n",
       "      <td>1971.000000</td>\n",
       "    </tr>\n",
       "    <tr>\n",
       "      <th>25%</th>\n",
       "      <td>16.900000</td>\n",
       "      <td>4.000000</td>\n",
       "      <td>75.000000</td>\n",
       "      <td>14.000000</td>\n",
       "      <td>1974.000000</td>\n",
       "    </tr>\n",
       "    <tr>\n",
       "      <th>50%</th>\n",
       "      <td>22.000000</td>\n",
       "      <td>6.000000</td>\n",
       "      <td>95.000000</td>\n",
       "      <td>16.000000</td>\n",
       "      <td>1977.000000</td>\n",
       "    </tr>\n",
       "    <tr>\n",
       "      <th>75%</th>\n",
       "      <td>28.800000</td>\n",
       "      <td>8.000000</td>\n",
       "      <td>138.000000</td>\n",
       "      <td>17.000000</td>\n",
       "      <td>1980.000000</td>\n",
       "    </tr>\n",
       "    <tr>\n",
       "      <th>max</th>\n",
       "      <td>46.600000</td>\n",
       "      <td>8.000000</td>\n",
       "      <td>230.000000</td>\n",
       "      <td>25.000000</td>\n",
       "      <td>1983.000000</td>\n",
       "    </tr>\n",
       "  </tbody>\n",
       "</table>\n",
       "</div>"
      ],
      "text/plain": [
       "              mpg   cylinders          hp  time-to-60         year\n",
       "count  261.000000  261.000000  261.000000  261.000000   261.000000\n",
       "mean    23.144828    5.590038  106.360153   15.547893  1976.819923\n",
       "std      7.823570    1.733310   40.499959    2.910625     3.637696\n",
       "min     10.000000    3.000000   46.000000    8.000000  1971.000000\n",
       "25%     16.900000    4.000000   75.000000   14.000000  1974.000000\n",
       "50%     22.000000    6.000000   95.000000   16.000000  1977.000000\n",
       "75%     28.800000    8.000000  138.000000   17.000000  1980.000000\n",
       "max     46.600000    8.000000  230.000000   25.000000  1983.000000"
      ]
     },
     "execution_count": 8,
     "metadata": {
      "tags": []
     },
     "output_type": "execute_result"
    }
   ],
   "source": [
    "dataset_cars.describe()"
   ]
  },
  {
   "cell_type": "code",
   "execution_count": null,
   "metadata": {
    "colab": {},
    "colab_type": "code",
    "id": "8XQ0R0S1pkCr"
   },
   "outputs": [],
   "source": [
    "#transformando as varáveis que estavam como string em número\n",
    "dataset_cars['cubicinches'] = pd.to_numeric(dataset_cars['cubicinches'], errors='coerce')\n",
    "dataset_cars['weightlbs'] = pd.to_numeric(dataset_cars['weightlbs'], errors='coerce')"
   ]
  },
  {
   "cell_type": "code",
   "execution_count": null,
   "metadata": {
    "colab": {
     "base_uri": "https://localhost:8080/",
     "height": 272
    },
    "colab_type": "code",
    "executionInfo": {
     "elapsed": 1367,
     "status": "ok",
     "timestamp": 1595020452815,
     "user": {
      "displayName": "Giselle Silva",
      "photoUrl": "https://lh3.googleusercontent.com/a-/AOh14Gh3X37qk8ArY-wrAsV32hHxnkYojVI5XaMfvOw5MSE=s64",
      "userId": "07908098511200809974"
     },
     "user_tz": 180
    },
    "id": "g7zq6LBOqxYO",
    "outputId": "8ffb4fa6-4543-40c7-b9ba-6b763f435c48"
   },
   "outputs": [
    {
     "name": "stdout",
     "output_type": "stream",
     "text": [
      "<class 'pandas.core.frame.DataFrame'>\n",
      "RangeIndex: 261 entries, 0 to 260\n",
      "Data columns (total 8 columns):\n",
      " #   Column       Non-Null Count  Dtype  \n",
      "---  ------       --------------  -----  \n",
      " 0   mpg          261 non-null    float64\n",
      " 1   cylinders    261 non-null    int64  \n",
      " 2   cubicinches  259 non-null    float64\n",
      " 3   hp           261 non-null    int64  \n",
      " 4   weightlbs    258 non-null    float64\n",
      " 5   time-to-60   261 non-null    int64  \n",
      " 6   year         261 non-null    int64  \n",
      " 7   brand        261 non-null    object \n",
      "dtypes: float64(3), int64(4), object(1)\n",
      "memory usage: 16.4+ KB\n"
     ]
    }
   ],
   "source": [
    "dataset_cars.info()"
   ]
  },
  {
   "cell_type": "code",
   "execution_count": null,
   "metadata": {
    "colab": {
     "base_uri": "https://localhost:8080/",
     "height": 297
    },
    "colab_type": "code",
    "executionInfo": {
     "elapsed": 799,
     "status": "ok",
     "timestamp": 1594957792109,
     "user": {
      "displayName": "Giselle Silva",
      "photoUrl": "https://lh3.googleusercontent.com/a-/AOh14Gh3X37qk8ArY-wrAsV32hHxnkYojVI5XaMfvOw5MSE=s64",
      "userId": "07908098511200809974"
     },
     "user_tz": 180
    },
    "id": "-TXC-ep7q5SW",
    "outputId": "2eb6c423-585f-40d7-ea4b-20433f0f15af"
   },
   "outputs": [
    {
     "data": {
      "text/html": [
       "<div>\n",
       "<style scoped>\n",
       "    .dataframe tbody tr th:only-of-type {\n",
       "        vertical-align: middle;\n",
       "    }\n",
       "\n",
       "    .dataframe tbody tr th {\n",
       "        vertical-align: top;\n",
       "    }\n",
       "\n",
       "    .dataframe thead th {\n",
       "        text-align: right;\n",
       "    }\n",
       "</style>\n",
       "<table border=\"1\" class=\"dataframe\">\n",
       "  <thead>\n",
       "    <tr style=\"text-align: right;\">\n",
       "      <th></th>\n",
       "      <th>mpg</th>\n",
       "      <th>cylinders</th>\n",
       "      <th>cubicinches</th>\n",
       "      <th>hp</th>\n",
       "      <th>weightlbs</th>\n",
       "      <th>time-to-60</th>\n",
       "      <th>year</th>\n",
       "    </tr>\n",
       "  </thead>\n",
       "  <tbody>\n",
       "    <tr>\n",
       "      <th>count</th>\n",
       "      <td>261.000000</td>\n",
       "      <td>261.000000</td>\n",
       "      <td>259.000000</td>\n",
       "      <td>261.000000</td>\n",
       "      <td>258.000000</td>\n",
       "      <td>261.000000</td>\n",
       "      <td>261.000000</td>\n",
       "    </tr>\n",
       "    <tr>\n",
       "      <th>mean</th>\n",
       "      <td>23.144828</td>\n",
       "      <td>5.590038</td>\n",
       "      <td>200.918919</td>\n",
       "      <td>106.360153</td>\n",
       "      <td>3009.833333</td>\n",
       "      <td>15.547893</td>\n",
       "      <td>1976.819923</td>\n",
       "    </tr>\n",
       "    <tr>\n",
       "      <th>std</th>\n",
       "      <td>7.823570</td>\n",
       "      <td>1.733310</td>\n",
       "      <td>109.258305</td>\n",
       "      <td>40.499959</td>\n",
       "      <td>854.039019</td>\n",
       "      <td>2.910625</td>\n",
       "      <td>3.637696</td>\n",
       "    </tr>\n",
       "    <tr>\n",
       "      <th>min</th>\n",
       "      <td>10.000000</td>\n",
       "      <td>3.000000</td>\n",
       "      <td>68.000000</td>\n",
       "      <td>46.000000</td>\n",
       "      <td>1613.000000</td>\n",
       "      <td>8.000000</td>\n",
       "      <td>1971.000000</td>\n",
       "    </tr>\n",
       "    <tr>\n",
       "      <th>25%</th>\n",
       "      <td>16.900000</td>\n",
       "      <td>4.000000</td>\n",
       "      <td>99.500000</td>\n",
       "      <td>75.000000</td>\n",
       "      <td>2248.000000</td>\n",
       "      <td>14.000000</td>\n",
       "      <td>1974.000000</td>\n",
       "    </tr>\n",
       "    <tr>\n",
       "      <th>50%</th>\n",
       "      <td>22.000000</td>\n",
       "      <td>6.000000</td>\n",
       "      <td>156.000000</td>\n",
       "      <td>95.000000</td>\n",
       "      <td>2867.500000</td>\n",
       "      <td>16.000000</td>\n",
       "      <td>1977.000000</td>\n",
       "    </tr>\n",
       "    <tr>\n",
       "      <th>75%</th>\n",
       "      <td>28.800000</td>\n",
       "      <td>8.000000</td>\n",
       "      <td>303.000000</td>\n",
       "      <td>138.000000</td>\n",
       "      <td>3670.000000</td>\n",
       "      <td>17.000000</td>\n",
       "      <td>1980.000000</td>\n",
       "    </tr>\n",
       "    <tr>\n",
       "      <th>max</th>\n",
       "      <td>46.600000</td>\n",
       "      <td>8.000000</td>\n",
       "      <td>455.000000</td>\n",
       "      <td>230.000000</td>\n",
       "      <td>4997.000000</td>\n",
       "      <td>25.000000</td>\n",
       "      <td>1983.000000</td>\n",
       "    </tr>\n",
       "  </tbody>\n",
       "</table>\n",
       "</div>"
      ],
      "text/plain": [
       "              mpg   cylinders  ...  time-to-60         year\n",
       "count  261.000000  261.000000  ...  261.000000   261.000000\n",
       "mean    23.144828    5.590038  ...   15.547893  1976.819923\n",
       "std      7.823570    1.733310  ...    2.910625     3.637696\n",
       "min     10.000000    3.000000  ...    8.000000  1971.000000\n",
       "25%     16.900000    4.000000  ...   14.000000  1974.000000\n",
       "50%     22.000000    6.000000  ...   16.000000  1977.000000\n",
       "75%     28.800000    8.000000  ...   17.000000  1980.000000\n",
       "max     46.600000    8.000000  ...   25.000000  1983.000000\n",
       "\n",
       "[8 rows x 7 columns]"
      ]
     },
     "execution_count": 11,
     "metadata": {
      "tags": []
     },
     "output_type": "execute_result"
    }
   ],
   "source": [
    "dataset_cars.describe()"
   ]
  },
  {
   "cell_type": "code",
   "execution_count": null,
   "metadata": {
    "colab": {
     "base_uri": "https://localhost:8080/",
     "height": 170
    },
    "colab_type": "code",
    "executionInfo": {
     "elapsed": 814,
     "status": "ok",
     "timestamp": 1594957797143,
     "user": {
      "displayName": "Giselle Silva",
      "photoUrl": "https://lh3.googleusercontent.com/a-/AOh14Gh3X37qk8ArY-wrAsV32hHxnkYojVI5XaMfvOw5MSE=s64",
      "userId": "07908098511200809974"
     },
     "user_tz": 180
    },
    "id": "lHznm2CLq9lM",
    "outputId": "c59bac92-0cb4-4974-f3c9-81b3db2311d6"
   },
   "outputs": [
    {
     "data": {
      "text/plain": [
       "mpg            0\n",
       "cylinders      0\n",
       "cubicinches    2\n",
       "hp             0\n",
       "weightlbs      3\n",
       "time-to-60     0\n",
       "year           0\n",
       "brand          0\n",
       "dtype: int64"
      ]
     },
     "execution_count": 12,
     "metadata": {
      "tags": []
     },
     "output_type": "execute_result"
    }
   ],
   "source": [
    "dataset_cars.isnull().sum()"
   ]
  },
  {
   "cell_type": "code",
   "execution_count": null,
   "metadata": {
    "colab": {
     "base_uri": "https://localhost:8080/",
     "height": 136
    },
    "colab_type": "code",
    "executionInfo": {
     "elapsed": 1066,
     "status": "ok",
     "timestamp": 1595029688156,
     "user": {
      "displayName": "Giselle Silva",
      "photoUrl": "https://lh3.googleusercontent.com/a-/AOh14Gh3X37qk8ArY-wrAsV32hHxnkYojVI5XaMfvOw5MSE=s64",
      "userId": "07908098511200809974"
     },
     "user_tz": 180
    },
    "id": "D04_7JkBrVFq",
    "outputId": "7f46af96-19a2-4704-ab61-311d2b87c638"
   },
   "outputs": [
    {
     "data": {
      "text/plain": [
       "(      mpg  cylinders  cubicinches   hp  weightlbs  time-to-60  year brand\n",
       " 40   16.0          6          NaN  105     3897.0          19  1976   US.\n",
       " 180  19.8          6          NaN   85     2990.0          18  1980   US.,\n",
       "       mpg  cylinders  cubicinches  hp  weightlbs  time-to-60  year     brand\n",
       " 14   19.1          6        225.0  90        NaN          19  1981       US.\n",
       " 33   21.0          6        199.0  90        NaN          15  1971       US.\n",
       " 172  29.0          4         68.0  49        NaN          20  1974   Europe.)"
      ]
     },
     "execution_count": 6,
     "metadata": {
      "tags": []
     },
     "output_type": "execute_result"
    }
   ],
   "source": [
    "nan_rows1 = dataset_cars[dataset_cars['cubicinches'].isnull()]\n",
    "nan_rows2 = dataset_cars[dataset_cars['weightlbs'].isnull()]\n",
    "nan_rows1, nan_rows2"
   ]
  },
  {
   "cell_type": "code",
   "execution_count": null,
   "metadata": {
    "colab": {},
    "colab_type": "code",
    "id": "OMyTdPY2xIHH"
   },
   "outputs": [],
   "source": [
    "dataset_cars.fillna(dataset_cars.mean(), inplace=True)"
   ]
  },
  {
   "cell_type": "code",
   "execution_count": null,
   "metadata": {
    "colab": {
     "base_uri": "https://localhost:8080/",
     "height": 297
    },
    "colab_type": "code",
    "executionInfo": {
     "elapsed": 748,
     "status": "ok",
     "timestamp": 1594957812251,
     "user": {
      "displayName": "Giselle Silva",
      "photoUrl": "https://lh3.googleusercontent.com/a-/AOh14Gh3X37qk8ArY-wrAsV32hHxnkYojVI5XaMfvOw5MSE=s64",
      "userId": "07908098511200809974"
     },
     "user_tz": 180
    },
    "id": "UJiiq6XVxizN",
    "outputId": "148adf68-bf87-4b3c-8670-97d5bca4b065"
   },
   "outputs": [
    {
     "data": {
      "text/html": [
       "<div>\n",
       "<style scoped>\n",
       "    .dataframe tbody tr th:only-of-type {\n",
       "        vertical-align: middle;\n",
       "    }\n",
       "\n",
       "    .dataframe tbody tr th {\n",
       "        vertical-align: top;\n",
       "    }\n",
       "\n",
       "    .dataframe thead th {\n",
       "        text-align: right;\n",
       "    }\n",
       "</style>\n",
       "<table border=\"1\" class=\"dataframe\">\n",
       "  <thead>\n",
       "    <tr style=\"text-align: right;\">\n",
       "      <th></th>\n",
       "      <th>mpg</th>\n",
       "      <th>cylinders</th>\n",
       "      <th>cubicinches</th>\n",
       "      <th>hp</th>\n",
       "      <th>weightlbs</th>\n",
       "      <th>time-to-60</th>\n",
       "      <th>year</th>\n",
       "    </tr>\n",
       "  </thead>\n",
       "  <tbody>\n",
       "    <tr>\n",
       "      <th>count</th>\n",
       "      <td>261.000000</td>\n",
       "      <td>261.000000</td>\n",
       "      <td>261.000000</td>\n",
       "      <td>261.000000</td>\n",
       "      <td>261.000000</td>\n",
       "      <td>261.000000</td>\n",
       "      <td>261.000000</td>\n",
       "    </tr>\n",
       "    <tr>\n",
       "      <th>mean</th>\n",
       "      <td>23.144828</td>\n",
       "      <td>5.590038</td>\n",
       "      <td>200.918919</td>\n",
       "      <td>106.360153</td>\n",
       "      <td>3009.833333</td>\n",
       "      <td>15.547893</td>\n",
       "      <td>1976.819923</td>\n",
       "    </tr>\n",
       "    <tr>\n",
       "      <th>std</th>\n",
       "      <td>7.823570</td>\n",
       "      <td>1.733310</td>\n",
       "      <td>108.837269</td>\n",
       "      <td>40.499959</td>\n",
       "      <td>849.097575</td>\n",
       "      <td>2.910625</td>\n",
       "      <td>3.637696</td>\n",
       "    </tr>\n",
       "    <tr>\n",
       "      <th>min</th>\n",
       "      <td>10.000000</td>\n",
       "      <td>3.000000</td>\n",
       "      <td>68.000000</td>\n",
       "      <td>46.000000</td>\n",
       "      <td>1613.000000</td>\n",
       "      <td>8.000000</td>\n",
       "      <td>1971.000000</td>\n",
       "    </tr>\n",
       "    <tr>\n",
       "      <th>25%</th>\n",
       "      <td>16.900000</td>\n",
       "      <td>4.000000</td>\n",
       "      <td>101.000000</td>\n",
       "      <td>75.000000</td>\n",
       "      <td>2254.000000</td>\n",
       "      <td>14.000000</td>\n",
       "      <td>1974.000000</td>\n",
       "    </tr>\n",
       "    <tr>\n",
       "      <th>50%</th>\n",
       "      <td>22.000000</td>\n",
       "      <td>6.000000</td>\n",
       "      <td>156.000000</td>\n",
       "      <td>95.000000</td>\n",
       "      <td>2904.000000</td>\n",
       "      <td>16.000000</td>\n",
       "      <td>1977.000000</td>\n",
       "    </tr>\n",
       "    <tr>\n",
       "      <th>75%</th>\n",
       "      <td>28.800000</td>\n",
       "      <td>8.000000</td>\n",
       "      <td>302.000000</td>\n",
       "      <td>138.000000</td>\n",
       "      <td>3664.000000</td>\n",
       "      <td>17.000000</td>\n",
       "      <td>1980.000000</td>\n",
       "    </tr>\n",
       "    <tr>\n",
       "      <th>max</th>\n",
       "      <td>46.600000</td>\n",
       "      <td>8.000000</td>\n",
       "      <td>455.000000</td>\n",
       "      <td>230.000000</td>\n",
       "      <td>4997.000000</td>\n",
       "      <td>25.000000</td>\n",
       "      <td>1983.000000</td>\n",
       "    </tr>\n",
       "  </tbody>\n",
       "</table>\n",
       "</div>"
      ],
      "text/plain": [
       "              mpg   cylinders  ...  time-to-60         year\n",
       "count  261.000000  261.000000  ...  261.000000   261.000000\n",
       "mean    23.144828    5.590038  ...   15.547893  1976.819923\n",
       "std      7.823570    1.733310  ...    2.910625     3.637696\n",
       "min     10.000000    3.000000  ...    8.000000  1971.000000\n",
       "25%     16.900000    4.000000  ...   14.000000  1974.000000\n",
       "50%     22.000000    6.000000  ...   16.000000  1977.000000\n",
       "75%     28.800000    8.000000  ...   17.000000  1980.000000\n",
       "max     46.600000    8.000000  ...   25.000000  1983.000000\n",
       "\n",
       "[8 rows x 7 columns]"
      ]
     },
     "execution_count": 16,
     "metadata": {
      "tags": []
     },
     "output_type": "execute_result"
    }
   ],
   "source": [
    "dataset_cars.describe()"
   ]
  },
  {
   "cell_type": "markdown",
   "metadata": {
    "colab_type": "text",
    "id": "ZOKgxSDY6G6T"
   },
   "source": [
    "**Correlação**"
   ]
  },
  {
   "cell_type": "code",
   "execution_count": null,
   "metadata": {
    "colab": {},
    "colab_type": "code",
    "id": "X1k_gZYez-Ot"
   },
   "outputs": [],
   "source": [
    "dataset_corr=dataset_cars.copy(deep=True)  #criando uma cópia do dataset"
   ]
  },
  {
   "cell_type": "code",
   "execution_count": null,
   "metadata": {
    "colab": {},
    "colab_type": "code",
    "id": "DFEdnMUIfW-L"
   },
   "outputs": [],
   "source": [
    "#deixando apenas com as colunas para fazer a correlação\n",
    "drop=['brand']\n",
    "dataset_corr.drop(drop, inplace=True, axis=1)"
   ]
  },
  {
   "cell_type": "code",
   "execution_count": null,
   "metadata": {
    "colab": {
     "base_uri": "https://localhost:8080/",
     "height": 187
    },
    "colab_type": "code",
    "executionInfo": {
     "elapsed": 1055,
     "status": "ok",
     "timestamp": 1595029703101,
     "user": {
      "displayName": "Giselle Silva",
      "photoUrl": "https://lh3.googleusercontent.com/a-/AOh14Gh3X37qk8ArY-wrAsV32hHxnkYojVI5XaMfvOw5MSE=s64",
      "userId": "07908098511200809974"
     },
     "user_tz": 180
    },
    "id": "TiWSRSJ2fXIn",
    "outputId": "39a98baf-5c9b-4662-86d6-fc7e81ecfc9a"
   },
   "outputs": [
    {
     "data": {
      "text/html": [
       "<style  type=\"text/css\" >\n",
       "    #T_bccaabf2_c88e_11ea_8ac2_0242ac1c0002row0_col0 {\n",
       "            background-color:  #b40426;\n",
       "            color:  #f1f1f1;\n",
       "        }    #T_bccaabf2_c88e_11ea_8ac2_0242ac1c0002row0_col1 {\n",
       "            background-color:  #3b4cc0;\n",
       "            color:  #f1f1f1;\n",
       "        }    #T_bccaabf2_c88e_11ea_8ac2_0242ac1c0002row0_col2 {\n",
       "            background-color:  #3b4cc0;\n",
       "            color:  #f1f1f1;\n",
       "        }    #T_bccaabf2_c88e_11ea_8ac2_0242ac1c0002row0_col3 {\n",
       "            background-color:  #3b4cc0;\n",
       "            color:  #f1f1f1;\n",
       "        }    #T_bccaabf2_c88e_11ea_8ac2_0242ac1c0002row0_col4 {\n",
       "            background-color:  #3b4cc0;\n",
       "            color:  #f1f1f1;\n",
       "        }    #T_bccaabf2_c88e_11ea_8ac2_0242ac1c0002row0_col5 {\n",
       "            background-color:  #f7a688;\n",
       "            color:  #000000;\n",
       "        }    #T_bccaabf2_c88e_11ea_8ac2_0242ac1c0002row0_col6 {\n",
       "            background-color:  #f7b599;\n",
       "            color:  #000000;\n",
       "        }    #T_bccaabf2_c88e_11ea_8ac2_0242ac1c0002row1_col0 {\n",
       "            background-color:  #4257c9;\n",
       "            color:  #f1f1f1;\n",
       "        }    #T_bccaabf2_c88e_11ea_8ac2_0242ac1c0002row1_col1 {\n",
       "            background-color:  #b40426;\n",
       "            color:  #f1f1f1;\n",
       "        }    #T_bccaabf2_c88e_11ea_8ac2_0242ac1c0002row1_col2 {\n",
       "            background-color:  #bd1f2d;\n",
       "            color:  #f1f1f1;\n",
       "        }    #T_bccaabf2_c88e_11ea_8ac2_0242ac1c0002row1_col3 {\n",
       "            background-color:  #d24b40;\n",
       "            color:  #f1f1f1;\n",
       "        }    #T_bccaabf2_c88e_11ea_8ac2_0242ac1c0002row1_col4 {\n",
       "            background-color:  #c83836;\n",
       "            color:  #f1f1f1;\n",
       "        }    #T_bccaabf2_c88e_11ea_8ac2_0242ac1c0002row1_col5 {\n",
       "            background-color:  #5875e1;\n",
       "            color:  #000000;\n",
       "        }    #T_bccaabf2_c88e_11ea_8ac2_0242ac1c0002row1_col6 {\n",
       "            background-color:  #485fd1;\n",
       "            color:  #f1f1f1;\n",
       "        }    #T_bccaabf2_c88e_11ea_8ac2_0242ac1c0002row2_col0 {\n",
       "            background-color:  #3e51c5;\n",
       "            color:  #f1f1f1;\n",
       "        }    #T_bccaabf2_c88e_11ea_8ac2_0242ac1c0002row2_col1 {\n",
       "            background-color:  #be242e;\n",
       "            color:  #f1f1f1;\n",
       "        }    #T_bccaabf2_c88e_11ea_8ac2_0242ac1c0002row2_col2 {\n",
       "            background-color:  #b40426;\n",
       "            color:  #f1f1f1;\n",
       "        }    #T_bccaabf2_c88e_11ea_8ac2_0242ac1c0002row2_col3 {\n",
       "            background-color:  #c73635;\n",
       "            color:  #f1f1f1;\n",
       "        }    #T_bccaabf2_c88e_11ea_8ac2_0242ac1c0002row2_col4 {\n",
       "            background-color:  #c32e31;\n",
       "            color:  #f1f1f1;\n",
       "        }    #T_bccaabf2_c88e_11ea_8ac2_0242ac1c0002row2_col5 {\n",
       "            background-color:  #516ddb;\n",
       "            color:  #000000;\n",
       "        }    #T_bccaabf2_c88e_11ea_8ac2_0242ac1c0002row2_col6 {\n",
       "            background-color:  #4257c9;\n",
       "            color:  #f1f1f1;\n",
       "        }    #T_bccaabf2_c88e_11ea_8ac2_0242ac1c0002row3_col0 {\n",
       "            background-color:  #4257c9;\n",
       "            color:  #f1f1f1;\n",
       "        }    #T_bccaabf2_c88e_11ea_8ac2_0242ac1c0002row3_col1 {\n",
       "            background-color:  #d24b40;\n",
       "            color:  #f1f1f1;\n",
       "        }    #T_bccaabf2_c88e_11ea_8ac2_0242ac1c0002row3_col2 {\n",
       "            background-color:  #c73635;\n",
       "            color:  #f1f1f1;\n",
       "        }    #T_bccaabf2_c88e_11ea_8ac2_0242ac1c0002row3_col3 {\n",
       "            background-color:  #b40426;\n",
       "            color:  #f1f1f1;\n",
       "        }    #T_bccaabf2_c88e_11ea_8ac2_0242ac1c0002row3_col4 {\n",
       "            background-color:  #d0473d;\n",
       "            color:  #f1f1f1;\n",
       "        }    #T_bccaabf2_c88e_11ea_8ac2_0242ac1c0002row3_col5 {\n",
       "            background-color:  #3b4cc0;\n",
       "            color:  #f1f1f1;\n",
       "        }    #T_bccaabf2_c88e_11ea_8ac2_0242ac1c0002row3_col6 {\n",
       "            background-color:  #3b4cc0;\n",
       "            color:  #f1f1f1;\n",
       "        }    #T_bccaabf2_c88e_11ea_8ac2_0242ac1c0002row4_col0 {\n",
       "            background-color:  #3b4cc0;\n",
       "            color:  #f1f1f1;\n",
       "        }    #T_bccaabf2_c88e_11ea_8ac2_0242ac1c0002row4_col1 {\n",
       "            background-color:  #ca3b37;\n",
       "            color:  #f1f1f1;\n",
       "        }    #T_bccaabf2_c88e_11ea_8ac2_0242ac1c0002row4_col2 {\n",
       "            background-color:  #c32e31;\n",
       "            color:  #f1f1f1;\n",
       "        }    #T_bccaabf2_c88e_11ea_8ac2_0242ac1c0002row4_col3 {\n",
       "            background-color:  #d0473d;\n",
       "            color:  #f1f1f1;\n",
       "        }    #T_bccaabf2_c88e_11ea_8ac2_0242ac1c0002row4_col4 {\n",
       "            background-color:  #b40426;\n",
       "            color:  #f1f1f1;\n",
       "        }    #T_bccaabf2_c88e_11ea_8ac2_0242ac1c0002row4_col5 {\n",
       "            background-color:  #6b8df0;\n",
       "            color:  #000000;\n",
       "        }    #T_bccaabf2_c88e_11ea_8ac2_0242ac1c0002row4_col6 {\n",
       "            background-color:  #516ddb;\n",
       "            color:  #000000;\n",
       "        }    #T_bccaabf2_c88e_11ea_8ac2_0242ac1c0002row5_col0 {\n",
       "            background-color:  #f5a081;\n",
       "            color:  #000000;\n",
       "        }    #T_bccaabf2_c88e_11ea_8ac2_0242ac1c0002row5_col1 {\n",
       "            background-color:  #5d7ce6;\n",
       "            color:  #000000;\n",
       "        }    #T_bccaabf2_c88e_11ea_8ac2_0242ac1c0002row5_col2 {\n",
       "            background-color:  #5b7ae5;\n",
       "            color:  #000000;\n",
       "        }    #T_bccaabf2_c88e_11ea_8ac2_0242ac1c0002row5_col3 {\n",
       "            background-color:  #3f53c6;\n",
       "            color:  #f1f1f1;\n",
       "        }    #T_bccaabf2_c88e_11ea_8ac2_0242ac1c0002row5_col4 {\n",
       "            background-color:  #779af7;\n",
       "            color:  #000000;\n",
       "        }    #T_bccaabf2_c88e_11ea_8ac2_0242ac1c0002row5_col5 {\n",
       "            background-color:  #b40426;\n",
       "            color:  #f1f1f1;\n",
       "        }    #T_bccaabf2_c88e_11ea_8ac2_0242ac1c0002row5_col6 {\n",
       "            background-color:  #dddcdc;\n",
       "            color:  #000000;\n",
       "        }    #T_bccaabf2_c88e_11ea_8ac2_0242ac1c0002row6_col0 {\n",
       "            background-color:  #f4987a;\n",
       "            color:  #000000;\n",
       "        }    #T_bccaabf2_c88e_11ea_8ac2_0242ac1c0002row6_col1 {\n",
       "            background-color:  #8fb1fe;\n",
       "            color:  #000000;\n",
       "        }    #T_bccaabf2_c88e_11ea_8ac2_0242ac1c0002row6_col2 {\n",
       "            background-color:  #8db0fe;\n",
       "            color:  #000000;\n",
       "        }    #T_bccaabf2_c88e_11ea_8ac2_0242ac1c0002row6_col3 {\n",
       "            background-color:  #82a6fb;\n",
       "            color:  #000000;\n",
       "        }    #T_bccaabf2_c88e_11ea_8ac2_0242ac1c0002row6_col4 {\n",
       "            background-color:  #9ebeff;\n",
       "            color:  #000000;\n",
       "        }    #T_bccaabf2_c88e_11ea_8ac2_0242ac1c0002row6_col5 {\n",
       "            background-color:  #f2c9b4;\n",
       "            color:  #000000;\n",
       "        }    #T_bccaabf2_c88e_11ea_8ac2_0242ac1c0002row6_col6 {\n",
       "            background-color:  #b40426;\n",
       "            color:  #f1f1f1;\n",
       "        }</style><table id=\"T_bccaabf2_c88e_11ea_8ac2_0242ac1c0002\" ><thead>    <tr>        <th class=\"blank level0\" ></th>        <th class=\"col_heading level0 col0\" >mpg</th>        <th class=\"col_heading level0 col1\" >cylinders</th>        <th class=\"col_heading level0 col2\" >cubicinches</th>        <th class=\"col_heading level0 col3\" >hp</th>        <th class=\"col_heading level0 col4\" >weightlbs</th>        <th class=\"col_heading level0 col5\" >time-to-60</th>        <th class=\"col_heading level0 col6\" >year</th>    </tr></thead><tbody>\n",
       "                <tr>\n",
       "                        <th id=\"T_bccaabf2_c88e_11ea_8ac2_0242ac1c0002level0_row0\" class=\"row_heading level0 row0\" >mpg</th>\n",
       "                        <td id=\"T_bccaabf2_c88e_11ea_8ac2_0242ac1c0002row0_col0\" class=\"data row0 col0\" >1.000000</td>\n",
       "                        <td id=\"T_bccaabf2_c88e_11ea_8ac2_0242ac1c0002row0_col1\" class=\"data row0 col1\" >-0.776710</td>\n",
       "                        <td id=\"T_bccaabf2_c88e_11ea_8ac2_0242ac1c0002row0_col2\" class=\"data row0 col2\" >-0.802379</td>\n",
       "                        <td id=\"T_bccaabf2_c88e_11ea_8ac2_0242ac1c0002row0_col3\" class=\"data row0 col3\" >-0.774905</td>\n",
       "                        <td id=\"T_bccaabf2_c88e_11ea_8ac2_0242ac1c0002row0_col4\" class=\"data row0 col4\" >-0.823800</td>\n",
       "                        <td id=\"T_bccaabf2_c88e_11ea_8ac2_0242ac1c0002row0_col5\" class=\"data row0 col5\" >0.509070</td>\n",
       "                        <td id=\"T_bccaabf2_c88e_11ea_8ac2_0242ac1c0002row0_col6\" class=\"data row0 col6\" >0.550441</td>\n",
       "            </tr>\n",
       "            <tr>\n",
       "                        <th id=\"T_bccaabf2_c88e_11ea_8ac2_0242ac1c0002level0_row1\" class=\"row_heading level0 row1\" >cylinders</th>\n",
       "                        <td id=\"T_bccaabf2_c88e_11ea_8ac2_0242ac1c0002row1_col0\" class=\"data row1 col0\" >-0.776710</td>\n",
       "                        <td id=\"T_bccaabf2_c88e_11ea_8ac2_0242ac1c0002row1_col1\" class=\"data row1 col1\" >1.000000</td>\n",
       "                        <td id=\"T_bccaabf2_c88e_11ea_8ac2_0242ac1c0002row1_col2\" class=\"data row1 col2\" >0.951246</td>\n",
       "                        <td id=\"T_bccaabf2_c88e_11ea_8ac2_0242ac1c0002row1_col3\" class=\"data row1 col3\" >0.845155</td>\n",
       "                        <td id=\"T_bccaabf2_c88e_11ea_8ac2_0242ac1c0002row1_col4\" class=\"data row1 col4\" >0.894447</td>\n",
       "                        <td id=\"T_bccaabf2_c88e_11ea_8ac2_0242ac1c0002row1_col5\" class=\"data row1 col5\" >-0.578161</td>\n",
       "                        <td id=\"T_bccaabf2_c88e_11ea_8ac2_0242ac1c0002row1_col6\" class=\"data row1 col6\" >-0.322239</td>\n",
       "            </tr>\n",
       "            <tr>\n",
       "                        <th id=\"T_bccaabf2_c88e_11ea_8ac2_0242ac1c0002level0_row2\" class=\"row_heading level0 row2\" >cubicinches</th>\n",
       "                        <td id=\"T_bccaabf2_c88e_11ea_8ac2_0242ac1c0002row2_col0\" class=\"data row2 col0\" >-0.802379</td>\n",
       "                        <td id=\"T_bccaabf2_c88e_11ea_8ac2_0242ac1c0002row2_col1\" class=\"data row2 col1\" >0.951246</td>\n",
       "                        <td id=\"T_bccaabf2_c88e_11ea_8ac2_0242ac1c0002row2_col2\" class=\"data row2 col2\" >1.000000</td>\n",
       "                        <td id=\"T_bccaabf2_c88e_11ea_8ac2_0242ac1c0002row2_col3\" class=\"data row2 col3\" >0.906413</td>\n",
       "                        <td id=\"T_bccaabf2_c88e_11ea_8ac2_0242ac1c0002row2_col4\" class=\"data row2 col4\" >0.925288</td>\n",
       "                        <td id=\"T_bccaabf2_c88e_11ea_8ac2_0242ac1c0002row2_col5\" class=\"data row2 col5\" >-0.610679</td>\n",
       "                        <td id=\"T_bccaabf2_c88e_11ea_8ac2_0242ac1c0002row2_col6\" class=\"data row2 col6\" >-0.349743</td>\n",
       "            </tr>\n",
       "            <tr>\n",
       "                        <th id=\"T_bccaabf2_c88e_11ea_8ac2_0242ac1c0002level0_row3\" class=\"row_heading level0 row3\" >hp</th>\n",
       "                        <td id=\"T_bccaabf2_c88e_11ea_8ac2_0242ac1c0002row3_col0\" class=\"data row3 col0\" >-0.774905</td>\n",
       "                        <td id=\"T_bccaabf2_c88e_11ea_8ac2_0242ac1c0002row3_col1\" class=\"data row3 col1\" >0.845155</td>\n",
       "                        <td id=\"T_bccaabf2_c88e_11ea_8ac2_0242ac1c0002row3_col2\" class=\"data row3 col2\" >0.906413</td>\n",
       "                        <td id=\"T_bccaabf2_c88e_11ea_8ac2_0242ac1c0002row3_col3\" class=\"data row3 col3\" >1.000000</td>\n",
       "                        <td id=\"T_bccaabf2_c88e_11ea_8ac2_0242ac1c0002row3_col4\" class=\"data row3 col4\" >0.857125</td>\n",
       "                        <td id=\"T_bccaabf2_c88e_11ea_8ac2_0242ac1c0002row3_col5\" class=\"data row3 col5\" >-0.744873</td>\n",
       "                        <td id=\"T_bccaabf2_c88e_11ea_8ac2_0242ac1c0002row3_col6\" class=\"data row3 col6\" >-0.383869</td>\n",
       "            </tr>\n",
       "            <tr>\n",
       "                        <th id=\"T_bccaabf2_c88e_11ea_8ac2_0242ac1c0002level0_row4\" class=\"row_heading level0 row4\" >weightlbs</th>\n",
       "                        <td id=\"T_bccaabf2_c88e_11ea_8ac2_0242ac1c0002row4_col0\" class=\"data row4 col0\" >-0.823800</td>\n",
       "                        <td id=\"T_bccaabf2_c88e_11ea_8ac2_0242ac1c0002row4_col1\" class=\"data row4 col1\" >0.894447</td>\n",
       "                        <td id=\"T_bccaabf2_c88e_11ea_8ac2_0242ac1c0002row4_col2\" class=\"data row4 col2\" >0.925288</td>\n",
       "                        <td id=\"T_bccaabf2_c88e_11ea_8ac2_0242ac1c0002row4_col3\" class=\"data row4 col3\" >0.857125</td>\n",
       "                        <td id=\"T_bccaabf2_c88e_11ea_8ac2_0242ac1c0002row4_col4\" class=\"data row4 col4\" >1.000000</td>\n",
       "                        <td id=\"T_bccaabf2_c88e_11ea_8ac2_0242ac1c0002row4_col5\" class=\"data row4 col5\" >-0.477240</td>\n",
       "                        <td id=\"T_bccaabf2_c88e_11ea_8ac2_0242ac1c0002row4_col6\" class=\"data row4 col6\" >-0.278683</td>\n",
       "            </tr>\n",
       "            <tr>\n",
       "                        <th id=\"T_bccaabf2_c88e_11ea_8ac2_0242ac1c0002level0_row5\" class=\"row_heading level0 row5\" >time-to-60</th>\n",
       "                        <td id=\"T_bccaabf2_c88e_11ea_8ac2_0242ac1c0002row5_col0\" class=\"data row5 col0\" >0.509070</td>\n",
       "                        <td id=\"T_bccaabf2_c88e_11ea_8ac2_0242ac1c0002row5_col1\" class=\"data row5 col1\" >-0.578161</td>\n",
       "                        <td id=\"T_bccaabf2_c88e_11ea_8ac2_0242ac1c0002row5_col2\" class=\"data row5 col2\" >-0.610679</td>\n",
       "                        <td id=\"T_bccaabf2_c88e_11ea_8ac2_0242ac1c0002row5_col3\" class=\"data row5 col3\" >-0.744873</td>\n",
       "                        <td id=\"T_bccaabf2_c88e_11ea_8ac2_0242ac1c0002row5_col4\" class=\"data row5 col4\" >-0.477240</td>\n",
       "                        <td id=\"T_bccaabf2_c88e_11ea_8ac2_0242ac1c0002row5_col5\" class=\"data row5 col5\" >1.000000</td>\n",
       "                        <td id=\"T_bccaabf2_c88e_11ea_8ac2_0242ac1c0002row5_col6\" class=\"data row5 col6\" >0.312311</td>\n",
       "            </tr>\n",
       "            <tr>\n",
       "                        <th id=\"T_bccaabf2_c88e_11ea_8ac2_0242ac1c0002level0_row6\" class=\"row_heading level0 row6\" >year</th>\n",
       "                        <td id=\"T_bccaabf2_c88e_11ea_8ac2_0242ac1c0002row6_col0\" class=\"data row6 col0\" >0.550441</td>\n",
       "                        <td id=\"T_bccaabf2_c88e_11ea_8ac2_0242ac1c0002row6_col1\" class=\"data row6 col1\" >-0.322239</td>\n",
       "                        <td id=\"T_bccaabf2_c88e_11ea_8ac2_0242ac1c0002row6_col2\" class=\"data row6 col2\" >-0.349743</td>\n",
       "                        <td id=\"T_bccaabf2_c88e_11ea_8ac2_0242ac1c0002row6_col3\" class=\"data row6 col3\" >-0.383869</td>\n",
       "                        <td id=\"T_bccaabf2_c88e_11ea_8ac2_0242ac1c0002row6_col4\" class=\"data row6 col4\" >-0.278683</td>\n",
       "                        <td id=\"T_bccaabf2_c88e_11ea_8ac2_0242ac1c0002row6_col5\" class=\"data row6 col5\" >0.312311</td>\n",
       "                        <td id=\"T_bccaabf2_c88e_11ea_8ac2_0242ac1c0002row6_col6\" class=\"data row6 col6\" >1.000000</td>\n",
       "            </tr>\n",
       "    </tbody></table>"
      ],
      "text/plain": [
       "<pandas.io.formats.style.Styler at 0x7fbb95f8a0b8>"
      ]
     },
     "execution_count": 10,
     "metadata": {
      "tags": []
     },
     "output_type": "execute_result"
    }
   ],
   "source": [
    "#Cálculo da correlação para as variáveis selecionadas\n",
    "corr=dataset_corr.corr()\n",
    "corr.style.background_gradient(cmap='coolwarm')"
   ]
  },
  {
   "cell_type": "markdown",
   "metadata": {
    "colab_type": "text",
    "id": "d2XY1tWB6QpJ"
   },
   "source": [
    "**Detecção de anomalias**"
   ]
  },
  {
   "cell_type": "code",
   "execution_count": null,
   "metadata": {
    "colab": {
     "base_uri": "https://localhost:8080/",
     "height": 282
    },
    "colab_type": "code",
    "executionInfo": {
     "elapsed": 1026,
     "status": "ok",
     "timestamp": 1595029707162,
     "user": {
      "displayName": "Giselle Silva",
      "photoUrl": "https://lh3.googleusercontent.com/a-/AOh14Gh3X37qk8ArY-wrAsV32hHxnkYojVI5XaMfvOw5MSE=s64",
      "userId": "07908098511200809974"
     },
     "user_tz": 180
    },
    "id": "HVqZvlmS159w",
    "outputId": "b4e660fd-74bd-4e40-ec90-4a1d94c8bf50"
   },
   "outputs": [
    {
     "data": {
      "text/plain": [
       "<matplotlib.axes._subplots.AxesSubplot at 0x7fbb95c6fac8>"
      ]
     },
     "execution_count": 11,
     "metadata": {
      "tags": []
     },
     "output_type": "execute_result"
    },
    {
     "data": {
      "image/png": "[encoded data removed]",
      "text/plain": [
       "<Figure size 432x288 with 1 Axes>"
      ]
     },
     "metadata": {
      "needs_background": "light",
      "tags": []
     },
     "output_type": "display_data"
    }
   ],
   "source": [
    "dataset_corr.boxplot(column=['hp'])"
   ]
  },
  {
   "cell_type": "markdown",
   "metadata": {
    "colab_type": "text",
    "id": "hQDGoM0y6WFw"
   },
   "source": [
    "**Processamento dos dados**"
   ]
  },
  {
   "cell_type": "code",
   "execution_count": null,
   "metadata": {
    "colab": {},
    "colab_type": "code",
    "id": "isboduu43RUF"
   },
   "outputs": [],
   "source": [
    "# realiza o processo de normalização dos dados\n",
    "from sklearn.preprocessing import StandardScaler\n",
    "normaliza = StandardScaler()  #objeto que normaliza os dados\n",
    "#normaliza.fit(dataset_corr)  #realiza a normalização dos dados\n",
    "dataset_norm=normaliza.fit_transform(dataset_corr)"
   ]
  },
  {
   "cell_type": "code",
   "execution_count": null,
   "metadata": {
    "colab": {
     "base_uri": "https://localhost:8080/",
     "height": 34
    },
    "colab_type": "code",
    "executionInfo": {
     "elapsed": 967,
     "status": "ok",
     "timestamp": 1595029718072,
     "user": {
      "displayName": "Giselle Silva",
      "photoUrl": "https://lh3.googleusercontent.com/a-/AOh14Gh3X37qk8ArY-wrAsV32hHxnkYojVI5XaMfvOw5MSE=s64",
      "userId": "07908098511200809974"
     },
     "user_tz": 180
    },
    "id": "28SS7WpP-PuK",
    "outputId": "53a22cdb-5266-4651-e359-6beab012222f"
   },
   "outputs": [
    {
     "data": {
      "text/plain": [
       "3.05870398977614"
      ]
     },
     "execution_count": 13,
     "metadata": {
      "tags": []
     },
     "output_type": "execute_result"
    }
   ],
   "source": [
    "dataset_norm[:,3].max()"
   ]
  },
  {
   "cell_type": "markdown",
   "metadata": {
    "colab_type": "text",
    "id": "6s2wn8kL4S_y"
   },
   "source": [
    "**Redução da dimensionalidade (PCA)**"
   ]
  },
  {
   "cell_type": "code",
   "execution_count": null,
   "metadata": {
    "colab": {
     "base_uri": "https://localhost:8080/",
     "height": 51
    },
    "colab_type": "code",
    "executionInfo": {
     "elapsed": 973,
     "status": "ok",
     "timestamp": 1595029722659,
     "user": {
      "displayName": "Giselle Silva",
      "photoUrl": "https://lh3.googleusercontent.com/a-/AOh14Gh3X37qk8ArY-wrAsV32hHxnkYojVI5XaMfvOw5MSE=s64",
      "userId": "07908098511200809974"
     },
     "user_tz": 180
    },
    "id": "5kDf9DG0AZ5a",
    "outputId": "b07f63c4-b60b-4053-f16e-a3adb5985d48"
   },
   "outputs": [
    {
     "name": "stdout",
     "output_type": "stream",
     "text": [
      "[0.72371349 0.12675138 0.09126131 0.02773591 0.01766794 0.00798425\n",
      " 0.00488572]\n"
     ]
    }
   ],
   "source": [
    "from sklearn.decomposition import PCA\n",
    "pca = PCA(n_components=7)\n",
    "cars_pca = pca.fit_transform(dataset_norm)\n",
    "print(pca.explained_variance_ratio_)"
   ]
  },
  {
   "cell_type": "code",
   "execution_count": null,
   "metadata": {
    "colab": {
     "base_uri": "https://localhost:8080/",
     "height": 238
    },
    "colab_type": "code",
    "executionInfo": {
     "elapsed": 952,
     "status": "ok",
     "timestamp": 1595029736693,
     "user": {
      "displayName": "Giselle Silva",
      "photoUrl": "https://lh3.googleusercontent.com/a-/AOh14Gh3X37qk8ArY-wrAsV32hHxnkYojVI5XaMfvOw5MSE=s64",
      "userId": "07908098511200809974"
     },
     "user_tz": 180
    },
    "id": "qAM4MyfA59CE",
    "outputId": "aae9fd94-cad3-49af-fc43-7175faa285da"
   },
   "outputs": [
    {
     "data": {
      "text/plain": [
       "array([[ 3.48521925,  0.5263255 , -0.13973834, ...,  0.08690179,\n",
       "        -0.17920558,  0.07907785],\n",
       "       [-2.17691231, -0.28542399, -1.3046126 , ..., -0.28969849,\n",
       "        -0.04114712, -0.01312739],\n",
       "       [ 2.6849731 ,  1.04694609, -0.73215552, ..., -0.53516815,\n",
       "        -0.07574501,  0.15995575],\n",
       "       ...,\n",
       "       [-0.05384928, -1.58270559, -0.2851369 , ..., -0.30790924,\n",
       "         0.49848823, -0.15274899],\n",
       "       [ 0.78538633,  1.18244612,  0.60971526, ..., -0.20311094,\n",
       "        -0.21777245, -0.1097028 ],\n",
       "       [ 0.54934121, -0.22344808,  0.0834219 , ..., -0.1413986 ,\n",
       "        -0.23267174, -0.22236514]])"
      ]
     },
     "execution_count": 16,
     "metadata": {
      "tags": []
     },
     "output_type": "execute_result"
    }
   ],
   "source": [
    "cars_pca"
   ]
  },
  {
   "cell_type": "code",
   "execution_count": null,
   "metadata": {
    "colab": {
     "base_uri": "https://localhost:8080/",
     "height": 255
    },
    "colab_type": "code",
    "executionInfo": {
     "elapsed": 880,
     "status": "ok",
     "timestamp": 1595033344207,
     "user": {
      "displayName": "Giselle Silva",
      "photoUrl": "https://lh3.googleusercontent.com/a-/AOh14Gh3X37qk8ArY-wrAsV32hHxnkYojVI5XaMfvOw5MSE=s64",
      "userId": "07908098511200809974"
     },
     "user_tz": 180
    },
    "id": "wNMv_hOHZF-s",
    "outputId": "2b5fa384-b7bf-4b3c-b8ae-cef5c8de4803"
   },
   "outputs": [
    {
     "data": {
      "text/plain": [
       "array([[-0.39506171,  0.41462456,  0.42751253,  0.42083433,  0.40887239,\n",
       "        -0.3142291 , -0.2150062 ],\n",
       "       [-0.19235786, -0.19070807, -0.16849764, -0.08613966, -0.2292615 ,\n",
       "        -0.02652165, -0.9151793 ],\n",
       "       [-0.2680554 ,  0.1391496 ,  0.10340802, -0.185907  ,  0.31224967,\n",
       "         0.87177683, -0.07768119],\n",
       "       [ 0.78492487,  0.41897225,  0.30488383,  0.03359866, -0.06717148,\n",
       "         0.14290115, -0.29889703],\n",
       "       [ 0.25375313, -0.57284721, -0.04443588,  0.68664366,  0.29119507,\n",
       "         0.21066934, -0.06946382],\n",
       "       [-0.23036388,  0.16557147,  0.13987454,  0.48340333, -0.75927279,\n",
       "         0.27232377,  0.12497802],\n",
       "       [ 0.03880446,  0.49117076, -0.8146501 ,  0.27318464,  0.13023416,\n",
       "         0.03999117, -0.02001608]])"
      ]
     },
     "execution_count": 32,
     "metadata": {
      "tags": []
     },
     "output_type": "execute_result"
    }
   ],
   "source": [
    "pca.components_"
   ]
  },
  {
   "cell_type": "markdown",
   "metadata": {
    "colab_type": "text",
    "id": "OgP-_8WZ5soQ"
   },
   "source": [
    "**Algoritmos supervisionados e não supervisionados**"
   ]
  },
  {
   "cell_type": "code",
   "execution_count": null,
   "metadata": {
    "colab": {
     "base_uri": "https://localhost:8080/",
     "height": 68
    },
    "colab_type": "code",
    "executionInfo": {
     "elapsed": 1043,
     "status": "ok",
     "timestamp": 1595030028333,
     "user": {
      "displayName": "Giselle Silva",
      "photoUrl": "https://lh3.googleusercontent.com/a-/AOh14Gh3X37qk8ArY-wrAsV32hHxnkYojVI5XaMfvOw5MSE=s64",
      "userId": "07908098511200809974"
     },
     "user_tz": 180
    },
    "id": "PIqZTuolO2KH",
    "outputId": "1a83b092-ba05-490f-db00-a264c5f071b2"
   },
   "outputs": [
    {
     "data": {
      "text/plain": [
       "KMeans(algorithm='auto', copy_x=True, init='k-means++', max_iter=300,\n",
       "       n_clusters=3, n_init=10, n_jobs=None, precompute_distances='auto',\n",
       "       random_state=42, tol=0.0001, verbose=0)"
      ]
     },
     "execution_count": 27,
     "metadata": {
      "tags": []
     },
     "output_type": "execute_result"
    }
   ],
   "source": [
    "from sklearn.cluster import KMeans\n",
    "\n",
    "clusters = KMeans(n_clusters=3,random_state=42)\n",
    "clusters.fit(cars_pca[:,:2])"
   ]
  },
  {
   "cell_type": "code",
   "execution_count": null,
   "metadata": {
    "colab": {
     "base_uri": "https://localhost:8080/",
     "height": 68
    },
    "colab_type": "code",
    "executionInfo": {
     "elapsed": 1021,
     "status": "ok",
     "timestamp": 1595029879100,
     "user": {
      "displayName": "Giselle Silva",
      "photoUrl": "https://lh3.googleusercontent.com/a-/AOh14Gh3X37qk8ArY-wrAsV32hHxnkYojVI5XaMfvOw5MSE=s64",
      "userId": "07908098511200809974"
     },
     "user_tz": 180
    },
    "id": "9cDzgWFXMGie",
    "outputId": "6685974c-6b3d-4184-d422-10ce15e4a8b7"
   },
   "outputs": [
    {
     "data": {
      "text/plain": [
       "array([[-0.26236327,  0.38569325],\n",
       "       [ 3.08082252, -0.19838979],\n",
       "       [-2.24347328, -0.23234707]])"
      ]
     },
     "execution_count": 24,
     "metadata": {
      "tags": []
     },
     "output_type": "execute_result"
    }
   ],
   "source": [
    "clusters.cluster_centers_"
   ]
  },
  {
   "cell_type": "code",
   "execution_count": null,
   "metadata": {
    "colab": {
     "base_uri": "https://localhost:8080/",
     "height": 238
    },
    "colab_type": "code",
    "executionInfo": {
     "elapsed": 970,
     "status": "ok",
     "timestamp": 1595030038595,
     "user": {
      "displayName": "Giselle Silva",
      "photoUrl": "https://lh3.googleusercontent.com/a-/AOh14Gh3X37qk8ArY-wrAsV32hHxnkYojVI5XaMfvOw5MSE=s64",
      "userId": "07908098511200809974"
     },
     "user_tz": 180
    },
    "id": "pRqUrydfRTEs",
    "outputId": "f563500e-6261-4761-b1aa-921267a72154"
   },
   "outputs": [
    {
     "data": {
      "text/plain": [
       "array([1, 2, 1, 1, 2, 1, 1, 1, 2, 2, 2, 2, 1, 1, 0, 1, 2, 1, 0, 0, 2, 0,\n",
       "       0, 1, 2, 2, 2, 1, 0, 2, 0, 0, 0, 0, 2, 0, 2, 0, 1, 0, 0, 1, 0, 0,\n",
       "       1, 2, 1, 0, 2, 0, 1, 2, 1, 0, 1, 1, 0, 2, 2, 1, 0, 0, 0, 2, 1, 0,\n",
       "       2, 2, 2, 1, 0, 2, 0, 0, 2, 2, 0, 0, 0, 2, 1, 1, 1, 0, 2, 2, 0, 0,\n",
       "       2, 2, 2, 2, 1, 0, 2, 0, 1, 0, 1, 0, 1, 1, 0, 2, 2, 2, 2, 0, 0, 1,\n",
       "       0, 0, 1, 2, 2, 0, 0, 0, 2, 1, 2, 2, 1, 0, 2, 0, 1, 2, 0, 2, 0, 2,\n",
       "       1, 1, 1, 1, 2, 1, 0, 0, 0, 2, 2, 2, 1, 0, 0, 2, 1, 1, 2, 2, 1, 0,\n",
       "       2, 0, 0, 2, 0, 0, 2, 1, 0, 0, 2, 0, 0, 2, 0, 2, 2, 0, 2, 2, 0, 2,\n",
       "       1, 1, 1, 2, 0, 2, 1, 1, 2, 0, 0, 1, 1, 1, 2, 2, 1, 1, 1, 2, 2, 2,\n",
       "       2, 2, 0, 0, 0, 0, 0, 1, 2, 0, 1, 0, 0, 1, 2, 2, 0, 2, 2, 1, 0, 1,\n",
       "       0, 0, 1, 0, 1, 2, 1, 2, 0, 2, 1, 2, 2, 1, 0, 2, 1, 0, 2, 0, 1, 0,\n",
       "       1, 0, 1, 1, 1, 2, 2, 2, 2, 0, 2, 1, 0, 0, 1, 2, 0, 0, 0],\n",
       "      dtype=int32)"
      ]
     },
     "execution_count": 28,
     "metadata": {
      "tags": []
     },
     "output_type": "execute_result"
    }
   ],
   "source": [
    "clusters.labels_"
   ]
  },
  {
   "cell_type": "code",
   "execution_count": null,
   "metadata": {
    "colab": {
     "base_uri": "https://localhost:8080/",
     "height": 34
    },
    "colab_type": "code",
    "executionInfo": {
     "elapsed": 1006,
     "status": "ok",
     "timestamp": 1595030269414,
     "user": {
      "displayName": "Giselle Silva",
      "photoUrl": "https://lh3.googleusercontent.com/a-/AOh14Gh3X37qk8ArY-wrAsV32hHxnkYojVI5XaMfvOw5MSE=s64",
      "userId": "07908098511200809974"
     },
     "user_tz": 180
    },
    "id": "SlL-A9hwNjHE",
    "outputId": "c438f83b-7075-4fe8-c242-d46897a14b34"
   },
   "outputs": [
    {
     "data": {
      "text/plain": [
       "(array([0, 1, 2], dtype=int32), array([94, 75, 92]))"
      ]
     },
     "execution_count": 29,
     "metadata": {
      "tags": []
     },
     "output_type": "execute_result"
    }
   ],
   "source": [
    "np.unique(clusters.labels_, return_counts=True)"
   ]
  },
  {
   "cell_type": "markdown",
   "metadata": {
    "colab_type": "text",
    "id": "6HLCfaP-MJqv"
   },
   "source": [
    "Trsnformando a variável MPG em binária:"
   ]
  },
  {
   "cell_type": "code",
   "execution_count": null,
   "metadata": {
    "colab": {
     "base_uri": "https://localhost:8080/",
     "height": 68
    },
    "colab_type": "code",
    "executionInfo": {
     "elapsed": 1025,
     "status": "ok",
     "timestamp": 1595020501125,
     "user": {
      "displayName": "Giselle Silva",
      "photoUrl": "https://lh3.googleusercontent.com/a-/AOh14Gh3X37qk8ArY-wrAsV32hHxnkYojVI5XaMfvOw5MSE=s64",
      "userId": "07908098511200809974"
     },
     "user_tz": 180
    },
    "id": "fBRymxK6jNGI",
    "outputId": "1da5b80d-db73-4980-da80-a66ee82f754a"
   },
   "outputs": [
    {
     "data": {
      "text/plain": [
       "0    162\n",
       "1     99\n",
       "Name: eficiencia, dtype: int64"
      ]
     },
     "execution_count": 13,
     "metadata": {
      "tags": []
     },
     "output_type": "execute_result"
    }
   ],
   "source": [
    "dataset_cars['eficiencia']=np.where(dataset_cars['mpg']>25,1,0)\n",
    "\n",
    "dataset_cars['eficiencia'].value_counts()"
   ]
  },
  {
   "cell_type": "code",
   "execution_count": null,
   "metadata": {
    "colab": {
     "base_uri": "https://localhost:8080/",
     "height": 204
    },
    "colab_type": "code",
    "executionInfo": {
     "elapsed": 1023,
     "status": "ok",
     "timestamp": 1595020548040,
     "user": {
      "displayName": "Giselle Silva",
      "photoUrl": "https://lh3.googleusercontent.com/a-/AOh14Gh3X37qk8ArY-wrAsV32hHxnkYojVI5XaMfvOw5MSE=s64",
      "userId": "07908098511200809974"
     },
     "user_tz": 180
    },
    "id": "dO-9VFAYoZXF",
    "outputId": "3408034f-4092-48bf-8225-c30a4d9c57db"
   },
   "outputs": [
    {
     "data": {
      "text/html": [
       "<div>\n",
       "<style scoped>\n",
       "    .dataframe tbody tr th:only-of-type {\n",
       "        vertical-align: middle;\n",
       "    }\n",
       "\n",
       "    .dataframe tbody tr th {\n",
       "        vertical-align: top;\n",
       "    }\n",
       "\n",
       "    .dataframe thead th {\n",
       "        text-align: right;\n",
       "    }\n",
       "</style>\n",
       "<table border=\"1\" class=\"dataframe\">\n",
       "  <thead>\n",
       "    <tr style=\"text-align: right;\">\n",
       "      <th></th>\n",
       "      <th>mpg</th>\n",
       "      <th>cylinders</th>\n",
       "      <th>cubicinches</th>\n",
       "      <th>hp</th>\n",
       "      <th>weightlbs</th>\n",
       "      <th>time-to-60</th>\n",
       "      <th>year</th>\n",
       "      <th>brand</th>\n",
       "      <th>eficiencia</th>\n",
       "    </tr>\n",
       "  </thead>\n",
       "  <tbody>\n",
       "    <tr>\n",
       "      <th>0</th>\n",
       "      <td>14.0</td>\n",
       "      <td>8</td>\n",
       "      <td>350.0</td>\n",
       "      <td>165</td>\n",
       "      <td>4209.0</td>\n",
       "      <td>12</td>\n",
       "      <td>1972</td>\n",
       "      <td>US.</td>\n",
       "      <td>0</td>\n",
       "    </tr>\n",
       "    <tr>\n",
       "      <th>1</th>\n",
       "      <td>31.9</td>\n",
       "      <td>4</td>\n",
       "      <td>89.0</td>\n",
       "      <td>71</td>\n",
       "      <td>1925.0</td>\n",
       "      <td>14</td>\n",
       "      <td>1980</td>\n",
       "      <td>Europe.</td>\n",
       "      <td>1</td>\n",
       "    </tr>\n",
       "    <tr>\n",
       "      <th>2</th>\n",
       "      <td>17.0</td>\n",
       "      <td>8</td>\n",
       "      <td>302.0</td>\n",
       "      <td>140</td>\n",
       "      <td>3449.0</td>\n",
       "      <td>11</td>\n",
       "      <td>1971</td>\n",
       "      <td>US.</td>\n",
       "      <td>0</td>\n",
       "    </tr>\n",
       "    <tr>\n",
       "      <th>3</th>\n",
       "      <td>15.0</td>\n",
       "      <td>8</td>\n",
       "      <td>400.0</td>\n",
       "      <td>150</td>\n",
       "      <td>3761.0</td>\n",
       "      <td>10</td>\n",
       "      <td>1971</td>\n",
       "      <td>US.</td>\n",
       "      <td>0</td>\n",
       "    </tr>\n",
       "    <tr>\n",
       "      <th>4</th>\n",
       "      <td>30.5</td>\n",
       "      <td>4</td>\n",
       "      <td>98.0</td>\n",
       "      <td>63</td>\n",
       "      <td>2051.0</td>\n",
       "      <td>17</td>\n",
       "      <td>1978</td>\n",
       "      <td>US.</td>\n",
       "      <td>1</td>\n",
       "    </tr>\n",
       "  </tbody>\n",
       "</table>\n",
       "</div>"
      ],
      "text/plain": [
       "    mpg  cylinders  cubicinches   hp  ...  time-to-60  year     brand eficiencia\n",
       "0  14.0          8        350.0  165  ...          12  1972       US.          0\n",
       "1  31.9          4         89.0   71  ...          14  1980   Europe.          1\n",
       "2  17.0          8        302.0  140  ...          11  1971       US.          0\n",
       "3  15.0          8        400.0  150  ...          10  1971       US.          0\n",
       "4  30.5          4         98.0   63  ...          17  1978       US.          1\n",
       "\n",
       "[5 rows x 9 columns]"
      ]
     },
     "execution_count": 16,
     "metadata": {
      "tags": []
     },
     "output_type": "execute_result"
    }
   ],
   "source": [
    "dataset_cars.head()"
   ]
  },
  {
   "cell_type": "markdown",
   "metadata": {
    "colab_type": "text",
    "id": "vS3tmkkUpWUp"
   },
   "source": [
    "**Árvore de Decisão**"
   ]
  },
  {
   "cell_type": "code",
   "execution_count": null,
   "metadata": {
    "colab": {},
    "colab_type": "code",
    "id": "5GEhYGkgpUCx"
   },
   "outputs": [],
   "source": [
    "#'cylinders' ,'cubicinches' ,'hp' ,'weightlbs','time-to-60'\n",
    "entradas = dataset_cars.iloc[:,1:6]\n",
    "saida = dataset_cars.iloc[:,-1]"
   ]
  },
  {
   "cell_type": "code",
   "execution_count": null,
   "metadata": {
    "colab": {},
    "colab_type": "code",
    "id": "zdRAfpvapc3V"
   },
   "outputs": [],
   "source": [
    "normaliza = StandardScaler()  #objeto que normaliza os dados\n",
    "entrada_norm = normaliza.fit_transform(entradas)"
   ]
  },
  {
   "cell_type": "code",
   "execution_count": null,
   "metadata": {
    "colab": {},
    "colab_type": "code",
    "id": "2bD6_rS8rIuT"
   },
   "outputs": [],
   "source": [
    "#aplicando o divisão do dataset entre dados de treinamento e teste\n",
    "from sklearn.model_selection import train_test_split\n",
    "X_train, X_test, y_train, y_test = train_test_split(entrada_norm, saida, test_size=0.30,random_state=42)"
   ]
  },
  {
   "cell_type": "code",
   "execution_count": null,
   "metadata": {
    "colab": {},
    "colab_type": "code",
    "id": "UFn0saVoshXD"
   },
   "outputs": [],
   "source": [
    "#árvore de decisão\n",
    "from sklearn.tree import DecisionTreeClassifier\n",
    "\n",
    "clf_arvore = DecisionTreeClassifier(random_state=42)\n",
    "\n",
    "clf_arvore = clf_arvore.fit(X_train,y_train)\n",
    "\n",
    "y_pred_arvore = clf_arvore.predict(X_test)"
   ]
  },
  {
   "cell_type": "code",
   "execution_count": null,
   "metadata": {
    "colab": {
     "base_uri": "https://localhost:8080/",
     "height": 34
    },
    "colab_type": "code",
    "executionInfo": {
     "elapsed": 767,
     "status": "ok",
     "timestamp": 1595022428140,
     "user": {
      "displayName": "Giselle Silva",
      "photoUrl": "https://lh3.googleusercontent.com/a-/AOh14Gh3X37qk8ArY-wrAsV32hHxnkYojVI5XaMfvOw5MSE=s64",
      "userId": "07908098511200809974"
     },
     "user_tz": 180
    },
    "id": "Jf6-yuiAsus1",
    "outputId": "511233a7-29ed-4d9b-c43e-aacd0e1e0348"
   },
   "outputs": [
    {
     "name": "stdout",
     "output_type": "stream",
     "text": [
      "Acurácia para a classificação utilizando o AD:   0.8734177215189873\n"
     ]
    }
   ],
   "source": [
    "from sklearn.metrics import accuracy_score\n",
    "print(\"Acurácia para a classificação utilizando o AD:  \",accuracy_score(y_pred_arvore,y_test))"
   ]
  },
  {
   "cell_type": "code",
   "execution_count": null,
   "metadata": {
    "colab": {
     "base_uri": "https://localhost:8080/",
     "height": 309
    },
    "colab_type": "code",
    "executionInfo": {
     "elapsed": 1041,
     "status": "ok",
     "timestamp": 1595022451663,
     "user": {
      "displayName": "Giselle Silva",
      "photoUrl": "https://lh3.googleusercontent.com/a-/AOh14Gh3X37qk8ArY-wrAsV32hHxnkYojVI5XaMfvOw5MSE=s64",
      "userId": "07908098511200809974"
     },
     "user_tz": 180
    },
    "id": "nskXzrAttC8v",
    "outputId": "6df5f29d-7b8f-49a2-b471-2d6f8954ad66"
   },
   "outputs": [
    {
     "data": {
      "image/png": "[encoded data removed]",
      "text/plain": [
       "<Figure size 360x360 with 2 Axes>"
      ]
     },
     "metadata": {
      "needs_background": "light",
      "tags": []
     },
     "output_type": "display_data"
    }
   ],
   "source": [
    "#realiza o plot da matriz de confusão\n",
    "from sklearn.metrics import plot_confusion_matrix\n",
    "plt.rcParams[\"figure.figsize\"]=(5, 5)\n",
    "plot_confusion_matrix(clf_arvore, X_test, y_test)\n",
    "plt.show()"
   ]
  },
  {
   "cell_type": "markdown",
   "metadata": {
    "colab_type": "text",
    "id": "l_YYlAGRj3Nk"
   },
   "source": [
    "**Regressão Logística**"
   ]
  },
  {
   "cell_type": "code",
   "execution_count": null,
   "metadata": {
    "colab": {},
    "colab_type": "code",
    "id": "-w2grubx23Fi"
   },
   "outputs": [],
   "source": [
    "from sklearn.linear_model import LogisticRegression\n",
    "from sklearn.metrics import roc_auc_score, roc_curve, classification_report,\\\n",
    "                            accuracy_score, confusion_matrix, auc"
   ]
  },
  {
   "cell_type": "code",
   "execution_count": null,
   "metadata": {
    "colab": {},
    "colab_type": "code",
    "id": "bC92auiYu-ku"
   },
   "outputs": [],
   "source": [
    "clf_log = LogisticRegression(random_state=42)\n",
    "\n",
    "clf_log = clf_log.fit(X_train,y_train)\n",
    "\n",
    "y_pred_log = clf_log.predict(X_test)"
   ]
  },
  {
   "cell_type": "code",
   "execution_count": null,
   "metadata": {
    "colab": {
     "base_uri": "https://localhost:8080/",
     "height": 34
    },
    "colab_type": "code",
    "executionInfo": {
     "elapsed": 1352,
     "status": "ok",
     "timestamp": 1595024672018,
     "user": {
      "displayName": "Giselle Silva",
      "photoUrl": "https://lh3.googleusercontent.com/a-/AOh14Gh3X37qk8ArY-wrAsV32hHxnkYojVI5XaMfvOw5MSE=s64",
      "userId": "07908098511200809974"
     },
     "user_tz": 180
    },
    "id": "vKBMR_SJ4IZ4",
    "outputId": "e8fff645-0c3c-4b4b-b02b-283530396ac1"
   },
   "outputs": [
    {
     "name": "stdout",
     "output_type": "stream",
     "text": [
      "Acurácia para a classificação utilizando o Reg. Logística:   0.8607594936708861\n"
     ]
    }
   ],
   "source": [
    "print(\"Acurácia para a classificação utilizando o Reg. Logística:  \",accuracy_score(y_pred_log,y_test))"
   ]
  },
  {
   "cell_type": "code",
   "execution_count": null,
   "metadata": {
    "colab": {
     "base_uri": "https://localhost:8080/",
     "height": 309
    },
    "colab_type": "code",
    "executionInfo": {
     "elapsed": 830,
     "status": "ok",
     "timestamp": 1595024696043,
     "user": {
      "displayName": "Giselle Silva",
      "photoUrl": "https://lh3.googleusercontent.com/a-/AOh14Gh3X37qk8ArY-wrAsV32hHxnkYojVI5XaMfvOw5MSE=s64",
      "userId": "07908098511200809974"
     },
     "user_tz": 180
    },
    "id": "EezewA3b4RW-",
    "outputId": "5fc715a5-b7c8-4063-9041-b33ab4e8addf"
   },
   "outputs": [
    {
     "data": {
      "image/png": "[encoded data removed]",
      "text/plain": [
       "<Figure size 360x360 with 2 Axes>"
      ]
     },
     "metadata": {
      "needs_background": "light",
      "tags": []
     },
     "output_type": "display_data"
    }
   ],
   "source": [
    "#realiza o plot da matriz de confusão\n",
    "from sklearn.metrics import plot_confusion_matrix\n",
    "plt.rcParams[\"figure.figsize\"]=(5, 5)\n",
    "plot_confusion_matrix(clf_log, X_test, y_test)\n",
    "plt.show()"
   ]
  }
 ],
 "metadata": {
  "colab": {
   "authorship_tag": "ABX9TyNnmS2I4+uFC/UbwdbFTgmW",
   "collapsed_sections": [],
   "name": "Desafio_Final_ML.ipynb",
   "provenance": []
  },
  "kernelspec": {
   "display_name": "Python 3",
   "language": "python",
   "name": "python3"
  },
  "language_info": {
   "codemirror_mode": {
    "name": "ipython",
    "version": 3
   },
   "file_extension": ".py",
   "mimetype": "text/x-python",
   "name": "python",
   "nbconvert_exporter": "python",
   "pygments_lexer": "ipython3",
   "version": "3.8.3"
  }
 },
 "nbformat": 4,
 "nbformat_minor": 4
}
