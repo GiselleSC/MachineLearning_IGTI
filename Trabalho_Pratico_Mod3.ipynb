{
 "cells": [
  {
   "cell_type": "markdown",
   "metadata": {
    "colab": {},
    "colab_type": "code",
    "executionInfo": {
     "elapsed": 1485,
     "status": "ok",
     "timestamp": 1592783207185,
     "user": {
      "displayName": "Giselle Silva",
      "photoUrl": "https://lh3.googleusercontent.com/a-/AOh14Gh3X37qk8ArY-wrAsV32hHxnkYojVI5XaMfvOw5MSE=s64",
      "userId": "07908098511200809974"
     },
     "user_tz": 180
    },
    "id": "0GvLKQfjVSOG"
   },
   "source": [
    "# *******************************************************\n",
    "# IGTI - Bootcamp Analista de Machine Learning\n",
    "# Módulo 3 - Seleção de Modelos de ML\n",
    "# TRABALHO PRATICO - GISELLE\n",
    "# *******************************************************"
   ]
  },
  {
   "cell_type": "raw",
   "metadata": {},
   "source": [
    "Objetivos principais:\n",
    "\n",
    "1. Utilizar dois algoritmos de classificação para resolver um problema.\n",
    "2. Fazer a análise deste problema com uso de métricas de qualidade, comparando as soluções.\n",
    "3. Tornar mais robusta a solução do problema com uso de validação cruzada e busca de hiperparâmetros.\n",
    "\n",
    "Para este trabalho a linguagem utilizada será o Python, e a ferramenta de desenvolvimento recomendada é o Google Colaboratory. O objetivo é gerar dois modelos para resolver o problema e compará-los usando as métricas de qualidade adequadas e técnicas para deixá-los robustos."
   ]
  },
  {
   "cell_type": "code",
   "execution_count": 7,
   "metadata": {
    "colab": {},
    "colab_type": "code",
    "executionInfo": {
     "elapsed": 1942,
     "status": "ok",
     "timestamp": 1592783207659,
     "user": {
      "displayName": "Giselle Silva",
      "photoUrl": "https://lh3.googleusercontent.com/a-/AOh14Gh3X37qk8ArY-wrAsV32hHxnkYojVI5XaMfvOw5MSE=s64",
      "userId": "07908098511200809974"
     },
     "user_tz": 180
    },
    "id": "lKATfMlSVXtl"
   },
   "outputs": [],
   "source": [
    "from sklearn import datasets\n",
    "from sklearn.decomposition import PCA\n",
    "\n",
    "import pandas as pd\n",
    "import numpy as np\n",
    "from matplotlib import pyplot as plt\n",
    "from sklearn.model_selection import train_test_split,KFold,cross_val_score, cross_val_predict \n",
    "from sklearn.metrics import mean_absolute_error #utilizada para o calculo do MAE\n",
    "from sklearn.metrics import mean_squared_error #utilizada para o calculo do MSE\n",
    "from sklearn import metrics  #utilizada para as métricas de comparação entre os métodos\n",
    "from sklearn.ensemble import RandomForestClassifier\n",
    "from sklearn.neighbors import KNeighborsClassifier\n",
    "from sklearn.metrics import accuracy_score, recall_score, precision_score\n",
    "from sklearn.model_selection import GridSearchCV  #busca exaustiva em grid\n",
    "from sklearn.model_selection import cross_val_score"
   ]
  },
  {
   "cell_type": "markdown",
   "metadata": {
    "colab_type": "text",
    "id": "j6IbkgWKLGaW"
   },
   "source": [
    "**Conhecendo o banco de dados**"
   ]
  },
  {
   "cell_type": "code",
   "execution_count": 8,
   "metadata": {
    "colab": {},
    "colab_type": "code",
    "executionInfo": {
     "elapsed": 1924,
     "status": "ok",
     "timestamp": 1592783207661,
     "user": {
      "displayName": "Giselle Silva",
      "photoUrl": "https://lh3.googleusercontent.com/a-/AOh14Gh3X37qk8ArY-wrAsV32hHxnkYojVI5XaMfvOw5MSE=s64",
      "userId": "07908098511200809974"
     },
     "user_tz": 180
    },
    "id": "N3Y-px_0Rb-6"
   },
   "outputs": [],
   "source": [
    "iris = datasets.load_iris()  #dataset IRIS"
   ]
  },
  {
   "cell_type": "code",
   "execution_count": 9,
   "metadata": {
    "colab": {},
    "colab_type": "code",
    "executionInfo": {
     "elapsed": 1881,
     "status": "ok",
     "timestamp": 1592783207663,
     "user": {
      "displayName": "Giselle Silva",
      "photoUrl": "https://lh3.googleusercontent.com/a-/AOh14Gh3X37qk8ArY-wrAsV32hHxnkYojVI5XaMfvOw5MSE=s64",
      "userId": "07908098511200809974"
     },
     "user_tz": 180
    },
    "id": "YoohRun-KtGF"
   },
   "outputs": [],
   "source": [
    "df_iris = pd.DataFrame(data= np.c_[iris['data'], iris['target']],   # variável target = saída (especie que a planta pertence)\n",
    "                     columns= iris['feature_names'] + ['target'])"
   ]
  },
  {
   "cell_type": "code",
   "execution_count": 10,
   "metadata": {
    "colab": {
     "base_uri": "https://localhost:8080/",
     "height": 204
    },
    "colab_type": "code",
    "executionInfo": {
     "elapsed": 1836,
     "status": "ok",
     "timestamp": 1592783207664,
     "user": {
      "displayName": "Giselle Silva",
      "photoUrl": "https://lh3.googleusercontent.com/a-/AOh14Gh3X37qk8ArY-wrAsV32hHxnkYojVI5XaMfvOw5MSE=s64",
      "userId": "07908098511200809974"
     },
     "user_tz": 180
    },
    "id": "hQioJ1iNVvPz",
    "outputId": "54ba7dd0-ecfb-4b01-c3b3-c52785476a03"
   },
   "outputs": [
    {
     "data": {
      "text/html": [
       "<div>\n",
       "<style scoped>\n",
       "    .dataframe tbody tr th:only-of-type {\n",
       "        vertical-align: middle;\n",
       "    }\n",
       "\n",
       "    .dataframe tbody tr th {\n",
       "        vertical-align: top;\n",
       "    }\n",
       "\n",
       "    .dataframe thead th {\n",
       "        text-align: right;\n",
       "    }\n",
       "</style>\n",
       "<table border=\"1\" class=\"dataframe\">\n",
       "  <thead>\n",
       "    <tr style=\"text-align: right;\">\n",
       "      <th></th>\n",
       "      <th>sepal length (cm)</th>\n",
       "      <th>sepal width (cm)</th>\n",
       "      <th>petal length (cm)</th>\n",
       "      <th>petal width (cm)</th>\n",
       "      <th>target</th>\n",
       "    </tr>\n",
       "  </thead>\n",
       "  <tbody>\n",
       "    <tr>\n",
       "      <th>0</th>\n",
       "      <td>5.1</td>\n",
       "      <td>3.5</td>\n",
       "      <td>1.4</td>\n",
       "      <td>0.2</td>\n",
       "      <td>0.0</td>\n",
       "    </tr>\n",
       "    <tr>\n",
       "      <th>1</th>\n",
       "      <td>4.9</td>\n",
       "      <td>3.0</td>\n",
       "      <td>1.4</td>\n",
       "      <td>0.2</td>\n",
       "      <td>0.0</td>\n",
       "    </tr>\n",
       "    <tr>\n",
       "      <th>2</th>\n",
       "      <td>4.7</td>\n",
       "      <td>3.2</td>\n",
       "      <td>1.3</td>\n",
       "      <td>0.2</td>\n",
       "      <td>0.0</td>\n",
       "    </tr>\n",
       "    <tr>\n",
       "      <th>3</th>\n",
       "      <td>4.6</td>\n",
       "      <td>3.1</td>\n",
       "      <td>1.5</td>\n",
       "      <td>0.2</td>\n",
       "      <td>0.0</td>\n",
       "    </tr>\n",
       "    <tr>\n",
       "      <th>4</th>\n",
       "      <td>5.0</td>\n",
       "      <td>3.6</td>\n",
       "      <td>1.4</td>\n",
       "      <td>0.2</td>\n",
       "      <td>0.0</td>\n",
       "    </tr>\n",
       "  </tbody>\n",
       "</table>\n",
       "</div>"
      ],
      "text/plain": [
       "   sepal length (cm)  sepal width (cm)  ...  petal width (cm)  target\n",
       "0                5.1               3.5  ...               0.2     0.0\n",
       "1                4.9               3.0  ...               0.2     0.0\n",
       "2                4.7               3.2  ...               0.2     0.0\n",
       "3                4.6               3.1  ...               0.2     0.0\n",
       "4                5.0               3.6  ...               0.2     0.0\n",
       "\n",
       "[5 rows x 5 columns]"
      ]
     },
     "execution_count": 10,
     "metadata": {
      "tags": []
     },
     "output_type": "execute_result"
    }
   ],
   "source": [
    "df_iris.head()"
   ]
  },
  {
   "cell_type": "code",
   "execution_count": 11,
   "metadata": {
    "colab": {
     "base_uri": "https://localhost:8080/",
     "height": 85
    },
    "colab_type": "code",
    "executionInfo": {
     "elapsed": 1778,
     "status": "ok",
     "timestamp": 1592783207666,
     "user": {
      "displayName": "Giselle Silva",
      "photoUrl": "https://lh3.googleusercontent.com/a-/AOh14Gh3X37qk8ArY-wrAsV32hHxnkYojVI5XaMfvOw5MSE=s64",
      "userId": "07908098511200809974"
     },
     "user_tz": 180
    },
    "id": "zFAC0GKcVvLK",
    "outputId": "b582531e-08d8-485b-df20-d073f22c9ec0"
   },
   "outputs": [
    {
     "data": {
      "text/plain": [
       "2.0    50\n",
       "1.0    50\n",
       "0.0    50\n",
       "Name: target, dtype: int64"
      ]
     },
     "execution_count": 11,
     "metadata": {
      "tags": []
     },
     "output_type": "execute_result"
    }
   ],
   "source": [
    "#Classe a ser usada nos modelos de classificação\n",
    "df_iris['target'].value_counts()"
   ]
  },
  {
   "cell_type": "code",
   "execution_count": 12,
   "metadata": {
    "colab": {
     "base_uri": "https://localhost:8080/",
     "height": 297
    },
    "colab_type": "code",
    "executionInfo": {
     "elapsed": 1743,
     "status": "ok",
     "timestamp": 1592783207667,
     "user": {
      "displayName": "Giselle Silva",
      "photoUrl": "https://lh3.googleusercontent.com/a-/AOh14Gh3X37qk8ArY-wrAsV32hHxnkYojVI5XaMfvOw5MSE=s64",
      "userId": "07908098511200809974"
     },
     "user_tz": 180
    },
    "id": "rqsTTWKMLZYt",
    "outputId": "e75b52d6-faa5-4350-ad44-5969ff1b0d44"
   },
   "outputs": [
    {
     "data": {
      "text/html": [
       "<div>\n",
       "<style scoped>\n",
       "    .dataframe tbody tr th:only-of-type {\n",
       "        vertical-align: middle;\n",
       "    }\n",
       "\n",
       "    .dataframe tbody tr th {\n",
       "        vertical-align: top;\n",
       "    }\n",
       "\n",
       "    .dataframe thead th {\n",
       "        text-align: right;\n",
       "    }\n",
       "</style>\n",
       "<table border=\"1\" class=\"dataframe\">\n",
       "  <thead>\n",
       "    <tr style=\"text-align: right;\">\n",
       "      <th></th>\n",
       "      <th>sepal length (cm)</th>\n",
       "      <th>sepal width (cm)</th>\n",
       "      <th>petal length (cm)</th>\n",
       "      <th>petal width (cm)</th>\n",
       "      <th>target</th>\n",
       "    </tr>\n",
       "  </thead>\n",
       "  <tbody>\n",
       "    <tr>\n",
       "      <th>count</th>\n",
       "      <td>150.000000</td>\n",
       "      <td>150.000000</td>\n",
       "      <td>150.000000</td>\n",
       "      <td>150.000000</td>\n",
       "      <td>150.000000</td>\n",
       "    </tr>\n",
       "    <tr>\n",
       "      <th>mean</th>\n",
       "      <td>5.843333</td>\n",
       "      <td>3.057333</td>\n",
       "      <td>3.758000</td>\n",
       "      <td>1.199333</td>\n",
       "      <td>1.000000</td>\n",
       "    </tr>\n",
       "    <tr>\n",
       "      <th>std</th>\n",
       "      <td>0.828066</td>\n",
       "      <td>0.435866</td>\n",
       "      <td>1.765298</td>\n",
       "      <td>0.762238</td>\n",
       "      <td>0.819232</td>\n",
       "    </tr>\n",
       "    <tr>\n",
       "      <th>min</th>\n",
       "      <td>4.300000</td>\n",
       "      <td>2.000000</td>\n",
       "      <td>1.000000</td>\n",
       "      <td>0.100000</td>\n",
       "      <td>0.000000</td>\n",
       "    </tr>\n",
       "    <tr>\n",
       "      <th>25%</th>\n",
       "      <td>5.100000</td>\n",
       "      <td>2.800000</td>\n",
       "      <td>1.600000</td>\n",
       "      <td>0.300000</td>\n",
       "      <td>0.000000</td>\n",
       "    </tr>\n",
       "    <tr>\n",
       "      <th>50%</th>\n",
       "      <td>5.800000</td>\n",
       "      <td>3.000000</td>\n",
       "      <td>4.350000</td>\n",
       "      <td>1.300000</td>\n",
       "      <td>1.000000</td>\n",
       "    </tr>\n",
       "    <tr>\n",
       "      <th>75%</th>\n",
       "      <td>6.400000</td>\n",
       "      <td>3.300000</td>\n",
       "      <td>5.100000</td>\n",
       "      <td>1.800000</td>\n",
       "      <td>2.000000</td>\n",
       "    </tr>\n",
       "    <tr>\n",
       "      <th>max</th>\n",
       "      <td>7.900000</td>\n",
       "      <td>4.400000</td>\n",
       "      <td>6.900000</td>\n",
       "      <td>2.500000</td>\n",
       "      <td>2.000000</td>\n",
       "    </tr>\n",
       "  </tbody>\n",
       "</table>\n",
       "</div>"
      ],
      "text/plain": [
       "       sepal length (cm)  sepal width (cm)  ...  petal width (cm)      target\n",
       "count         150.000000        150.000000  ...        150.000000  150.000000\n",
       "mean            5.843333          3.057333  ...          1.199333    1.000000\n",
       "std             0.828066          0.435866  ...          0.762238    0.819232\n",
       "min             4.300000          2.000000  ...          0.100000    0.000000\n",
       "25%             5.100000          2.800000  ...          0.300000    0.000000\n",
       "50%             5.800000          3.000000  ...          1.300000    1.000000\n",
       "75%             6.400000          3.300000  ...          1.800000    2.000000\n",
       "max             7.900000          4.400000  ...          2.500000    2.000000\n",
       "\n",
       "[8 rows x 5 columns]"
      ]
     },
     "execution_count": 12,
     "metadata": {
      "tags": []
     },
     "output_type": "execute_result"
    }
   ],
   "source": [
    "df_iris.describe()"
   ]
  },
  {
   "cell_type": "markdown",
   "metadata": {
    "colab_type": "text",
    "id": "ra9kGfcuLnqy"
   },
   "source": [
    "**Algoritmos de Classificação**"
   ]
  },
  {
   "cell_type": "code",
   "execution_count": 13,
   "metadata": {
    "colab": {},
    "colab_type": "code",
    "executionInfo": {
     "elapsed": 1699,
     "status": "ok",
     "timestamp": 1592783207667,
     "user": {
      "displayName": "Giselle Silva",
      "photoUrl": "https://lh3.googleusercontent.com/a-/AOh14Gh3X37qk8ArY-wrAsV32hHxnkYojVI5XaMfvOw5MSE=s64",
      "userId": "07908098511200809974"
     },
     "user_tz": 180
    },
    "id": "ZIc2qOGYVhy9"
   },
   "outputs": [],
   "source": [
    "X = iris.data[:, :2] # pegamos as primeiras duas features aqui (apenas sepal lenght e sepal with). Pegue as outras se quiser.\n",
    "y = iris.target      #classificação das flores (0 1 2)"
   ]
  },
  {
   "cell_type": "code",
   "execution_count": 14,
   "metadata": {
    "colab": {
     "base_uri": "https://localhost:8080/",
     "height": 34
    },
    "colab_type": "code",
    "executionInfo": {
     "elapsed": 1646,
     "status": "ok",
     "timestamp": 1592783207668,
     "user": {
      "displayName": "Giselle Silva",
      "photoUrl": "https://lh3.googleusercontent.com/a-/AOh14Gh3X37qk8ArY-wrAsV32hHxnkYojVI5XaMfvOw5MSE=s64",
      "userId": "07908098511200809974"
     },
     "user_tz": 180
    },
    "id": "RldmRLcoVh-f",
    "outputId": "09c80ed6-67e7-441c-fd89-5356fd51e027"
   },
   "outputs": [
    {
     "data": {
      "text/plain": [
       "array([[5.1, 3.5]])"
      ]
     },
     "execution_count": 14,
     "metadata": {
      "tags": []
     },
     "output_type": "execute_result"
    }
   ],
   "source": [
    "y[0] # classe do primeiro elemento\n",
    "X[:1, :] # primeiro elemento a classificar"
   ]
  },
  {
   "cell_type": "markdown",
   "metadata": {
    "colab_type": "text",
    "id": "4Z5QtdaQjuAz"
   },
   "source": [
    "**Buscando os Hiperparâmetros para o Random Forest**"
   ]
  },
  {
   "cell_type": "code",
   "execution_count": 15,
   "metadata": {
    "colab": {
     "base_uri": "https://localhost:8080/",
     "height": 34
    },
    "colab_type": "code",
    "executionInfo": {
     "elapsed": 3368,
     "status": "ok",
     "timestamp": 1592783209434,
     "user": {
      "displayName": "Giselle Silva",
      "photoUrl": "https://lh3.googleusercontent.com/a-/AOh14Gh3X37qk8ArY-wrAsV32hHxnkYojVI5XaMfvOw5MSE=s64",
      "userId": "07908098511200809974"
     },
     "user_tz": 180
    },
    "id": "8e9srAQqVvVG",
    "outputId": "959ed20e-e29d-4abb-c1ca-dbfa67f8c91f"
   },
   "outputs": [
    {
     "name": "stdout",
     "output_type": "stream",
     "text": [
      "Melhor valor para 'min_samples_leaf': 5\n"
     ]
    }
   ],
   "source": [
    "# RFC - Random Forest Classifier\n",
    "rfc = RandomForestClassifier()\n",
    "\n",
    "parameters = {'min_samples_leaf':(5,20)}\n",
    "\n",
    "rfc_iris = GridSearchCV(rfc, parameters)  #rfc -> já instanciado anteriormente neste código\n",
    "rfc_iris.fit( X, y)  #com todos os dados, pois o próprio método de validação faz as devidas separações\n",
    "print(\"Melhor valor para 'min_samples_leaf': {0}\".format( rfc_iris.best_params_['min_samples_leaf']))"
   ]
  },
  {
   "cell_type": "markdown",
   "metadata": {
    "colab_type": "text",
    "id": "PM9cyKf7pRWk"
   },
   "source": [
    "**Ajustando o modelo RF**"
   ]
  },
  {
   "cell_type": "code",
   "execution_count": 16,
   "metadata": {
    "colab": {},
    "colab_type": "code",
    "executionInfo": {
     "elapsed": 3327,
     "status": "ok",
     "timestamp": 1592783209436,
     "user": {
      "displayName": "Giselle Silva",
      "photoUrl": "https://lh3.googleusercontent.com/a-/AOh14Gh3X37qk8ArY-wrAsV32hHxnkYojVI5XaMfvOw5MSE=s64",
      "userId": "07908098511200809974"
     },
     "user_tz": 180
    },
    "id": "g7RaFlV4jxnQ"
   },
   "outputs": [],
   "source": [
    "X_RF_train, X_RF_test, y_RF_train, y_RF_test = train_test_split( X, y, test_size = 0.30, random_state = 42)"
   ]
  },
  {
   "cell_type": "code",
   "execution_count": 17,
   "metadata": {
    "colab": {},
    "colab_type": "code",
    "executionInfo": {
     "elapsed": 3290,
     "status": "ok",
     "timestamp": 1592783209438,
     "user": {
      "displayName": "Giselle Silva",
      "photoUrl": "https://lh3.googleusercontent.com/a-/AOh14Gh3X37qk8ArY-wrAsV32hHxnkYojVI5XaMfvOw5MSE=s64",
      "userId": "07908098511200809974"
     },
     "user_tz": 180
    },
    "id": "Vn6czAQFjxt7"
   },
   "outputs": [],
   "source": [
    "rfc = RandomForestClassifier(min_samples_leaf=5)  #usando o valor de hiperparâmetro definido no GridSearch\n",
    "rfc.fit( X_RF_train, y_RF_train)     #modelo treinado\n",
    "y_RF_pred = rfc.predict( X_RF_test)  #teste do modelo"
   ]
  },
  {
   "cell_type": "code",
   "execution_count": 18,
   "metadata": {
    "colab": {
     "base_uri": "https://localhost:8080/",
     "height": 34
    },
    "colab_type": "code",
    "executionInfo": {
     "elapsed": 3274,
     "status": "ok",
     "timestamp": 1592783209439,
     "user": {
      "displayName": "Giselle Silva",
      "photoUrl": "https://lh3.googleusercontent.com/a-/AOh14Gh3X37qk8ArY-wrAsV32hHxnkYojVI5XaMfvOw5MSE=s64",
      "userId": "07908098511200809974"
     },
     "user_tz": 180
    },
    "id": "CMSH8wVspsBu",
    "outputId": "1236f23b-d05b-4328-ba9b-03423ced0b1a"
   },
   "outputs": [
    {
     "name": "stdout",
     "output_type": "stream",
     "text": [
      "Acurácia: 0.777778  Recall: 0.777778  Precisão: 0.779394\n"
     ]
    }
   ],
   "source": [
    "rfc_acc = round( accuracy_score( y_RF_test, y_RF_pred), 6) # round é para arredondar\n",
    "rfc_recall = round( recall_score( y_RF_test, y_RF_pred, average = 'weighted'), 6) # round é para arredondar\n",
    "rfc_precision = round( precision_score( y_RF_test, y_RF_pred, average = 'weighted'), 6) # round é para arredondar\n",
    "\n",
    "print(\"Acurácia:\",rfc_acc,\" Recall:\", rfc_recall,\" Precisão:\", rfc_precision)"
   ]
  },
  {
   "cell_type": "markdown",
   "metadata": {
    "colab_type": "text",
    "id": "lr83qLzZsAmi"
   },
   "source": [
    "**Buscando os Hiperparâmetros para o KNN**"
   ]
  },
  {
   "cell_type": "code",
   "execution_count": 19,
   "metadata": {
    "colab": {
     "base_uri": "https://localhost:8080/",
     "height": 34
    },
    "colab_type": "code",
    "executionInfo": {
     "elapsed": 3188,
     "status": "ok",
     "timestamp": 1592783209441,
     "user": {
      "displayName": "Giselle Silva",
      "photoUrl": "https://lh3.googleusercontent.com/a-/AOh14Gh3X37qk8ArY-wrAsV32hHxnkYojVI5XaMfvOw5MSE=s64",
      "userId": "07908098511200809974"
     },
     "user_tz": 180
    },
    "id": "QcVLlbIqr_e0",
    "outputId": "3dd8e76b-ea5e-4b67-e93e-36dcbfb47261"
   },
   "outputs": [
    {
     "name": "stdout",
     "output_type": "stream",
     "text": [
      "Melhor valor para 'n_neighbors': 10\n"
     ]
    }
   ],
   "source": [
    "# KNN\n",
    "knn = KNeighborsClassifier()\n",
    "\n",
    "parameters = {'n_neighbors':(3,10)}\n",
    "knn_iris = GridSearchCV( knn, parameters)\n",
    "knn_iris.fit( X, y)\n",
    "\n",
    "print(\"Melhor valor para 'n_neighbors': {0}\".format( knn_iris.best_params_['n_neighbors']))"
   ]
  },
  {
   "cell_type": "code",
   "execution_count": 29,
   "metadata": {
    "colab": {
     "base_uri": "https://localhost:8080/",
     "height": 68
    },
    "colab_type": "code",
    "executionInfo": {
     "elapsed": 942,
     "status": "ok",
     "timestamp": 1592783391265,
     "user": {
      "displayName": "Giselle Silva",
      "photoUrl": "https://lh3.googleusercontent.com/a-/AOh14Gh3X37qk8ArY-wrAsV32hHxnkYojVI5XaMfvOw5MSE=s64",
      "userId": "07908098511200809974"
     },
     "user_tz": 180
    },
    "id": "FzI6JCYZR3aK",
    "outputId": "9d8062a6-6079-4619-979c-dd756fd7249a"
   },
   "outputs": [
    {
     "data": {
      "text/plain": [
       "KNeighborsClassifier(algorithm='auto', leaf_size=30, metric='minkowski',\n",
       "                     metric_params=None, n_jobs=None, n_neighbors=10, p=2,\n",
       "                     weights='uniform')"
      ]
     },
     "execution_count": 29,
     "metadata": {
      "tags": []
     },
     "output_type": "execute_result"
    }
   ],
   "source": [
    "knn_iris.best_estimator_"
   ]
  },
  {
   "cell_type": "code",
   "execution_count": 31,
   "metadata": {
    "colab": {
     "base_uri": "https://localhost:8080/",
     "height": 34
    },
    "colab_type": "code",
    "executionInfo": {
     "elapsed": 966,
     "status": "ok",
     "timestamp": 1592783797555,
     "user": {
      "displayName": "Giselle Silva",
      "photoUrl": "https://lh3.googleusercontent.com/a-/AOh14Gh3X37qk8ArY-wrAsV32hHxnkYojVI5XaMfvOw5MSE=s64",
      "userId": "07908098511200809974"
     },
     "user_tz": 180
    },
    "id": "EQVUdm7hSyWd",
    "outputId": "c587031c-f2a2-4ec1-a9dc-84e818fb733b"
   },
   "outputs": [
    {
     "data": {
      "text/plain": [
       "0.7666666666666667"
      ]
     },
     "execution_count": 31,
     "metadata": {
      "tags": []
     },
     "output_type": "execute_result"
    }
   ],
   "source": [
    "knn_iris.best_score_  # resultado da validação cruzada (média das acurácias)"
   ]
  },
  {
   "cell_type": "markdown",
   "metadata": {
    "colab_type": "text",
    "id": "mQjIVAOesbED"
   },
   "source": [
    "**Ajustando o modelo KNN**"
   ]
  },
  {
   "cell_type": "code",
   "execution_count": 20,
   "metadata": {
    "colab": {},
    "colab_type": "code",
    "executionInfo": {
     "elapsed": 3143,
     "status": "ok",
     "timestamp": 1592783209442,
     "user": {
      "displayName": "Giselle Silva",
      "photoUrl": "https://lh3.googleusercontent.com/a-/AOh14Gh3X37qk8ArY-wrAsV32hHxnkYojVI5XaMfvOw5MSE=s64",
      "userId": "07908098511200809974"
     },
     "user_tz": 180
    },
    "id": "34MrwdYtsIcV"
   },
   "outputs": [],
   "source": [
    "X_KNN_train, X_KNN_test, y_KNN_train, y_KNN_test = train_test_split( X, y, test_size = 0.30, random_state = 42)"
   ]
  },
  {
   "cell_type": "code",
   "execution_count": 21,
   "metadata": {
    "colab": {},
    "colab_type": "code",
    "executionInfo": {
     "elapsed": 3114,
     "status": "ok",
     "timestamp": 1592783209443,
     "user": {
      "displayName": "Giselle Silva",
      "photoUrl": "https://lh3.googleusercontent.com/a-/AOh14Gh3X37qk8ArY-wrAsV32hHxnkYojVI5XaMfvOw5MSE=s64",
      "userId": "07908098511200809974"
     },
     "user_tz": 180
    },
    "id": "6yiVWzXPsIXO"
   },
   "outputs": [],
   "source": [
    "knn = KNeighborsClassifier( n_neighbors = 10)\n",
    "knn.fit( X_KNN_train, y_KNN_train)\n",
    "y_KNN_pred = knn.predict( X_KNN_test)"
   ]
  },
  {
   "cell_type": "code",
   "execution_count": 22,
   "metadata": {
    "colab": {
     "base_uri": "https://localhost:8080/",
     "height": 34
    },
    "colab_type": "code",
    "executionInfo": {
     "elapsed": 3098,
     "status": "ok",
     "timestamp": 1592783209444,
     "user": {
      "displayName": "Giselle Silva",
      "photoUrl": "https://lh3.googleusercontent.com/a-/AOh14Gh3X37qk8ArY-wrAsV32hHxnkYojVI5XaMfvOw5MSE=s64",
      "userId": "07908098511200809974"
     },
     "user_tz": 180
    },
    "id": "Y0D5t-fntW6J",
    "outputId": "5a0aae33-52a3-4f3a-8776-42c4eff236a6"
   },
   "outputs": [
    {
     "name": "stdout",
     "output_type": "stream",
     "text": [
      "Acurácia: 0.755556  Recall: 0.755556  Precisão: 0.75582\n"
     ]
    }
   ],
   "source": [
    "rfc_acc = round( accuracy_score( y_KNN_test, y_KNN_pred), 6) # round é para arredondar\n",
    "rfc_recall = round( recall_score( y_KNN_test, y_KNN_pred, average = 'weighted'), 6) # round é para arredondar\n",
    "rfc_precision = round( precision_score( y_KNN_test, y_KNN_pred, average = 'weighted'), 6) # round é para arredondar\n",
    "\n",
    "print(\"Acurácia:\",rfc_acc,\" Recall:\", rfc_recall,\" Precisão:\", rfc_precision)"
   ]
  },
  {
   "cell_type": "markdown",
   "metadata": {
    "colab_type": "text",
    "id": "E60AP_jT3tTb"
   },
   "source": [
    "**Validação Cruzada**"
   ]
  },
  {
   "cell_type": "code",
   "execution_count": 23,
   "metadata": {
    "colab": {
     "base_uri": "https://localhost:8080/",
     "height": 85
    },
    "colab_type": "code",
    "executionInfo": {
     "elapsed": 3534,
     "status": "ok",
     "timestamp": 1592783209916,
     "user": {
      "displayName": "Giselle Silva",
      "photoUrl": "https://lh3.googleusercontent.com/a-/AOh14Gh3X37qk8ArY-wrAsV32hHxnkYojVI5XaMfvOw5MSE=s64",
      "userId": "07908098511200809974"
     },
     "user_tz": 180
    },
    "id": "OEVg7B8V3sTG",
    "outputId": "a3802be1-db65-4cdc-bf70-4d87040f8fa9"
   },
   "outputs": [
    {
     "name": "stdout",
     "output_type": "stream",
     "text": [
      "\n",
      "Validação Cruzada KNN: [0.7        0.76666667 0.8        0.83333333 0.73333333]\n",
      "\n",
      "Validação Cruzada RFC: [0.7        0.83333333 0.7        0.8        0.86666667]\n"
     ]
    }
   ],
   "source": [
    "# Validação Cruzada\n",
    "\n",
    "cv_knn = cross_val_score( knn, X, y)\n",
    "cv_rfc = cross_val_score( rfc, X, y)\n",
    "\n",
    "print( \"\\nValidação Cruzada KNN: {}\".format( cv_knn))\n",
    "print( \"\\nValidação Cruzada RFC: {}\".format( cv_rfc))"
   ]
  },
  {
   "cell_type": "code",
   "execution_count": 24,
   "metadata": {
    "colab": {},
    "colab_type": "code",
    "executionInfo": {
     "elapsed": 3511,
     "status": "ok",
     "timestamp": 1592783209919,
     "user": {
      "displayName": "Giselle Silva",
      "photoUrl": "https://lh3.googleusercontent.com/a-/AOh14Gh3X37qk8ArY-wrAsV32hHxnkYojVI5XaMfvOw5MSE=s64",
      "userId": "07908098511200809974"
     },
     "user_tz": 180
    },
    "id": "jM4XFKh7y7zd"
   },
   "outputs": [],
   "source": [
    "# Verifica médias\n",
    "# RFC\n",
    "\n",
    "sum_cv_rfc = 0\n",
    "\n",
    "for cv_score in cv_rfc:\n",
    "  sum_cv_rfc = sum_cv_rfc + cv_score"
   ]
  },
  {
   "cell_type": "code",
   "execution_count": 25,
   "metadata": {
    "colab": {},
    "colab_type": "code",
    "executionInfo": {
     "elapsed": 3487,
     "status": "ok",
     "timestamp": 1592783209923,
     "user": {
      "displayName": "Giselle Silva",
      "photoUrl": "https://lh3.googleusercontent.com/a-/AOh14Gh3X37qk8ArY-wrAsV32hHxnkYojVI5XaMfvOw5MSE=s64",
      "userId": "07908098511200809974"
     },
     "user_tz": 180
    },
    "id": "nhTfiQPO0MNW"
   },
   "outputs": [],
   "source": [
    "# Verifica médias\n",
    "# KNN\n",
    "\n",
    "sum_cv_knn = 0\n",
    "\n",
    "for cv_score in cv_knn:\n",
    "  sum_cv_knn = sum_cv_knn + cv_score"
   ]
  },
  {
   "cell_type": "code",
   "execution_count": 26,
   "metadata": {
    "colab": {
     "base_uri": "https://localhost:8080/",
     "height": 85
    },
    "colab_type": "code",
    "executionInfo": {
     "elapsed": 3472,
     "status": "ok",
     "timestamp": 1592783209925,
     "user": {
      "displayName": "Giselle Silva",
      "photoUrl": "https://lh3.googleusercontent.com/a-/AOh14Gh3X37qk8ArY-wrAsV32hHxnkYojVI5XaMfvOw5MSE=s64",
      "userId": "07908098511200809974"
     },
     "user_tz": 180
    },
    "id": "WZFkBqYt3CXe",
    "outputId": "b9100d08-f29b-4496-b902-5aedb3734542"
   },
   "outputs": [
    {
     "name": "stdout",
     "output_type": "stream",
     "text": [
      "\n",
      "Resultado RFC: 0.78\n",
      "\n",
      "Resultado KNN: 0.7666666666666667\n"
     ]
    }
   ],
   "source": [
    "print(\"\\nResultado RFC: {0}\".format( sum_cv_rfc/5))\n",
    "print(\"\\nResultado KNN: {0}\".format( sum_cv_knn/5))"
   ]
  },
  {
   "cell_type": "code",
   "execution_count": 34,
   "metadata": {
    "colab": {
     "base_uri": "https://localhost:8080/",
     "height": 85
    },
    "colab_type": "code",
    "executionInfo": {
     "elapsed": 977,
     "status": "ok",
     "timestamp": 1592783868424,
     "user": {
      "displayName": "Giselle Silva",
      "photoUrl": "https://lh3.googleusercontent.com/a-/AOh14Gh3X37qk8ArY-wrAsV32hHxnkYojVI5XaMfvOw5MSE=s64",
      "userId": "07908098511200809974"
     },
     "user_tz": 180
    },
    "id": "brHktE39TyQM",
    "outputId": "862b8385-1abe-4036-89e0-002055aa2ed4"
   },
   "outputs": [
    {
     "name": "stdout",
     "output_type": "stream",
     "text": [
      "\n",
      "Resultado RFC: 0.7866666666666666\n",
      "\n",
      "Resultado KNN: 0.7666666666666667\n"
     ]
    }
   ],
   "source": [
    "# ou poderia ser feito da seguinte forma usando o GridSearch:\n",
    "print(\"\\nResultado RFC: {0}\".format(rfc_iris.best_score_))  # resultado da validação cruzada (média das acurácias)\n",
    "print(\"\\nResultado KNN: {0}\".format(knn_iris.best_score_))  # resultado da validação cruzada (média das acurácias)"
   ]
  }
 ],
 "metadata": {
  "colab": {
   "authorship_tag": "ABX9TyMUtpObSE2lwDERZGsvbKMG",
   "name": "Trabalho_Pratico_Mod3.ipynb",
   "provenance": []
  },
  "kernelspec": {
   "display_name": "Python 3",
   "language": "python",
   "name": "python3"
  },
  "language_info": {
   "codemirror_mode": {
    "name": "ipython",
    "version": 3
   },
   "file_extension": ".py",
   "mimetype": "text/x-python",
   "name": "python",
   "nbconvert_exporter": "python",
   "pygments_lexer": "ipython3",
   "version": "3.8.3"
  }
 },
 "nbformat": 4,
 "nbformat_minor": 4
}
