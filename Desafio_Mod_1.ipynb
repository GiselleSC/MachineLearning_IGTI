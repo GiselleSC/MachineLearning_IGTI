{
 "cells": [
  {
   "cell_type": "raw",
   "metadata": {
    "colab_type": "text",
    "id": "pBjJZprp-heD"
   },
   "source": [
    "# *******************************************************\n",
    "# IGTI - Bootcamp Analista de Machine Learning\n",
    "# Módulo 1 - Fundamentos de Análise de Dados\n",
    "# DESAFIO - GISELLE S C\n",
    "# *******************************************************"
   ]
  },
  {
   "cell_type": "raw",
   "metadata": {},
   "source": [
    "# Objetivo: praticar os fundamentos de análise de dados"
   ]
  },
  {
   "cell_type": "code",
   "execution_count": 1,
   "metadata": {
    "colab": {
     "base_uri": "https://localhost:8080/",
     "height": 71
    },
    "colab_type": "code",
    "executionInfo": {
     "elapsed": 1516,
     "status": "ok",
     "timestamp": 1590642297601,
     "user": {
      "displayName": "Giselle Silva",
      "photoUrl": "https://lh3.googleusercontent.com/a-/AOh14Ghw1WCpW9Q_9WLdA1gi-7ssprk6FMiSRivyisCC5LA=s64",
      "userId": "07908098511200809974"
     },
     "user_tz": 180
    },
    "id": "gUMFGREP-mad",
    "outputId": "a04ec7d2-a3b4-42f0-b059-196d1ea56c55"
   },
   "outputs": [],
   "source": [
    "#importando as bibliotecas\n",
    "import pandas as pd #biblioteca utilizada para tratar os dados em formato de dataframe\n",
    "import numpy as np # biblioteca utilizada para tratar vetores e matrizesimport matplotlib.pyplot as plt  #utilizapa para construir os gráficos em um formato similar ao \"Matlab\"\n",
    "from sklearn.preprocessing import MinMaxScaler, LabelEncoder #utilizada para realizar o preprocessamento dos dados\n",
    "from sklearn.model_selection import train_test_split #utilizada para realizar o divisão entre dados para treinamento e teste\n",
    "from sklearn.metrics import confusion_matrix, accuracy_score #utilizada para verificar a acurácia do modelo construído\n",
    "from sklearn.naive_bayes import GaussianNB # utilizada para construir o modelo de classificação naive_bayes\n",
    "import seaborn as sns #utilizada para constuir os gráficos em uma forma mais \"bonita\"\n",
    "import matplotlib.pyplot as plt #biblioteca para realizar a construção dos gráficos\n",
    "from sklearn.svm import SVC #utilizada para importar o algoritmo SVM"
   ]
  },
  {
   "cell_type": "code",
   "execution_count": 6,
   "metadata": {
    "colab": {},
    "colab_type": "code",
    "id": "kf7aZEsDA9Bd"
   },
   "outputs": [],
   "source": [
    "#lendo o dataset no formato de um dataframe: comp_bikes_mod.csv\n",
    "dataset = pd.read_csv('D:/Documentos/Bootcamp IGTI ML/Notebooks/Desafio Mod1/comp_bikes_mod.csv', sep=',') #realiza a leitura do banco de dados"
   ]
  },
  {
   "cell_type": "code",
   "execution_count": 7,
   "metadata": {
    "colab": {
     "base_uri": "https://localhost:8080/",
     "height": 204
    },
    "colab_type": "code",
    "executionInfo": {
     "elapsed": 735,
     "status": "ok",
     "timestamp": 1590598263619,
     "user": {
      "displayName": "Giselle Silva",
      "photoUrl": "https://lh3.googleusercontent.com/a-/AOh14Ghw1WCpW9Q_9WLdA1gi-7ssprk6FMiSRivyisCC5LA=s64",
      "userId": "07908098511200809974"
     },
     "user_tz": 180
    },
    "id": "PYD5BApOBUWD",
    "outputId": "8512e4eb-30b7-4a94-968c-d31edeadc6e1"
   },
   "outputs": [
    {
     "data": {
      "text/html": [
       "<div>\n",
       "<style scoped>\n",
       "    .dataframe tbody tr th:only-of-type {\n",
       "        vertical-align: middle;\n",
       "    }\n",
       "\n",
       "    .dataframe tbody tr th {\n",
       "        vertical-align: top;\n",
       "    }\n",
       "\n",
       "    .dataframe thead th {\n",
       "        text-align: right;\n",
       "    }\n",
       "</style>\n",
       "<table border=\"1\" class=\"dataframe\">\n",
       "  <thead>\n",
       "    <tr style=\"text-align: right;\">\n",
       "      <th></th>\n",
       "      <th>instant</th>\n",
       "      <th>dteday</th>\n",
       "      <th>season</th>\n",
       "      <th>yr</th>\n",
       "      <th>mnth</th>\n",
       "      <th>hr</th>\n",
       "      <th>holiday</th>\n",
       "      <th>weekday</th>\n",
       "      <th>workingday</th>\n",
       "      <th>weathersit</th>\n",
       "      <th>temp</th>\n",
       "      <th>atemp</th>\n",
       "      <th>hum</th>\n",
       "      <th>windspeed</th>\n",
       "      <th>casual</th>\n",
       "      <th>registered</th>\n",
       "      <th>cnt</th>\n",
       "    </tr>\n",
       "  </thead>\n",
       "  <tbody>\n",
       "    <tr>\n",
       "      <th>0</th>\n",
       "      <td>1.0</td>\n",
       "      <td>NaN</td>\n",
       "      <td>1.0</td>\n",
       "      <td>0.0</td>\n",
       "      <td>1.0</td>\n",
       "      <td>0.0</td>\n",
       "      <td>0.0</td>\n",
       "      <td>6.0</td>\n",
       "      <td>0.0</td>\n",
       "      <td>1.0</td>\n",
       "      <td>NaN</td>\n",
       "      <td>0.2879</td>\n",
       "      <td>0.81</td>\n",
       "      <td>0.0</td>\n",
       "      <td>3.0</td>\n",
       "      <td>13.0</td>\n",
       "      <td>16.0</td>\n",
       "    </tr>\n",
       "    <tr>\n",
       "      <th>1</th>\n",
       "      <td>2.0</td>\n",
       "      <td>2011-01-01</td>\n",
       "      <td>1.0</td>\n",
       "      <td>0.0</td>\n",
       "      <td>1.0</td>\n",
       "      <td>1.0</td>\n",
       "      <td>0.0</td>\n",
       "      <td>6.0</td>\n",
       "      <td>0.0</td>\n",
       "      <td>NaN</td>\n",
       "      <td>0.22</td>\n",
       "      <td>0.2727</td>\n",
       "      <td>0.80</td>\n",
       "      <td>0.0</td>\n",
       "      <td>8.0</td>\n",
       "      <td>32.0</td>\n",
       "      <td>40.0</td>\n",
       "    </tr>\n",
       "    <tr>\n",
       "      <th>2</th>\n",
       "      <td>3.0</td>\n",
       "      <td>2011-01-01</td>\n",
       "      <td>1.0</td>\n",
       "      <td>0.0</td>\n",
       "      <td>1.0</td>\n",
       "      <td>2.0</td>\n",
       "      <td>0.0</td>\n",
       "      <td>6.0</td>\n",
       "      <td>0.0</td>\n",
       "      <td>1.0</td>\n",
       "      <td>0.22</td>\n",
       "      <td>0.2727</td>\n",
       "      <td>0.80</td>\n",
       "      <td>0.0</td>\n",
       "      <td>5.0</td>\n",
       "      <td>27.0</td>\n",
       "      <td>32.0</td>\n",
       "    </tr>\n",
       "    <tr>\n",
       "      <th>3</th>\n",
       "      <td>4.0</td>\n",
       "      <td>2011-01-01</td>\n",
       "      <td>1.0</td>\n",
       "      <td>0.0</td>\n",
       "      <td>1.0</td>\n",
       "      <td>3.0</td>\n",
       "      <td>0.0</td>\n",
       "      <td>6.0</td>\n",
       "      <td>0.0</td>\n",
       "      <td>1.0</td>\n",
       "      <td>0.24</td>\n",
       "      <td>0.2879</td>\n",
       "      <td>0.75</td>\n",
       "      <td>0.0</td>\n",
       "      <td>3.0</td>\n",
       "      <td>10.0</td>\n",
       "      <td>13.0</td>\n",
       "    </tr>\n",
       "    <tr>\n",
       "      <th>4</th>\n",
       "      <td>5.0</td>\n",
       "      <td>2011-01-01</td>\n",
       "      <td>1.0</td>\n",
       "      <td>0.0</td>\n",
       "      <td>1.0</td>\n",
       "      <td>4.0</td>\n",
       "      <td>0.0</td>\n",
       "      <td>6.0</td>\n",
       "      <td>NaN</td>\n",
       "      <td>1.0</td>\n",
       "      <td>0.24</td>\n",
       "      <td>0.2879</td>\n",
       "      <td>0.75</td>\n",
       "      <td>0.0</td>\n",
       "      <td>0.0</td>\n",
       "      <td>1.0</td>\n",
       "      <td>1.0</td>\n",
       "    </tr>\n",
       "  </tbody>\n",
       "</table>\n",
       "</div>"
      ],
      "text/plain": [
       "   instant      dteday  season   yr  mnth   hr  holiday  weekday  workingday  \\\n",
       "0      1.0         NaN     1.0  0.0   1.0  0.0      0.0      6.0         0.0   \n",
       "1      2.0  2011-01-01     1.0  0.0   1.0  1.0      0.0      6.0         0.0   \n",
       "2      3.0  2011-01-01     1.0  0.0   1.0  2.0      0.0      6.0         0.0   \n",
       "3      4.0  2011-01-01     1.0  0.0   1.0  3.0      0.0      6.0         0.0   \n",
       "4      5.0  2011-01-01     1.0  0.0   1.0  4.0      0.0      6.0         NaN   \n",
       "\n",
       "   weathersit  temp   atemp   hum  windspeed  casual  registered   cnt  \n",
       "0         1.0   NaN  0.2879  0.81        0.0     3.0        13.0  16.0  \n",
       "1         NaN  0.22  0.2727  0.80        0.0     8.0        32.0  40.0  \n",
       "2         1.0  0.22  0.2727  0.80        0.0     5.0        27.0  32.0  \n",
       "3         1.0  0.24  0.2879  0.75        0.0     3.0        10.0  13.0  \n",
       "4         1.0  0.24  0.2879  0.75        0.0     0.0         1.0   1.0  "
      ]
     },
     "execution_count": 7,
     "metadata": {},
     "output_type": "execute_result"
    }
   ],
   "source": [
    "#apresentando as 5 primeiras linhas do dataset\n",
    "dataset.head()"
   ]
  },
  {
   "cell_type": "code",
   "execution_count": 8,
   "metadata": {
    "colab": {
     "base_uri": "https://localhost:8080/",
     "height": 34
    },
    "colab_type": "code",
    "executionInfo": {
     "elapsed": 699,
     "status": "ok",
     "timestamp": 1590654613767,
     "user": {
      "displayName": "Giselle Silva",
      "photoUrl": "https://lh3.googleusercontent.com/a-/AOh14Ghw1WCpW9Q_9WLdA1gi-7ssprk6FMiSRivyisCC5LA=s64",
      "userId": "07908098511200809974"
     },
     "user_tz": 180
    },
    "id": "4RtmMPOLBUxA",
    "outputId": "c67aa4f0-57d1-4c8b-d913-47fa1de25277"
   },
   "outputs": [
    {
     "data": {
      "text/plain": [
       "(17379, 17)"
      ]
     },
     "execution_count": 8,
     "metadata": {},
     "output_type": "execute_result"
    }
   ],
   "source": [
    "dataset.shape # mostra a dimensão do dataset"
   ]
  },
  {
   "cell_type": "code",
   "execution_count": 9,
   "metadata": {
    "colab": {
     "base_uri": "https://localhost:8080/",
     "height": 425
    },
    "colab_type": "code",
    "executionInfo": {
     "elapsed": 924,
     "status": "ok",
     "timestamp": 1590598286486,
     "user": {
      "displayName": "Giselle Silva",
      "photoUrl": "https://lh3.googleusercontent.com/a-/AOh14Ghw1WCpW9Q_9WLdA1gi-7ssprk6FMiSRivyisCC5LA=s64",
      "userId": "07908098511200809974"
     },
     "user_tz": 180
    },
    "id": "2Th0AZbtBbyb",
    "outputId": "0e98d3a8-a606-4c82-f1a2-fe9a516a006d"
   },
   "outputs": [
    {
     "name": "stdout",
     "output_type": "stream",
     "text": [
      "<class 'pandas.core.frame.DataFrame'>\n",
      "RangeIndex: 17379 entries, 0 to 17378\n",
      "Data columns (total 17 columns):\n",
      " #   Column      Non-Null Count  Dtype  \n",
      "---  ------      --------------  -----  \n",
      " 0   instant     15641 non-null  float64\n",
      " 1   dteday      15641 non-null  object \n",
      " 2   season      15641 non-null  float64\n",
      " 3   yr          15641 non-null  float64\n",
      " 4   mnth        15641 non-null  float64\n",
      " 5   hr          15641 non-null  float64\n",
      " 6   holiday     15641 non-null  float64\n",
      " 7   weekday     15641 non-null  float64\n",
      " 8   workingday  15641 non-null  float64\n",
      " 9   weathersit  15641 non-null  float64\n",
      " 10  temp        15641 non-null  float64\n",
      " 11  atemp       15641 non-null  float64\n",
      " 12  hum         15641 non-null  float64\n",
      " 13  windspeed   15641 non-null  float64\n",
      " 14  casual      15641 non-null  float64\n",
      " 15  registered  15641 non-null  float64\n",
      " 16  cnt         15641 non-null  float64\n",
      "dtypes: float64(16), object(1)\n",
      "memory usage: 2.3+ MB\n"
     ]
    }
   ],
   "source": [
    "#conhecendo o dataset\n",
    "dataset.info()"
   ]
  },
  {
   "cell_type": "code",
   "execution_count": 10,
   "metadata": {
    "colab": {
     "base_uri": "https://localhost:8080/",
     "height": 323
    },
    "colab_type": "code",
    "executionInfo": {
     "elapsed": 715,
     "status": "ok",
     "timestamp": 1590598308350,
     "user": {
      "displayName": "Giselle Silva",
      "photoUrl": "https://lh3.googleusercontent.com/a-/AOh14Ghw1WCpW9Q_9WLdA1gi-7ssprk6FMiSRivyisCC5LA=s64",
      "userId": "07908098511200809974"
     },
     "user_tz": 180
    },
    "id": "BSVmnG4wBhRV",
    "outputId": "9badb087-2743-417d-e095-84a3b8b9a703"
   },
   "outputs": [
    {
     "data": {
      "text/plain": [
       "instant       1738\n",
       "dteday        1738\n",
       "season        1738\n",
       "yr            1738\n",
       "mnth          1738\n",
       "hr            1738\n",
       "holiday       1738\n",
       "weekday       1738\n",
       "workingday    1738\n",
       "weathersit    1738\n",
       "temp          1738\n",
       "atemp         1738\n",
       "hum           1738\n",
       "windspeed     1738\n",
       "casual        1738\n",
       "registered    1738\n",
       "cnt           1738\n",
       "dtype: int64"
      ]
     },
     "execution_count": 10,
     "metadata": {},
     "output_type": "execute_result"
    }
   ],
   "source": [
    "#verificando a quantidade de valores nulos por variável (atributo)\n",
    "dataset.isnull().sum()"
   ]
  },
  {
   "cell_type": "code",
   "execution_count": 11,
   "metadata": {
    "colab": {
     "base_uri": "https://localhost:8080/",
     "height": 317
    },
    "colab_type": "code",
    "executionInfo": {
     "elapsed": 720,
     "status": "ok",
     "timestamp": 1590598315676,
     "user": {
      "displayName": "Giselle Silva",
      "photoUrl": "https://lh3.googleusercontent.com/a-/AOh14Ghw1WCpW9Q_9WLdA1gi-7ssprk6FMiSRivyisCC5LA=s64",
      "userId": "07908098511200809974"
     },
     "user_tz": 180
    },
    "id": "7T8dm9yxBhEc",
    "outputId": "9f254538-b846-4c50-b06d-ed0ca67f3040"
   },
   "outputs": [
    {
     "data": {
      "text/html": [
       "<div>\n",
       "<style scoped>\n",
       "    .dataframe tbody tr th:only-of-type {\n",
       "        vertical-align: middle;\n",
       "    }\n",
       "\n",
       "    .dataframe tbody tr th {\n",
       "        vertical-align: top;\n",
       "    }\n",
       "\n",
       "    .dataframe thead th {\n",
       "        text-align: right;\n",
       "    }\n",
       "</style>\n",
       "<table border=\"1\" class=\"dataframe\">\n",
       "  <thead>\n",
       "    <tr style=\"text-align: right;\">\n",
       "      <th></th>\n",
       "      <th>instant</th>\n",
       "      <th>season</th>\n",
       "      <th>yr</th>\n",
       "      <th>mnth</th>\n",
       "      <th>hr</th>\n",
       "      <th>holiday</th>\n",
       "      <th>weekday</th>\n",
       "      <th>workingday</th>\n",
       "      <th>weathersit</th>\n",
       "      <th>temp</th>\n",
       "      <th>atemp</th>\n",
       "      <th>hum</th>\n",
       "      <th>windspeed</th>\n",
       "      <th>casual</th>\n",
       "      <th>registered</th>\n",
       "      <th>cnt</th>\n",
       "    </tr>\n",
       "  </thead>\n",
       "  <tbody>\n",
       "    <tr>\n",
       "      <th>count</th>\n",
       "      <td>15641.000000</td>\n",
       "      <td>15641.000000</td>\n",
       "      <td>15641.000000</td>\n",
       "      <td>15641.000000</td>\n",
       "      <td>15641.000000</td>\n",
       "      <td>15641.000000</td>\n",
       "      <td>15641.000000</td>\n",
       "      <td>15641.000000</td>\n",
       "      <td>15641.000000</td>\n",
       "      <td>15641.000000</td>\n",
       "      <td>15641.000000</td>\n",
       "      <td>15641.000000</td>\n",
       "      <td>15641.000000</td>\n",
       "      <td>15641.000000</td>\n",
       "      <td>15641.000000</td>\n",
       "      <td>15641.000000</td>\n",
       "    </tr>\n",
       "    <tr>\n",
       "      <th>mean</th>\n",
       "      <td>8676.513842</td>\n",
       "      <td>2.503420</td>\n",
       "      <td>0.501758</td>\n",
       "      <td>6.536091</td>\n",
       "      <td>11.521258</td>\n",
       "      <td>0.028131</td>\n",
       "      <td>2.999233</td>\n",
       "      <td>0.682118</td>\n",
       "      <td>1.423950</td>\n",
       "      <td>0.497062</td>\n",
       "      <td>0.476281</td>\n",
       "      <td>0.627579</td>\n",
       "      <td>0.189247</td>\n",
       "      <td>35.583147</td>\n",
       "      <td>153.644972</td>\n",
       "      <td>189.919826</td>\n",
       "    </tr>\n",
       "    <tr>\n",
       "      <th>std</th>\n",
       "      <td>5010.773755</td>\n",
       "      <td>1.107636</td>\n",
       "      <td>0.500013</td>\n",
       "      <td>3.441490</td>\n",
       "      <td>6.917606</td>\n",
       "      <td>0.165353</td>\n",
       "      <td>2.005300</td>\n",
       "      <td>0.465668</td>\n",
       "      <td>0.638982</td>\n",
       "      <td>0.192451</td>\n",
       "      <td>0.172520</td>\n",
       "      <td>0.192893</td>\n",
       "      <td>0.122188</td>\n",
       "      <td>49.226455</td>\n",
       "      <td>151.750573</td>\n",
       "      <td>181.972508</td>\n",
       "    </tr>\n",
       "    <tr>\n",
       "      <th>min</th>\n",
       "      <td>1.000000</td>\n",
       "      <td>1.000000</td>\n",
       "      <td>0.000000</td>\n",
       "      <td>1.000000</td>\n",
       "      <td>0.000000</td>\n",
       "      <td>0.000000</td>\n",
       "      <td>0.000000</td>\n",
       "      <td>0.000000</td>\n",
       "      <td>1.000000</td>\n",
       "      <td>0.020000</td>\n",
       "      <td>0.000000</td>\n",
       "      <td>0.000000</td>\n",
       "      <td>0.000000</td>\n",
       "      <td>0.000000</td>\n",
       "      <td>0.000000</td>\n",
       "      <td>1.000000</td>\n",
       "    </tr>\n",
       "    <tr>\n",
       "      <th>25%</th>\n",
       "      <td>4335.000000</td>\n",
       "      <td>2.000000</td>\n",
       "      <td>0.000000</td>\n",
       "      <td>4.000000</td>\n",
       "      <td>6.000000</td>\n",
       "      <td>0.000000</td>\n",
       "      <td>1.000000</td>\n",
       "      <td>0.000000</td>\n",
       "      <td>1.000000</td>\n",
       "      <td>0.340000</td>\n",
       "      <td>0.333300</td>\n",
       "      <td>0.480000</td>\n",
       "      <td>0.104500</td>\n",
       "      <td>4.000000</td>\n",
       "      <td>34.000000</td>\n",
       "      <td>40.000000</td>\n",
       "    </tr>\n",
       "    <tr>\n",
       "      <th>50%</th>\n",
       "      <td>8678.000000</td>\n",
       "      <td>3.000000</td>\n",
       "      <td>1.000000</td>\n",
       "      <td>7.000000</td>\n",
       "      <td>12.000000</td>\n",
       "      <td>0.000000</td>\n",
       "      <td>3.000000</td>\n",
       "      <td>1.000000</td>\n",
       "      <td>1.000000</td>\n",
       "      <td>0.500000</td>\n",
       "      <td>0.484800</td>\n",
       "      <td>0.630000</td>\n",
       "      <td>0.164200</td>\n",
       "      <td>17.000000</td>\n",
       "      <td>115.000000</td>\n",
       "      <td>142.000000</td>\n",
       "    </tr>\n",
       "    <tr>\n",
       "      <th>75%</th>\n",
       "      <td>13005.000000</td>\n",
       "      <td>3.000000</td>\n",
       "      <td>1.000000</td>\n",
       "      <td>10.000000</td>\n",
       "      <td>17.000000</td>\n",
       "      <td>0.000000</td>\n",
       "      <td>5.000000</td>\n",
       "      <td>1.000000</td>\n",
       "      <td>2.000000</td>\n",
       "      <td>0.660000</td>\n",
       "      <td>0.621200</td>\n",
       "      <td>0.780000</td>\n",
       "      <td>0.253700</td>\n",
       "      <td>48.000000</td>\n",
       "      <td>220.000000</td>\n",
       "      <td>281.000000</td>\n",
       "    </tr>\n",
       "    <tr>\n",
       "      <th>max</th>\n",
       "      <td>17377.000000</td>\n",
       "      <td>4.000000</td>\n",
       "      <td>1.000000</td>\n",
       "      <td>12.000000</td>\n",
       "      <td>23.000000</td>\n",
       "      <td>1.000000</td>\n",
       "      <td>6.000000</td>\n",
       "      <td>1.000000</td>\n",
       "      <td>4.000000</td>\n",
       "      <td>1.000000</td>\n",
       "      <td>1.000000</td>\n",
       "      <td>1.000000</td>\n",
       "      <td>0.850700</td>\n",
       "      <td>367.000000</td>\n",
       "      <td>886.000000</td>\n",
       "      <td>977.000000</td>\n",
       "    </tr>\n",
       "  </tbody>\n",
       "</table>\n",
       "</div>"
      ],
      "text/plain": [
       "            instant        season            yr          mnth            hr  \\\n",
       "count  15641.000000  15641.000000  15641.000000  15641.000000  15641.000000   \n",
       "mean    8676.513842      2.503420      0.501758      6.536091     11.521258   \n",
       "std     5010.773755      1.107636      0.500013      3.441490      6.917606   \n",
       "min        1.000000      1.000000      0.000000      1.000000      0.000000   \n",
       "25%     4335.000000      2.000000      0.000000      4.000000      6.000000   \n",
       "50%     8678.000000      3.000000      1.000000      7.000000     12.000000   \n",
       "75%    13005.000000      3.000000      1.000000     10.000000     17.000000   \n",
       "max    17377.000000      4.000000      1.000000     12.000000     23.000000   \n",
       "\n",
       "            holiday       weekday    workingday    weathersit          temp  \\\n",
       "count  15641.000000  15641.000000  15641.000000  15641.000000  15641.000000   \n",
       "mean       0.028131      2.999233      0.682118      1.423950      0.497062   \n",
       "std        0.165353      2.005300      0.465668      0.638982      0.192451   \n",
       "min        0.000000      0.000000      0.000000      1.000000      0.020000   \n",
       "25%        0.000000      1.000000      0.000000      1.000000      0.340000   \n",
       "50%        0.000000      3.000000      1.000000      1.000000      0.500000   \n",
       "75%        0.000000      5.000000      1.000000      2.000000      0.660000   \n",
       "max        1.000000      6.000000      1.000000      4.000000      1.000000   \n",
       "\n",
       "              atemp           hum     windspeed        casual    registered  \\\n",
       "count  15641.000000  15641.000000  15641.000000  15641.000000  15641.000000   \n",
       "mean       0.476281      0.627579      0.189247     35.583147    153.644972   \n",
       "std        0.172520      0.192893      0.122188     49.226455    151.750573   \n",
       "min        0.000000      0.000000      0.000000      0.000000      0.000000   \n",
       "25%        0.333300      0.480000      0.104500      4.000000     34.000000   \n",
       "50%        0.484800      0.630000      0.164200     17.000000    115.000000   \n",
       "75%        0.621200      0.780000      0.253700     48.000000    220.000000   \n",
       "max        1.000000      1.000000      0.850700    367.000000    886.000000   \n",
       "\n",
       "                cnt  \n",
       "count  15641.000000  \n",
       "mean     189.919826  \n",
       "std      181.972508  \n",
       "min        1.000000  \n",
       "25%       40.000000  \n",
       "50%      142.000000  \n",
       "75%      281.000000  \n",
       "max      977.000000  "
      ]
     },
     "execution_count": 11,
     "metadata": {},
     "output_type": "execute_result"
    }
   ],
   "source": [
    "#apresentando um resumo descritivo do dataset\n",
    "dataset.describe()"
   ]
  },
  {
   "cell_type": "markdown",
   "metadata": {
    "colab_type": "text",
    "id": "WRCwY1r1jbhP"
   },
   "source": [
    "\n",
    "\n",
    "---\n",
    "\n",
    "\n",
    "# **Criando a base de dados sem os nulos da coluna dteday**\n",
    "\n"
   ]
  },
  {
   "cell_type": "code",
   "execution_count": 13,
   "metadata": {
    "colab": {},
    "colab_type": "code",
    "id": "NfuM6wMMaHBa"
   },
   "outputs": [],
   "source": [
    "#lendo o dataset no formato de um dataframe\n",
    "dataset_null = pd.read_csv('D:/Documentos/Bootcamp IGTI ML/Notebooks/Desafio Mod1/comp_bikes_mod.csv', sep=',') #realiza a leitura do banco de dados"
   ]
  },
  {
   "cell_type": "code",
   "execution_count": 14,
   "metadata": {
    "colab": {
     "base_uri": "https://localhost:8080/",
     "height": 34
    },
    "colab_type": "code",
    "executionInfo": {
     "elapsed": 763,
     "status": "ok",
     "timestamp": 1590654942075,
     "user": {
      "displayName": "Giselle Silva",
      "photoUrl": "https://lh3.googleusercontent.com/a-/AOh14Ghw1WCpW9Q_9WLdA1gi-7ssprk6FMiSRivyisCC5LA=s64",
      "userId": "07908098511200809974"
     },
     "user_tz": 180
    },
    "id": "RklAy0z1bCvp",
    "outputId": "69613679-8196-4c2c-f1d3-a5a23caaa471"
   },
   "outputs": [
    {
     "data": {
      "text/plain": [
       "(17379, 17)"
      ]
     },
     "execution_count": 14,
     "metadata": {},
     "output_type": "execute_result"
    }
   ],
   "source": [
    "dataset_null.shape"
   ]
  },
  {
   "cell_type": "markdown",
   "metadata": {
    "colab_type": "text",
    "id": "J4VKgX-EZ54J"
   },
   "source": [
    "Deletando as linhas que possuem valores nulos para a coluna dteday"
   ]
  },
  {
   "cell_type": "code",
   "execution_count": 15,
   "metadata": {
    "colab": {},
    "colab_type": "code",
    "id": "4XmDYJXTvLER"
   },
   "outputs": [],
   "source": [
    "#deletando as linhas que possuem algum valor nulo\n",
    "dataset_null.dropna(subset=['dteday'], inplace=True)"
   ]
  },
  {
   "cell_type": "code",
   "execution_count": 16,
   "metadata": {
    "colab": {
     "base_uri": "https://localhost:8080/",
     "height": 34
    },
    "colab_type": "code",
    "executionInfo": {
     "elapsed": 727,
     "status": "ok",
     "timestamp": 1590654950027,
     "user": {
      "displayName": "Giselle Silva",
      "photoUrl": "https://lh3.googleusercontent.com/a-/AOh14Ghw1WCpW9Q_9WLdA1gi-7ssprk6FMiSRivyisCC5LA=s64",
      "userId": "07908098511200809974"
     },
     "user_tz": 180
    },
    "id": "ADzVwGTOrDvr",
    "outputId": "c5440271-412c-483b-fc37-abd2eb113ebb"
   },
   "outputs": [
    {
     "data": {
      "text/plain": [
       "(15641, 17)"
      ]
     },
     "execution_count": 16,
     "metadata": {},
     "output_type": "execute_result"
    }
   ],
   "source": [
    "#apresentando um resumo do dataset sem valores nulos para dteday\n",
    "dataset_null.shape"
   ]
  },
  {
   "cell_type": "code",
   "execution_count": 17,
   "metadata": {
    "colab": {
     "base_uri": "https://localhost:8080/",
     "height": 425
    },
    "colab_type": "code",
    "executionInfo": {
     "elapsed": 833,
     "status": "ok",
     "timestamp": 1590654955687,
     "user": {
      "displayName": "Giselle Silva",
      "photoUrl": "https://lh3.googleusercontent.com/a-/AOh14Ghw1WCpW9Q_9WLdA1gi-7ssprk6FMiSRivyisCC5LA=s64",
      "userId": "07908098511200809974"
     },
     "user_tz": 180
    },
    "id": "7XyrN2jDrD_c",
    "outputId": "1ce2c84d-dc73-41d3-8f77-de76680e3fb6"
   },
   "outputs": [
    {
     "name": "stdout",
     "output_type": "stream",
     "text": [
      "<class 'pandas.core.frame.DataFrame'>\n",
      "Int64Index: 15641 entries, 1 to 17378\n",
      "Data columns (total 17 columns):\n",
      " #   Column      Non-Null Count  Dtype  \n",
      "---  ------      --------------  -----  \n",
      " 0   instant     14060 non-null  float64\n",
      " 1   dteday      15641 non-null  object \n",
      " 2   season      14061 non-null  float64\n",
      " 3   yr          14076 non-null  float64\n",
      " 4   mnth        14062 non-null  float64\n",
      " 5   hr          14068 non-null  float64\n",
      " 6   holiday     14076 non-null  float64\n",
      " 7   weekday     14078 non-null  float64\n",
      " 8   workingday  14097 non-null  float64\n",
      " 9   weathersit  14078 non-null  float64\n",
      " 10  temp        14066 non-null  float64\n",
      " 11  atemp       14076 non-null  float64\n",
      " 12  hum         14070 non-null  float64\n",
      " 13  windspeed   14082 non-null  float64\n",
      " 14  casual      14071 non-null  float64\n",
      " 15  registered  14090 non-null  float64\n",
      " 16  cnt         14079 non-null  float64\n",
      "dtypes: float64(16), object(1)\n",
      "memory usage: 2.1+ MB\n"
     ]
    }
   ],
   "source": [
    "dataset_null.info()"
   ]
  },
  {
   "cell_type": "code",
   "execution_count": 18,
   "metadata": {
    "colab": {
     "base_uri": "https://localhost:8080/",
     "height": 317
    },
    "colab_type": "code",
    "executionInfo": {
     "elapsed": 438,
     "status": "ok",
     "timestamp": 1590654961098,
     "user": {
      "displayName": "Giselle Silva",
      "photoUrl": "https://lh3.googleusercontent.com/a-/AOh14Ghw1WCpW9Q_9WLdA1gi-7ssprk6FMiSRivyisCC5LA=s64",
      "userId": "07908098511200809974"
     },
     "user_tz": 180
    },
    "id": "v3-m2FVbBf1l",
    "outputId": "c0e5a0f9-9f22-4999-857f-78a0fcdb5bae"
   },
   "outputs": [
    {
     "data": {
      "text/html": [
       "<div>\n",
       "<style scoped>\n",
       "    .dataframe tbody tr th:only-of-type {\n",
       "        vertical-align: middle;\n",
       "    }\n",
       "\n",
       "    .dataframe tbody tr th {\n",
       "        vertical-align: top;\n",
       "    }\n",
       "\n",
       "    .dataframe thead th {\n",
       "        text-align: right;\n",
       "    }\n",
       "</style>\n",
       "<table border=\"1\" class=\"dataframe\">\n",
       "  <thead>\n",
       "    <tr style=\"text-align: right;\">\n",
       "      <th></th>\n",
       "      <th>instant</th>\n",
       "      <th>season</th>\n",
       "      <th>yr</th>\n",
       "      <th>mnth</th>\n",
       "      <th>hr</th>\n",
       "      <th>holiday</th>\n",
       "      <th>weekday</th>\n",
       "      <th>workingday</th>\n",
       "      <th>weathersit</th>\n",
       "      <th>temp</th>\n",
       "      <th>atemp</th>\n",
       "      <th>hum</th>\n",
       "      <th>windspeed</th>\n",
       "      <th>casual</th>\n",
       "      <th>registered</th>\n",
       "      <th>cnt</th>\n",
       "    </tr>\n",
       "  </thead>\n",
       "  <tbody>\n",
       "    <tr>\n",
       "      <th>count</th>\n",
       "      <td>14060.000000</td>\n",
       "      <td>14061.000000</td>\n",
       "      <td>14076.000000</td>\n",
       "      <td>14062.000000</td>\n",
       "      <td>14068.000000</td>\n",
       "      <td>14076.000000</td>\n",
       "      <td>14078.000000</td>\n",
       "      <td>14097.000000</td>\n",
       "      <td>14078.000000</td>\n",
       "      <td>14066.000000</td>\n",
       "      <td>14076.000000</td>\n",
       "      <td>14070.000000</td>\n",
       "      <td>14082.000000</td>\n",
       "      <td>14071.000000</td>\n",
       "      <td>14090.000000</td>\n",
       "      <td>14079.000000</td>\n",
       "    </tr>\n",
       "    <tr>\n",
       "      <th>mean</th>\n",
       "      <td>8679.717496</td>\n",
       "      <td>2.507930</td>\n",
       "      <td>0.501563</td>\n",
       "      <td>6.542810</td>\n",
       "      <td>11.486779</td>\n",
       "      <td>0.027707</td>\n",
       "      <td>3.006535</td>\n",
       "      <td>0.683053</td>\n",
       "      <td>1.422432</td>\n",
       "      <td>0.496926</td>\n",
       "      <td>0.476055</td>\n",
       "      <td>0.627357</td>\n",
       "      <td>0.189552</td>\n",
       "      <td>35.416317</td>\n",
       "      <td>153.280625</td>\n",
       "      <td>189.165850</td>\n",
       "    </tr>\n",
       "    <tr>\n",
       "      <th>std</th>\n",
       "      <td>5015.960092</td>\n",
       "      <td>1.110674</td>\n",
       "      <td>0.500015</td>\n",
       "      <td>3.443693</td>\n",
       "      <td>6.915101</td>\n",
       "      <td>0.164137</td>\n",
       "      <td>2.002829</td>\n",
       "      <td>0.465303</td>\n",
       "      <td>0.638937</td>\n",
       "      <td>0.192971</td>\n",
       "      <td>0.172827</td>\n",
       "      <td>0.192863</td>\n",
       "      <td>0.122309</td>\n",
       "      <td>48.770799</td>\n",
       "      <td>151.317869</td>\n",
       "      <td>181.223589</td>\n",
       "    </tr>\n",
       "    <tr>\n",
       "      <th>min</th>\n",
       "      <td>2.000000</td>\n",
       "      <td>1.000000</td>\n",
       "      <td>0.000000</td>\n",
       "      <td>1.000000</td>\n",
       "      <td>0.000000</td>\n",
       "      <td>0.000000</td>\n",
       "      <td>0.000000</td>\n",
       "      <td>0.000000</td>\n",
       "      <td>1.000000</td>\n",
       "      <td>0.020000</td>\n",
       "      <td>0.000000</td>\n",
       "      <td>0.000000</td>\n",
       "      <td>0.000000</td>\n",
       "      <td>0.000000</td>\n",
       "      <td>0.000000</td>\n",
       "      <td>1.000000</td>\n",
       "    </tr>\n",
       "    <tr>\n",
       "      <th>25%</th>\n",
       "      <td>4336.250000</td>\n",
       "      <td>2.000000</td>\n",
       "      <td>0.000000</td>\n",
       "      <td>4.000000</td>\n",
       "      <td>6.000000</td>\n",
       "      <td>0.000000</td>\n",
       "      <td>1.000000</td>\n",
       "      <td>0.000000</td>\n",
       "      <td>1.000000</td>\n",
       "      <td>0.340000</td>\n",
       "      <td>0.333300</td>\n",
       "      <td>0.480000</td>\n",
       "      <td>0.104500</td>\n",
       "      <td>4.000000</td>\n",
       "      <td>34.000000</td>\n",
       "      <td>40.000000</td>\n",
       "    </tr>\n",
       "    <tr>\n",
       "      <th>50%</th>\n",
       "      <td>8677.500000</td>\n",
       "      <td>3.000000</td>\n",
       "      <td>1.000000</td>\n",
       "      <td>7.000000</td>\n",
       "      <td>11.000000</td>\n",
       "      <td>0.000000</td>\n",
       "      <td>3.000000</td>\n",
       "      <td>1.000000</td>\n",
       "      <td>1.000000</td>\n",
       "      <td>0.500000</td>\n",
       "      <td>0.484800</td>\n",
       "      <td>0.630000</td>\n",
       "      <td>0.164200</td>\n",
       "      <td>17.000000</td>\n",
       "      <td>115.000000</td>\n",
       "      <td>142.000000</td>\n",
       "    </tr>\n",
       "    <tr>\n",
       "      <th>75%</th>\n",
       "      <td>13024.250000</td>\n",
       "      <td>3.000000</td>\n",
       "      <td>1.000000</td>\n",
       "      <td>10.000000</td>\n",
       "      <td>17.000000</td>\n",
       "      <td>0.000000</td>\n",
       "      <td>5.000000</td>\n",
       "      <td>1.000000</td>\n",
       "      <td>2.000000</td>\n",
       "      <td>0.660000</td>\n",
       "      <td>0.621200</td>\n",
       "      <td>0.780000</td>\n",
       "      <td>0.253700</td>\n",
       "      <td>48.000000</td>\n",
       "      <td>219.000000</td>\n",
       "      <td>280.000000</td>\n",
       "    </tr>\n",
       "    <tr>\n",
       "      <th>max</th>\n",
       "      <td>17376.000000</td>\n",
       "      <td>4.000000</td>\n",
       "      <td>1.000000</td>\n",
       "      <td>12.000000</td>\n",
       "      <td>23.000000</td>\n",
       "      <td>1.000000</td>\n",
       "      <td>6.000000</td>\n",
       "      <td>1.000000</td>\n",
       "      <td>4.000000</td>\n",
       "      <td>1.000000</td>\n",
       "      <td>1.000000</td>\n",
       "      <td>1.000000</td>\n",
       "      <td>0.850700</td>\n",
       "      <td>367.000000</td>\n",
       "      <td>886.000000</td>\n",
       "      <td>977.000000</td>\n",
       "    </tr>\n",
       "  </tbody>\n",
       "</table>\n",
       "</div>"
      ],
      "text/plain": [
       "            instant        season            yr          mnth            hr  \\\n",
       "count  14060.000000  14061.000000  14076.000000  14062.000000  14068.000000   \n",
       "mean    8679.717496      2.507930      0.501563      6.542810     11.486779   \n",
       "std     5015.960092      1.110674      0.500015      3.443693      6.915101   \n",
       "min        2.000000      1.000000      0.000000      1.000000      0.000000   \n",
       "25%     4336.250000      2.000000      0.000000      4.000000      6.000000   \n",
       "50%     8677.500000      3.000000      1.000000      7.000000     11.000000   \n",
       "75%    13024.250000      3.000000      1.000000     10.000000     17.000000   \n",
       "max    17376.000000      4.000000      1.000000     12.000000     23.000000   \n",
       "\n",
       "            holiday       weekday    workingday    weathersit          temp  \\\n",
       "count  14076.000000  14078.000000  14097.000000  14078.000000  14066.000000   \n",
       "mean       0.027707      3.006535      0.683053      1.422432      0.496926   \n",
       "std        0.164137      2.002829      0.465303      0.638937      0.192971   \n",
       "min        0.000000      0.000000      0.000000      1.000000      0.020000   \n",
       "25%        0.000000      1.000000      0.000000      1.000000      0.340000   \n",
       "50%        0.000000      3.000000      1.000000      1.000000      0.500000   \n",
       "75%        0.000000      5.000000      1.000000      2.000000      0.660000   \n",
       "max        1.000000      6.000000      1.000000      4.000000      1.000000   \n",
       "\n",
       "              atemp           hum     windspeed        casual    registered  \\\n",
       "count  14076.000000  14070.000000  14082.000000  14071.000000  14090.000000   \n",
       "mean       0.476055      0.627357      0.189552     35.416317    153.280625   \n",
       "std        0.172827      0.192863      0.122309     48.770799    151.317869   \n",
       "min        0.000000      0.000000      0.000000      0.000000      0.000000   \n",
       "25%        0.333300      0.480000      0.104500      4.000000     34.000000   \n",
       "50%        0.484800      0.630000      0.164200     17.000000    115.000000   \n",
       "75%        0.621200      0.780000      0.253700     48.000000    219.000000   \n",
       "max        1.000000      1.000000      0.850700    367.000000    886.000000   \n",
       "\n",
       "                cnt  \n",
       "count  14079.000000  \n",
       "mean     189.165850  \n",
       "std      181.223589  \n",
       "min        1.000000  \n",
       "25%       40.000000  \n",
       "50%      142.000000  \n",
       "75%      280.000000  \n",
       "max      977.000000  "
      ]
     },
     "execution_count": 18,
     "metadata": {},
     "output_type": "execute_result"
    }
   ],
   "source": [
    "dataset_null.describe()"
   ]
  },
  {
   "cell_type": "code",
   "execution_count": 19,
   "metadata": {
    "colab": {},
    "colab_type": "code",
    "id": "BLtEHVNKCZUr"
   },
   "outputs": [],
   "source": [
    "#alterando a coluna dteday para datetime\n",
    "dataset_null['dteday']=pd.to_datetime(dataset_null['dteday'])"
   ]
  },
  {
   "cell_type": "code",
   "execution_count": 20,
   "metadata": {
    "colab": {
     "base_uri": "https://localhost:8080/",
     "height": 425
    },
    "colab_type": "code",
    "executionInfo": {
     "elapsed": 763,
     "status": "ok",
     "timestamp": 1590654971950,
     "user": {
      "displayName": "Giselle Silva",
      "photoUrl": "https://lh3.googleusercontent.com/a-/AOh14Ghw1WCpW9Q_9WLdA1gi-7ssprk6FMiSRivyisCC5LA=s64",
      "userId": "07908098511200809974"
     },
     "user_tz": 180
    },
    "id": "cbC9Bnu8s1NR",
    "outputId": "448a4fb6-2991-4b34-93ac-41573c54d247"
   },
   "outputs": [
    {
     "name": "stdout",
     "output_type": "stream",
     "text": [
      "<class 'pandas.core.frame.DataFrame'>\n",
      "Int64Index: 15641 entries, 1 to 17378\n",
      "Data columns (total 17 columns):\n",
      " #   Column      Non-Null Count  Dtype         \n",
      "---  ------      --------------  -----         \n",
      " 0   instant     14060 non-null  float64       \n",
      " 1   dteday      15641 non-null  datetime64[ns]\n",
      " 2   season      14061 non-null  float64       \n",
      " 3   yr          14076 non-null  float64       \n",
      " 4   mnth        14062 non-null  float64       \n",
      " 5   hr          14068 non-null  float64       \n",
      " 6   holiday     14076 non-null  float64       \n",
      " 7   weekday     14078 non-null  float64       \n",
      " 8   workingday  14097 non-null  float64       \n",
      " 9   weathersit  14078 non-null  float64       \n",
      " 10  temp        14066 non-null  float64       \n",
      " 11  atemp       14076 non-null  float64       \n",
      " 12  hum         14070 non-null  float64       \n",
      " 13  windspeed   14082 non-null  float64       \n",
      " 14  casual      14071 non-null  float64       \n",
      " 15  registered  14090 non-null  float64       \n",
      " 16  cnt         14079 non-null  float64       \n",
      "dtypes: datetime64[ns](1), float64(16)\n",
      "memory usage: 2.1 MB\n"
     ]
    }
   ],
   "source": [
    "dataset_null.info()"
   ]
  },
  {
   "cell_type": "code",
   "execution_count": 21,
   "metadata": {
    "colab": {
     "base_uri": "https://localhost:8080/",
     "height": 34
    },
    "colab_type": "code",
    "executionInfo": {
     "elapsed": 698,
     "status": "ok",
     "timestamp": 1590654975775,
     "user": {
      "displayName": "Giselle Silva",
      "photoUrl": "https://lh3.googleusercontent.com/a-/AOh14Ghw1WCpW9Q_9WLdA1gi-7ssprk6FMiSRivyisCC5LA=s64",
      "userId": "07908098511200809974"
     },
     "user_tz": 180
    },
    "id": "FNGZq6hkQyW6",
    "outputId": "6d4f01e1-4713-493b-af9d-8556d65abb37"
   },
   "outputs": [
    {
     "data": {
      "text/plain": [
       "Timestamp('2012-12-31 00:00:00')"
      ]
     },
     "execution_count": 21,
     "metadata": {},
     "output_type": "execute_result"
    }
   ],
   "source": [
    "dataset_null['dteday'].max()   #última data da coluna dteday:"
   ]
  },
  {
   "cell_type": "markdown",
   "metadata": {
    "colab_type": "text",
    "id": "JmdtZG-iVtPu"
   },
   "source": [
    "**Transformando o atributo season em categorica:**"
   ]
  },
  {
   "cell_type": "code",
   "execution_count": 22,
   "metadata": {
    "colab": {},
    "colab_type": "code",
    "id": "St44kUDIRrF7"
   },
   "outputs": [],
   "source": [
    "dataset_null['season']=pd.Categorical(dataset_null['season'])"
   ]
  },
  {
   "cell_type": "code",
   "execution_count": 23,
   "metadata": {
    "colab": {
     "base_uri": "https://localhost:8080/",
     "height": 425
    },
    "colab_type": "code",
    "executionInfo": {
     "elapsed": 724,
     "status": "ok",
     "timestamp": 1590655021292,
     "user": {
      "displayName": "Giselle Silva",
      "photoUrl": "https://lh3.googleusercontent.com/a-/AOh14Ghw1WCpW9Q_9WLdA1gi-7ssprk6FMiSRivyisCC5LA=s64",
      "userId": "07908098511200809974"
     },
     "user_tz": 180
    },
    "id": "bDqlZXDCVpHi",
    "outputId": "1b60338c-9a28-4bc2-d15b-d961767cc7a9"
   },
   "outputs": [
    {
     "name": "stdout",
     "output_type": "stream",
     "text": [
      "<class 'pandas.core.frame.DataFrame'>\n",
      "Int64Index: 15641 entries, 1 to 17378\n",
      "Data columns (total 17 columns):\n",
      " #   Column      Non-Null Count  Dtype         \n",
      "---  ------      --------------  -----         \n",
      " 0   instant     14060 non-null  float64       \n",
      " 1   dteday      15641 non-null  datetime64[ns]\n",
      " 2   season      14061 non-null  category      \n",
      " 3   yr          14076 non-null  float64       \n",
      " 4   mnth        14062 non-null  float64       \n",
      " 5   hr          14068 non-null  float64       \n",
      " 6   holiday     14076 non-null  float64       \n",
      " 7   weekday     14078 non-null  float64       \n",
      " 8   workingday  14097 non-null  float64       \n",
      " 9   weathersit  14078 non-null  float64       \n",
      " 10  temp        14066 non-null  float64       \n",
      " 11  atemp       14076 non-null  float64       \n",
      " 12  hum         14070 non-null  float64       \n",
      " 13  windspeed   14082 non-null  float64       \n",
      " 14  casual      14071 non-null  float64       \n",
      " 15  registered  14090 non-null  float64       \n",
      " 16  cnt         14079 non-null  float64       \n",
      "dtypes: category(1), datetime64[ns](1), float64(15)\n",
      "memory usage: 2.0 MB\n"
     ]
    }
   ],
   "source": [
    "dataset_null.info()"
   ]
  },
  {
   "cell_type": "code",
   "execution_count": 24,
   "metadata": {
    "colab": {
     "base_uri": "https://localhost:8080/",
     "height": 102
    },
    "colab_type": "code",
    "executionInfo": {
     "elapsed": 643,
     "status": "ok",
     "timestamp": 1590655027185,
     "user": {
      "displayName": "Giselle Silva",
      "photoUrl": "https://lh3.googleusercontent.com/a-/AOh14Ghw1WCpW9Q_9WLdA1gi-7ssprk6FMiSRivyisCC5LA=s64",
      "userId": "07908098511200809974"
     },
     "user_tz": 180
    },
    "id": "0QRBdhCzVpTM",
    "outputId": "c3c8df49-3fda-4eb6-8fd8-1bbad43181c6"
   },
   "outputs": [
    {
     "data": {
      "text/plain": [
       "3.0    3623\n",
       "2.0    3523\n",
       "4.0    3478\n",
       "1.0    3437\n",
       "Name: season, dtype: int64"
      ]
     },
     "execution_count": 24,
     "metadata": {},
     "output_type": "execute_result"
    }
   ],
   "source": [
    "dataset_null['season'].value_counts()"
   ]
  },
  {
   "cell_type": "code",
   "execution_count": 25,
   "metadata": {
    "colab": {
     "base_uri": "https://localhost:8080/",
     "height": 317
    },
    "colab_type": "code",
    "executionInfo": {
     "elapsed": 726,
     "status": "ok",
     "timestamp": 1590655045313,
     "user": {
      "displayName": "Giselle Silva",
      "photoUrl": "https://lh3.googleusercontent.com/a-/AOh14Ghw1WCpW9Q_9WLdA1gi-7ssprk6FMiSRivyisCC5LA=s64",
      "userId": "07908098511200809974"
     },
     "user_tz": 180
    },
    "id": "2VFboo8CY3aC",
    "outputId": "4857bcf1-6b2d-47b7-f377-e988db23cd6c"
   },
   "outputs": [
    {
     "data": {
      "text/html": [
       "<div>\n",
       "<style scoped>\n",
       "    .dataframe tbody tr th:only-of-type {\n",
       "        vertical-align: middle;\n",
       "    }\n",
       "\n",
       "    .dataframe tbody tr th {\n",
       "        vertical-align: top;\n",
       "    }\n",
       "\n",
       "    .dataframe thead th {\n",
       "        text-align: right;\n",
       "    }\n",
       "</style>\n",
       "<table border=\"1\" class=\"dataframe\">\n",
       "  <thead>\n",
       "    <tr style=\"text-align: right;\">\n",
       "      <th></th>\n",
       "      <th>instant</th>\n",
       "      <th>yr</th>\n",
       "      <th>mnth</th>\n",
       "      <th>hr</th>\n",
       "      <th>holiday</th>\n",
       "      <th>weekday</th>\n",
       "      <th>workingday</th>\n",
       "      <th>weathersit</th>\n",
       "      <th>temp</th>\n",
       "      <th>atemp</th>\n",
       "      <th>hum</th>\n",
       "      <th>windspeed</th>\n",
       "      <th>casual</th>\n",
       "      <th>registered</th>\n",
       "      <th>cnt</th>\n",
       "    </tr>\n",
       "  </thead>\n",
       "  <tbody>\n",
       "    <tr>\n",
       "      <th>count</th>\n",
       "      <td>14060.000000</td>\n",
       "      <td>14076.000000</td>\n",
       "      <td>14062.000000</td>\n",
       "      <td>14068.000000</td>\n",
       "      <td>14076.000000</td>\n",
       "      <td>14078.000000</td>\n",
       "      <td>14097.000000</td>\n",
       "      <td>14078.000000</td>\n",
       "      <td>14066.000000</td>\n",
       "      <td>14076.000000</td>\n",
       "      <td>14070.000000</td>\n",
       "      <td>14082.000000</td>\n",
       "      <td>14071.000000</td>\n",
       "      <td>14090.000000</td>\n",
       "      <td>14079.000000</td>\n",
       "    </tr>\n",
       "    <tr>\n",
       "      <th>mean</th>\n",
       "      <td>8679.717496</td>\n",
       "      <td>0.501563</td>\n",
       "      <td>6.542810</td>\n",
       "      <td>11.486779</td>\n",
       "      <td>0.027707</td>\n",
       "      <td>3.006535</td>\n",
       "      <td>0.683053</td>\n",
       "      <td>1.422432</td>\n",
       "      <td>0.496926</td>\n",
       "      <td>0.476055</td>\n",
       "      <td>0.627357</td>\n",
       "      <td>0.189552</td>\n",
       "      <td>35.416317</td>\n",
       "      <td>153.280625</td>\n",
       "      <td>189.165850</td>\n",
       "    </tr>\n",
       "    <tr>\n",
       "      <th>std</th>\n",
       "      <td>5015.960092</td>\n",
       "      <td>0.500015</td>\n",
       "      <td>3.443693</td>\n",
       "      <td>6.915101</td>\n",
       "      <td>0.164137</td>\n",
       "      <td>2.002829</td>\n",
       "      <td>0.465303</td>\n",
       "      <td>0.638937</td>\n",
       "      <td>0.192971</td>\n",
       "      <td>0.172827</td>\n",
       "      <td>0.192863</td>\n",
       "      <td>0.122309</td>\n",
       "      <td>48.770799</td>\n",
       "      <td>151.317869</td>\n",
       "      <td>181.223589</td>\n",
       "    </tr>\n",
       "    <tr>\n",
       "      <th>min</th>\n",
       "      <td>2.000000</td>\n",
       "      <td>0.000000</td>\n",
       "      <td>1.000000</td>\n",
       "      <td>0.000000</td>\n",
       "      <td>0.000000</td>\n",
       "      <td>0.000000</td>\n",
       "      <td>0.000000</td>\n",
       "      <td>1.000000</td>\n",
       "      <td>0.020000</td>\n",
       "      <td>0.000000</td>\n",
       "      <td>0.000000</td>\n",
       "      <td>0.000000</td>\n",
       "      <td>0.000000</td>\n",
       "      <td>0.000000</td>\n",
       "      <td>1.000000</td>\n",
       "    </tr>\n",
       "    <tr>\n",
       "      <th>25%</th>\n",
       "      <td>4336.250000</td>\n",
       "      <td>0.000000</td>\n",
       "      <td>4.000000</td>\n",
       "      <td>6.000000</td>\n",
       "      <td>0.000000</td>\n",
       "      <td>1.000000</td>\n",
       "      <td>0.000000</td>\n",
       "      <td>1.000000</td>\n",
       "      <td>0.340000</td>\n",
       "      <td>0.333300</td>\n",
       "      <td>0.480000</td>\n",
       "      <td>0.104500</td>\n",
       "      <td>4.000000</td>\n",
       "      <td>34.000000</td>\n",
       "      <td>40.000000</td>\n",
       "    </tr>\n",
       "    <tr>\n",
       "      <th>50%</th>\n",
       "      <td>8677.500000</td>\n",
       "      <td>1.000000</td>\n",
       "      <td>7.000000</td>\n",
       "      <td>11.000000</td>\n",
       "      <td>0.000000</td>\n",
       "      <td>3.000000</td>\n",
       "      <td>1.000000</td>\n",
       "      <td>1.000000</td>\n",
       "      <td>0.500000</td>\n",
       "      <td>0.484800</td>\n",
       "      <td>0.630000</td>\n",
       "      <td>0.164200</td>\n",
       "      <td>17.000000</td>\n",
       "      <td>115.000000</td>\n",
       "      <td>142.000000</td>\n",
       "    </tr>\n",
       "    <tr>\n",
       "      <th>75%</th>\n",
       "      <td>13024.250000</td>\n",
       "      <td>1.000000</td>\n",
       "      <td>10.000000</td>\n",
       "      <td>17.000000</td>\n",
       "      <td>0.000000</td>\n",
       "      <td>5.000000</td>\n",
       "      <td>1.000000</td>\n",
       "      <td>2.000000</td>\n",
       "      <td>0.660000</td>\n",
       "      <td>0.621200</td>\n",
       "      <td>0.780000</td>\n",
       "      <td>0.253700</td>\n",
       "      <td>48.000000</td>\n",
       "      <td>219.000000</td>\n",
       "      <td>280.000000</td>\n",
       "    </tr>\n",
       "    <tr>\n",
       "      <th>max</th>\n",
       "      <td>17376.000000</td>\n",
       "      <td>1.000000</td>\n",
       "      <td>12.000000</td>\n",
       "      <td>23.000000</td>\n",
       "      <td>1.000000</td>\n",
       "      <td>6.000000</td>\n",
       "      <td>1.000000</td>\n",
       "      <td>4.000000</td>\n",
       "      <td>1.000000</td>\n",
       "      <td>1.000000</td>\n",
       "      <td>1.000000</td>\n",
       "      <td>0.850700</td>\n",
       "      <td>367.000000</td>\n",
       "      <td>886.000000</td>\n",
       "      <td>977.000000</td>\n",
       "    </tr>\n",
       "  </tbody>\n",
       "</table>\n",
       "</div>"
      ],
      "text/plain": [
       "            instant            yr          mnth            hr       holiday  \\\n",
       "count  14060.000000  14076.000000  14062.000000  14068.000000  14076.000000   \n",
       "mean    8679.717496      0.501563      6.542810     11.486779      0.027707   \n",
       "std     5015.960092      0.500015      3.443693      6.915101      0.164137   \n",
       "min        2.000000      0.000000      1.000000      0.000000      0.000000   \n",
       "25%     4336.250000      0.000000      4.000000      6.000000      0.000000   \n",
       "50%     8677.500000      1.000000      7.000000     11.000000      0.000000   \n",
       "75%    13024.250000      1.000000     10.000000     17.000000      0.000000   \n",
       "max    17376.000000      1.000000     12.000000     23.000000      1.000000   \n",
       "\n",
       "            weekday    workingday    weathersit          temp         atemp  \\\n",
       "count  14078.000000  14097.000000  14078.000000  14066.000000  14076.000000   \n",
       "mean       3.006535      0.683053      1.422432      0.496926      0.476055   \n",
       "std        2.002829      0.465303      0.638937      0.192971      0.172827   \n",
       "min        0.000000      0.000000      1.000000      0.020000      0.000000   \n",
       "25%        1.000000      0.000000      1.000000      0.340000      0.333300   \n",
       "50%        3.000000      1.000000      1.000000      0.500000      0.484800   \n",
       "75%        5.000000      1.000000      2.000000      0.660000      0.621200   \n",
       "max        6.000000      1.000000      4.000000      1.000000      1.000000   \n",
       "\n",
       "                hum     windspeed        casual    registered           cnt  \n",
       "count  14070.000000  14082.000000  14071.000000  14090.000000  14079.000000  \n",
       "mean       0.627357      0.189552     35.416317    153.280625    189.165850  \n",
       "std        0.192863      0.122309     48.770799    151.317869    181.223589  \n",
       "min        0.000000      0.000000      0.000000      0.000000      1.000000  \n",
       "25%        0.480000      0.104500      4.000000     34.000000     40.000000  \n",
       "50%        0.630000      0.164200     17.000000    115.000000    142.000000  \n",
       "75%        0.780000      0.253700     48.000000    219.000000    280.000000  \n",
       "max        1.000000      0.850700    367.000000    886.000000    977.000000  "
      ]
     },
     "execution_count": 25,
     "metadata": {},
     "output_type": "execute_result"
    }
   ],
   "source": [
    "dataset_null.describe()"
   ]
  },
  {
   "cell_type": "markdown",
   "metadata": {
    "colab_type": "text",
    "id": "vvkRSd3ZfQUC"
   },
   "source": [
    "**Matriz de correlação entre as variáveis \"season\", \"temp\", \"atemp\", \"hum\", \"windspeed\", \"cnt\"**"
   ]
  },
  {
   "cell_type": "code",
   "execution_count": 26,
   "metadata": {
    "colab": {},
    "colab_type": "code",
    "id": "Zy44Q-WfRq4F"
   },
   "outputs": [],
   "source": [
    "dataset_corr=dataset_null.copy(deep=True)  #criando uma cópia do dataset"
   ]
  },
  {
   "cell_type": "code",
   "execution_count": 27,
   "metadata": {
    "colab": {
     "base_uri": "https://localhost:8080/",
     "height": 85
    },
    "colab_type": "code",
    "executionInfo": {
     "elapsed": 760,
     "status": "ok",
     "timestamp": 1590656130109,
     "user": {
      "displayName": "Giselle Silva",
      "photoUrl": "https://lh3.googleusercontent.com/a-/AOh14Ghw1WCpW9Q_9WLdA1gi-7ssprk6FMiSRivyisCC5LA=s64",
      "userId": "07908098511200809974"
     },
     "user_tz": 180
    },
    "id": "6S5T2S2Dfe7Q",
    "outputId": "c0eaa70f-582d-4f18-c8ad-6ba4ead052b4"
   },
   "outputs": [
    {
     "data": {
      "text/plain": [
       "Index(['instant', 'dteday', 'season', 'yr', 'mnth', 'hr', 'holiday', 'weekday',\n",
       "       'workingday', 'weathersit', 'temp', 'atemp', 'hum', 'windspeed',\n",
       "       'casual', 'registered', 'cnt'],\n",
       "      dtype='object')"
      ]
     },
     "execution_count": 27,
     "metadata": {},
     "output_type": "execute_result"
    }
   ],
   "source": [
    "dataset_corr.columns"
   ]
  },
  {
   "cell_type": "code",
   "execution_count": 28,
   "metadata": {
    "colab": {},
    "colab_type": "code",
    "id": "DFEdnMUIfW-L"
   },
   "outputs": [],
   "source": [
    "#deixando apenas com as colunas para fazer a correlação\n",
    "drop=[\"instant\", \"dteday\", \"yr\", \"mnth\", \"hr\", \"holiday\", \"weekday\", \"workingday\", \"weathersit\", \"casual\", \"registered\"]\n",
    "dataset_corr.drop(drop, inplace=True, axis=1)"
   ]
  },
  {
   "cell_type": "code",
   "execution_count": 34,
   "metadata": {
    "colab": {
     "base_uri": "https://localhost:8080/",
     "height": 145
    },
    "colab_type": "code",
    "executionInfo": {
     "elapsed": 736,
     "status": "ok",
     "timestamp": 1590656916974,
     "user": {
      "displayName": "Giselle Silva",
      "photoUrl": "https://lh3.googleusercontent.com/a-/AOh14Ghw1WCpW9Q_9WLdA1gi-7ssprk6FMiSRivyisCC5LA=s64",
      "userId": "07908098511200809974"
     },
     "user_tz": 180
    },
    "id": "TiWSRSJ2fXIn",
    "outputId": "7db103e7-2b27-41ac-a5e3-614ff0b784ee"
   },
   "outputs": [
    {
     "data": {
      "text/html": [
       "<style  type=\"text/css\" >\n",
       "    #T_8e2f93a6_a112_11ea_a32a_c01885e7ba78row0_col0 {\n",
       "            background-color:  #b40426;\n",
       "            color:  #f1f1f1;\n",
       "        }    #T_8e2f93a6_a112_11ea_a32a_c01885e7ba78row0_col1 {\n",
       "            background-color:  #b70d28;\n",
       "            color:  #f1f1f1;\n",
       "        }    #T_8e2f93a6_a112_11ea_a32a_c01885e7ba78row0_col2 {\n",
       "            background-color:  #799cf8;\n",
       "            color:  #000000;\n",
       "        }    #T_8e2f93a6_a112_11ea_a32a_c01885e7ba78row0_col3 {\n",
       "            background-color:  #80a3fa;\n",
       "            color:  #000000;\n",
       "        }    #T_8e2f93a6_a112_11ea_a32a_c01885e7ba78row0_col4 {\n",
       "            background-color:  #ead5c9;\n",
       "            color:  #000000;\n",
       "        }    #T_8e2f93a6_a112_11ea_a32a_c01885e7ba78row1_col0 {\n",
       "            background-color:  #b70d28;\n",
       "            color:  #f1f1f1;\n",
       "        }    #T_8e2f93a6_a112_11ea_a32a_c01885e7ba78row1_col1 {\n",
       "            background-color:  #b40426;\n",
       "            color:  #f1f1f1;\n",
       "        }    #T_8e2f93a6_a112_11ea_a32a_c01885e7ba78row1_col2 {\n",
       "            background-color:  #7da0f9;\n",
       "            color:  #000000;\n",
       "        }    #T_8e2f93a6_a112_11ea_a32a_c01885e7ba78row1_col3 {\n",
       "            background-color:  #7396f5;\n",
       "            color:  #000000;\n",
       "        }    #T_8e2f93a6_a112_11ea_a32a_c01885e7ba78row1_col4 {\n",
       "            background-color:  #e9d5cb;\n",
       "            color:  #000000;\n",
       "        }    #T_8e2f93a6_a112_11ea_a32a_c01885e7ba78row2_col0 {\n",
       "            background-color:  #3b4cc0;\n",
       "            color:  #f1f1f1;\n",
       "        }    #T_8e2f93a6_a112_11ea_a32a_c01885e7ba78row2_col1 {\n",
       "            background-color:  #3c4ec2;\n",
       "            color:  #f1f1f1;\n",
       "        }    #T_8e2f93a6_a112_11ea_a32a_c01885e7ba78row2_col2 {\n",
       "            background-color:  #b40426;\n",
       "            color:  #f1f1f1;\n",
       "        }    #T_8e2f93a6_a112_11ea_a32a_c01885e7ba78row2_col3 {\n",
       "            background-color:  #3b4cc0;\n",
       "            color:  #f1f1f1;\n",
       "        }    #T_8e2f93a6_a112_11ea_a32a_c01885e7ba78row2_col4 {\n",
       "            background-color:  #3b4cc0;\n",
       "            color:  #f1f1f1;\n",
       "        }    #T_8e2f93a6_a112_11ea_a32a_c01885e7ba78row3_col0 {\n",
       "            background-color:  #4961d2;\n",
       "            color:  #f1f1f1;\n",
       "        }    #T_8e2f93a6_a112_11ea_a32a_c01885e7ba78row3_col1 {\n",
       "            background-color:  #3b4cc0;\n",
       "            color:  #f1f1f1;\n",
       "        }    #T_8e2f93a6_a112_11ea_a32a_c01885e7ba78row3_col2 {\n",
       "            background-color:  #4257c9;\n",
       "            color:  #f1f1f1;\n",
       "        }    #T_8e2f93a6_a112_11ea_a32a_c01885e7ba78row3_col3 {\n",
       "            background-color:  #b40426;\n",
       "            color:  #f1f1f1;\n",
       "        }    #T_8e2f93a6_a112_11ea_a32a_c01885e7ba78row3_col4 {\n",
       "            background-color:  #a3c2fe;\n",
       "            color:  #000000;\n",
       "        }    #T_8e2f93a6_a112_11ea_a32a_c01885e7ba78row4_col0 {\n",
       "            background-color:  #cdd9ec;\n",
       "            color:  #000000;\n",
       "        }    #T_8e2f93a6_a112_11ea_a32a_c01885e7ba78row4_col1 {\n",
       "            background-color:  #cbd8ee;\n",
       "            color:  #000000;\n",
       "        }    #T_8e2f93a6_a112_11ea_a32a_c01885e7ba78row4_col2 {\n",
       "            background-color:  #3b4cc0;\n",
       "            color:  #f1f1f1;\n",
       "        }    #T_8e2f93a6_a112_11ea_a32a_c01885e7ba78row4_col3 {\n",
       "            background-color:  #9dbdff;\n",
       "            color:  #000000;\n",
       "        }    #T_8e2f93a6_a112_11ea_a32a_c01885e7ba78row4_col4 {\n",
       "            background-color:  #b40426;\n",
       "            color:  #f1f1f1;\n",
       "        }</style><table id=\"T_8e2f93a6_a112_11ea_a32a_c01885e7ba78\" ><thead>    <tr>        <th class=\"blank level0\" ></th>        <th class=\"col_heading level0 col0\" >temp</th>        <th class=\"col_heading level0 col1\" >atemp</th>        <th class=\"col_heading level0 col2\" >hum</th>        <th class=\"col_heading level0 col3\" >windspeed</th>        <th class=\"col_heading level0 col4\" >cnt</th>    </tr></thead><tbody>\n",
       "                <tr>\n",
       "                        <th id=\"T_8e2f93a6_a112_11ea_a32a_c01885e7ba78level0_row0\" class=\"row_heading level0 row0\" >temp</th>\n",
       "                        <td id=\"T_8e2f93a6_a112_11ea_a32a_c01885e7ba78row0_col0\" class=\"data row0 col0\" >1.000000</td>\n",
       "                        <td id=\"T_8e2f93a6_a112_11ea_a32a_c01885e7ba78row0_col1\" class=\"data row0 col1\" >0.988102</td>\n",
       "                        <td id=\"T_8e2f93a6_a112_11ea_a32a_c01885e7ba78row0_col2\" class=\"data row0 col2\" >-0.069887</td>\n",
       "                        <td id=\"T_8e2f93a6_a112_11ea_a32a_c01885e7ba78row0_col3\" class=\"data row0 col3\" >-0.016022</td>\n",
       "                        <td id=\"T_8e2f93a6_a112_11ea_a32a_c01885e7ba78row0_col4\" class=\"data row0 col4\" >0.405867</td>\n",
       "            </tr>\n",
       "            <tr>\n",
       "                        <th id=\"T_8e2f93a6_a112_11ea_a32a_c01885e7ba78level0_row1\" class=\"row_heading level0 row1\" >atemp</th>\n",
       "                        <td id=\"T_8e2f93a6_a112_11ea_a32a_c01885e7ba78row1_col0\" class=\"data row1 col0\" >0.988102</td>\n",
       "                        <td id=\"T_8e2f93a6_a112_11ea_a32a_c01885e7ba78row1_col1\" class=\"data row1 col1\" >1.000000</td>\n",
       "                        <td id=\"T_8e2f93a6_a112_11ea_a32a_c01885e7ba78row1_col2\" class=\"data row1 col2\" >-0.054224</td>\n",
       "                        <td id=\"T_8e2f93a6_a112_11ea_a32a_c01885e7ba78row1_col3\" class=\"data row1 col3\" >-0.058803</td>\n",
       "                        <td id=\"T_8e2f93a6_a112_11ea_a32a_c01885e7ba78row1_col4\" class=\"data row1 col4\" >0.403810</td>\n",
       "            </tr>\n",
       "            <tr>\n",
       "                        <th id=\"T_8e2f93a6_a112_11ea_a32a_c01885e7ba78level0_row2\" class=\"row_heading level0 row2\" >hum</th>\n",
       "                        <td id=\"T_8e2f93a6_a112_11ea_a32a_c01885e7ba78row2_col0\" class=\"data row2 col0\" >-0.069887</td>\n",
       "                        <td id=\"T_8e2f93a6_a112_11ea_a32a_c01885e7ba78row2_col1\" class=\"data row2 col1\" >-0.054224</td>\n",
       "                        <td id=\"T_8e2f93a6_a112_11ea_a32a_c01885e7ba78row2_col2\" class=\"data row2 col2\" >1.000000</td>\n",
       "                        <td id=\"T_8e2f93a6_a112_11ea_a32a_c01885e7ba78row2_col3\" class=\"data row2 col3\" >-0.289859</td>\n",
       "                        <td id=\"T_8e2f93a6_a112_11ea_a32a_c01885e7ba78row2_col4\" class=\"data row2 col4\" >-0.323409</td>\n",
       "            </tr>\n",
       "            <tr>\n",
       "                        <th id=\"T_8e2f93a6_a112_11ea_a32a_c01885e7ba78level0_row3\" class=\"row_heading level0 row3\" >windspeed</th>\n",
       "                        <td id=\"T_8e2f93a6_a112_11ea_a32a_c01885e7ba78row3_col0\" class=\"data row3 col0\" >-0.016022</td>\n",
       "                        <td id=\"T_8e2f93a6_a112_11ea_a32a_c01885e7ba78row3_col1\" class=\"data row3 col1\" >-0.058803</td>\n",
       "                        <td id=\"T_8e2f93a6_a112_11ea_a32a_c01885e7ba78row3_col2\" class=\"data row3 col2\" >-0.289859</td>\n",
       "                        <td id=\"T_8e2f93a6_a112_11ea_a32a_c01885e7ba78row3_col3\" class=\"data row3 col3\" >1.000000</td>\n",
       "                        <td id=\"T_8e2f93a6_a112_11ea_a32a_c01885e7ba78row3_col4\" class=\"data row3 col4\" >0.091747</td>\n",
       "            </tr>\n",
       "            <tr>\n",
       "                        <th id=\"T_8e2f93a6_a112_11ea_a32a_c01885e7ba78level0_row4\" class=\"row_heading level0 row4\" >cnt</th>\n",
       "                        <td id=\"T_8e2f93a6_a112_11ea_a32a_c01885e7ba78row4_col0\" class=\"data row4 col0\" >0.405867</td>\n",
       "                        <td id=\"T_8e2f93a6_a112_11ea_a32a_c01885e7ba78row4_col1\" class=\"data row4 col1\" >0.403810</td>\n",
       "                        <td id=\"T_8e2f93a6_a112_11ea_a32a_c01885e7ba78row4_col2\" class=\"data row4 col2\" >-0.323409</td>\n",
       "                        <td id=\"T_8e2f93a6_a112_11ea_a32a_c01885e7ba78row4_col3\" class=\"data row4 col3\" >0.091747</td>\n",
       "                        <td id=\"T_8e2f93a6_a112_11ea_a32a_c01885e7ba78row4_col4\" class=\"data row4 col4\" >1.000000</td>\n",
       "            </tr>\n",
       "    </tbody></table>"
      ],
      "text/plain": [
       "<pandas.io.formats.style.Styler at 0x1cd87658a88>"
      ]
     },
     "execution_count": 34,
     "metadata": {},
     "output_type": "execute_result"
    }
   ],
   "source": [
    "#Cálculo da correlação para as variáveis selecionadas\n",
    "corr=dataset_corr.corr()\n",
    "corr.style.background_gradient(cmap='coolwarm')"
   ]
  },
  {
   "cell_type": "code",
   "execution_count": 36,
   "metadata": {
    "colab": {
     "base_uri": "https://localhost:8080/",
     "height": 282
    },
    "colab_type": "code",
    "executionInfo": {
     "elapsed": 829,
     "status": "ok",
     "timestamp": 1590655165600,
     "user": {
      "displayName": "Giselle Silva",
      "photoUrl": "https://lh3.googleusercontent.com/a-/AOh14Ghw1WCpW9Q_9WLdA1gi-7ssprk6FMiSRivyisCC5LA=s64",
      "userId": "07908098511200809974"
     },
     "user_tz": 180
    },
    "id": "S09x26otCYu-",
    "outputId": "9835935a-5b04-4d06-94b1-5e6865efbf37"
   },
   "outputs": [
    {
     "data": {
      "text/plain": [
       "<matplotlib.axes._subplots.AxesSubplot at 0x1cd87750308>"
      ]
     },
     "execution_count": 36,
     "metadata": {},
     "output_type": "execute_result"
    },
    {
     "data": {
      "image/png": "[encoded data removed]",
      "text/plain": [
       "<Figure size 432x288 with 1 Axes>"
      ]
     },
     "metadata": {
      "needs_background": "light"
     },
     "output_type": "display_data"
    }
   ],
   "source": [
    "#identificando possíveis outliers\n",
    "dataset_null[['windspeed']].boxplot()"
   ]
  },
  {
   "cell_type": "markdown",
   "metadata": {
    "colab_type": "text",
    "id": "9_cws72NjDMM"
   },
   "source": [
    "\n",
    "\n",
    "---\n",
    "\n"
   ]
  },
  {
   "cell_type": "markdown",
   "metadata": {
    "colab_type": "text",
    "id": "zeQ94BwZjFdp"
   },
   "source": [
    "# **Regressão e Árvore de Decisão**"
   ]
  },
  {
   "cell_type": "markdown",
   "metadata": {
    "colab_type": "text",
    "id": "5cnZCcFv0QMK"
   },
   "source": [
    "usar a base de dados com o tratamento de valores nulas das coluna hum, cnt e casual para regressão e árvores de decisão:"
   ]
  },
  {
   "cell_type": "code",
   "execution_count": 37,
   "metadata": {
    "colab": {},
    "colab_type": "code",
    "id": "HBEmqBTcfXPp"
   },
   "outputs": [],
   "source": [
    "#lendo o dataset no formato de um dataframe\n",
    "dataset_modelos = pd.read_csv('D:/Documentos/Bootcamp IGTI ML/Notebooks/Desafio Mod1/comp_bikes_mod.csv', sep=',') #realiza a leitura do banco de dados"
   ]
  },
  {
   "cell_type": "code",
   "execution_count": 38,
   "metadata": {
    "colab": {},
    "colab_type": "code",
    "id": "Xn_2GA06CZDB"
   },
   "outputs": [],
   "source": [
    "#Preenchendo os valores nulos das colunas \"hum\",\"cnt\" e \"casual\" com os valores médios.\n",
    "dataset_modelos[\"hum\"].fillna(dataset_modelos[\"hum\"].mean(), inplace=True) #substituindo os valores nulos pela média da coluna\n",
    "dataset_modelos[\"cnt\"].fillna(dataset_modelos[\"cnt\"].mean(), inplace=True) #substituindo os valores nulos pela média da coluna\n",
    "dataset_modelos[\"casual\"].fillna(dataset_modelos[\"casual\"].mean(), inplace=True) #substituindo os valores nulos pela média da coluna"
   ]
  },
  {
   "cell_type": "code",
   "execution_count": 39,
   "metadata": {
    "colab": {
     "base_uri": "https://localhost:8080/",
     "height": 204
    },
    "colab_type": "code",
    "executionInfo": {
     "elapsed": 1247,
     "status": "ok",
     "timestamp": 1590659680242,
     "user": {
      "displayName": "Giselle Silva",
      "photoUrl": "https://lh3.googleusercontent.com/a-/AOh14Ghw1WCpW9Q_9WLdA1gi-7ssprk6FMiSRivyisCC5LA=s64",
      "userId": "07908098511200809974"
     },
     "user_tz": 180
    },
    "id": "xJ-FWHGvsz2l",
    "outputId": "7a93f796-de70-4456-b22c-a98a8c667803"
   },
   "outputs": [
    {
     "data": {
      "text/html": [
       "<div>\n",
       "<style scoped>\n",
       "    .dataframe tbody tr th:only-of-type {\n",
       "        vertical-align: middle;\n",
       "    }\n",
       "\n",
       "    .dataframe tbody tr th {\n",
       "        vertical-align: top;\n",
       "    }\n",
       "\n",
       "    .dataframe thead th {\n",
       "        text-align: right;\n",
       "    }\n",
       "</style>\n",
       "<table border=\"1\" class=\"dataframe\">\n",
       "  <thead>\n",
       "    <tr style=\"text-align: right;\">\n",
       "      <th></th>\n",
       "      <th>instant</th>\n",
       "      <th>dteday</th>\n",
       "      <th>season</th>\n",
       "      <th>yr</th>\n",
       "      <th>mnth</th>\n",
       "      <th>hr</th>\n",
       "      <th>holiday</th>\n",
       "      <th>weekday</th>\n",
       "      <th>workingday</th>\n",
       "      <th>weathersit</th>\n",
       "      <th>temp</th>\n",
       "      <th>atemp</th>\n",
       "      <th>hum</th>\n",
       "      <th>windspeed</th>\n",
       "      <th>casual</th>\n",
       "      <th>registered</th>\n",
       "      <th>cnt</th>\n",
       "    </tr>\n",
       "  </thead>\n",
       "  <tbody>\n",
       "    <tr>\n",
       "      <th>0</th>\n",
       "      <td>1.0</td>\n",
       "      <td>NaN</td>\n",
       "      <td>1.0</td>\n",
       "      <td>0.0</td>\n",
       "      <td>1.0</td>\n",
       "      <td>0.0</td>\n",
       "      <td>0.0</td>\n",
       "      <td>6.0</td>\n",
       "      <td>0.0</td>\n",
       "      <td>1.0</td>\n",
       "      <td>NaN</td>\n",
       "      <td>0.2879</td>\n",
       "      <td>0.81</td>\n",
       "      <td>0.0</td>\n",
       "      <td>3.0</td>\n",
       "      <td>13.0</td>\n",
       "      <td>16.0</td>\n",
       "    </tr>\n",
       "    <tr>\n",
       "      <th>1</th>\n",
       "      <td>2.0</td>\n",
       "      <td>2011-01-01</td>\n",
       "      <td>1.0</td>\n",
       "      <td>0.0</td>\n",
       "      <td>1.0</td>\n",
       "      <td>1.0</td>\n",
       "      <td>0.0</td>\n",
       "      <td>6.0</td>\n",
       "      <td>0.0</td>\n",
       "      <td>NaN</td>\n",
       "      <td>0.22</td>\n",
       "      <td>0.2727</td>\n",
       "      <td>0.80</td>\n",
       "      <td>0.0</td>\n",
       "      <td>8.0</td>\n",
       "      <td>32.0</td>\n",
       "      <td>40.0</td>\n",
       "    </tr>\n",
       "    <tr>\n",
       "      <th>2</th>\n",
       "      <td>3.0</td>\n",
       "      <td>2011-01-01</td>\n",
       "      <td>1.0</td>\n",
       "      <td>0.0</td>\n",
       "      <td>1.0</td>\n",
       "      <td>2.0</td>\n",
       "      <td>0.0</td>\n",
       "      <td>6.0</td>\n",
       "      <td>0.0</td>\n",
       "      <td>1.0</td>\n",
       "      <td>0.22</td>\n",
       "      <td>0.2727</td>\n",
       "      <td>0.80</td>\n",
       "      <td>0.0</td>\n",
       "      <td>5.0</td>\n",
       "      <td>27.0</td>\n",
       "      <td>32.0</td>\n",
       "    </tr>\n",
       "    <tr>\n",
       "      <th>3</th>\n",
       "      <td>4.0</td>\n",
       "      <td>2011-01-01</td>\n",
       "      <td>1.0</td>\n",
       "      <td>0.0</td>\n",
       "      <td>1.0</td>\n",
       "      <td>3.0</td>\n",
       "      <td>0.0</td>\n",
       "      <td>6.0</td>\n",
       "      <td>0.0</td>\n",
       "      <td>1.0</td>\n",
       "      <td>0.24</td>\n",
       "      <td>0.2879</td>\n",
       "      <td>0.75</td>\n",
       "      <td>0.0</td>\n",
       "      <td>3.0</td>\n",
       "      <td>10.0</td>\n",
       "      <td>13.0</td>\n",
       "    </tr>\n",
       "    <tr>\n",
       "      <th>4</th>\n",
       "      <td>5.0</td>\n",
       "      <td>2011-01-01</td>\n",
       "      <td>1.0</td>\n",
       "      <td>0.0</td>\n",
       "      <td>1.0</td>\n",
       "      <td>4.0</td>\n",
       "      <td>0.0</td>\n",
       "      <td>6.0</td>\n",
       "      <td>NaN</td>\n",
       "      <td>1.0</td>\n",
       "      <td>0.24</td>\n",
       "      <td>0.2879</td>\n",
       "      <td>0.75</td>\n",
       "      <td>0.0</td>\n",
       "      <td>0.0</td>\n",
       "      <td>1.0</td>\n",
       "      <td>1.0</td>\n",
       "    </tr>\n",
       "  </tbody>\n",
       "</table>\n",
       "</div>"
      ],
      "text/plain": [
       "   instant      dteday  season   yr  mnth   hr  holiday  weekday  workingday  \\\n",
       "0      1.0         NaN     1.0  0.0   1.0  0.0      0.0      6.0         0.0   \n",
       "1      2.0  2011-01-01     1.0  0.0   1.0  1.0      0.0      6.0         0.0   \n",
       "2      3.0  2011-01-01     1.0  0.0   1.0  2.0      0.0      6.0         0.0   \n",
       "3      4.0  2011-01-01     1.0  0.0   1.0  3.0      0.0      6.0         0.0   \n",
       "4      5.0  2011-01-01     1.0  0.0   1.0  4.0      0.0      6.0         NaN   \n",
       "\n",
       "   weathersit  temp   atemp   hum  windspeed  casual  registered   cnt  \n",
       "0         1.0   NaN  0.2879  0.81        0.0     3.0        13.0  16.0  \n",
       "1         NaN  0.22  0.2727  0.80        0.0     8.0        32.0  40.0  \n",
       "2         1.0  0.22  0.2727  0.80        0.0     5.0        27.0  32.0  \n",
       "3         1.0  0.24  0.2879  0.75        0.0     3.0        10.0  13.0  \n",
       "4         1.0  0.24  0.2879  0.75        0.0     0.0         1.0   1.0  "
      ]
     },
     "execution_count": 39,
     "metadata": {},
     "output_type": "execute_result"
    }
   ],
   "source": [
    "dataset_modelos.head()"
   ]
  },
  {
   "cell_type": "code",
   "execution_count": 40,
   "metadata": {
    "colab": {
     "base_uri": "https://localhost:8080/",
     "height": 282
    },
    "colab_type": "code",
    "executionInfo": {
     "elapsed": 729,
     "status": "ok",
     "timestamp": 1590660772644,
     "user": {
      "displayName": "Giselle Silva",
      "photoUrl": "https://lh3.googleusercontent.com/a-/AOh14Ghw1WCpW9Q_9WLdA1gi-7ssprk6FMiSRivyisCC5LA=s64",
      "userId": "07908098511200809974"
     },
     "user_tz": 180
    },
    "id": "hnIhutuSpnGo",
    "outputId": "5f4e19c8-f534-442c-fe7b-319b3184f0b6"
   },
   "outputs": [
    {
     "data": {
      "text/plain": [
       "<matplotlib.axes._subplots.AxesSubplot at 0x1cd877d4188>"
      ]
     },
     "execution_count": 40,
     "metadata": {},
     "output_type": "execute_result"
    },
    {
     "data": {
      "image/png": "[encoded data removed]",
      "text/plain": [
       "<Figure size 432x288 with 1 Axes>"
      ]
     },
     "metadata": {
      "needs_background": "light"
     },
     "output_type": "display_data"
    }
   ],
   "source": [
    "dataset_modelos[['cnt']].boxplot()"
   ]
  },
  {
   "cell_type": "markdown",
   "metadata": {
    "colab_type": "text",
    "id": "CLWy4c-5pKah"
   },
   "source": [
    "**Análise de Regressão**"
   ]
  },
  {
   "cell_type": "code",
   "execution_count": 41,
   "metadata": {
    "colab": {},
    "colab_type": "code",
    "id": "WAfHj4V-pmsf"
   },
   "outputs": [],
   "source": [
    "#importa o modelo de regressão linear univariada\n",
    "from sklearn.linear_model import LinearRegression"
   ]
  },
  {
   "cell_type": "code",
   "execution_count": 42,
   "metadata": {
    "colab": {},
    "colab_type": "code",
    "id": "lMyc5qVTxabz"
   },
   "outputs": [],
   "source": [
    "#análise do modelo\n",
    "from sklearn.metrics import r2_score #método para o cálculo do R2 (coeficiente de determinação)"
   ]
  },
  {
   "cell_type": "code",
   "execution_count": 43,
   "metadata": {
    "colab": {},
    "colab_type": "code",
    "id": "MaFWM_cVs0YR"
   },
   "outputs": [],
   "source": [
    "#realizando a análise de regressão\n",
    "x = dataset_modelos.loc[:,['hum','casual']].values\n",
    "y = dataset_modelos.iloc[:, 16].values #variável dependente"
   ]
  },
  {
   "cell_type": "code",
   "execution_count": 44,
   "metadata": {
    "colab": {},
    "colab_type": "code",
    "id": "J3aRIJGaxa4U"
   },
   "outputs": [],
   "source": [
    "#Dividindo o dataset entre treinamento 80% e teste 20%\n",
    "x_train, x_test, y_train, y_test = train_test_split(x, y, test_size=0.2, shuffle=True, random_state=42)"
   ]
  },
  {
   "cell_type": "code",
   "execution_count": 45,
   "metadata": {
    "colab": {
     "base_uri": "https://localhost:8080/",
     "height": 34
    },
    "colab_type": "code",
    "executionInfo": {
     "elapsed": 664,
     "status": "ok",
     "timestamp": 1590661896711,
     "user": {
      "displayName": "Giselle Silva",
      "photoUrl": "https://lh3.googleusercontent.com/a-/AOh14Ghw1WCpW9Q_9WLdA1gi-7ssprk6FMiSRivyisCC5LA=s64",
      "userId": "07908098511200809974"
     },
     "user_tz": 180
    },
    "id": "xfcsOXpv1cMt",
    "outputId": "e78083fc-8433-4442-c2a6-6588d5a401c0"
   },
   "outputs": [
    {
     "data": {
      "text/plain": [
       "((13903, 2), (3476, 2))"
      ]
     },
     "execution_count": 45,
     "metadata": {},
     "output_type": "execute_result"
    }
   ],
   "source": [
    "x_train.shape, x_test.shape"
   ]
  },
  {
   "cell_type": "code",
   "execution_count": 46,
   "metadata": {
    "colab": {
     "base_uri": "https://localhost:8080/",
     "height": 34
    },
    "colab_type": "code",
    "executionInfo": {
     "elapsed": 725,
     "status": "ok",
     "timestamp": 1590661942499,
     "user": {
      "displayName": "Giselle Silva",
      "photoUrl": "https://lh3.googleusercontent.com/a-/AOh14Ghw1WCpW9Q_9WLdA1gi-7ssprk6FMiSRivyisCC5LA=s64",
      "userId": "07908098511200809974"
     },
     "user_tz": 180
    },
    "id": "sGgobf711tl4",
    "outputId": "61b862fa-fee0-460c-cc53-da7049b51261"
   },
   "outputs": [
    {
     "data": {
      "text/plain": [
       "((13903,), (3476,))"
      ]
     },
     "execution_count": 46,
     "metadata": {},
     "output_type": "execute_result"
    }
   ],
   "source": [
    "y_train.shape, y_test.shape"
   ]
  },
  {
   "cell_type": "code",
   "execution_count": 47,
   "metadata": {
    "colab": {},
    "colab_type": "code",
    "id": "vFuttSvLpm_b"
   },
   "outputs": [],
   "source": [
    "#Realiza a construção do modelo de regressão com os dados de treino\n",
    "reg= LinearRegression()\n",
    "#x_train_Reshaped=x_train.reshape(-2, 2) #coloca os dados no formato 2D\n",
    "regressao= reg.fit (x_train,y_train) # encontra os coeficientes (realiza a regressão)"
   ]
  },
  {
   "cell_type": "code",
   "execution_count": 48,
   "metadata": {
    "colab": {},
    "colab_type": "code",
    "id": "nvBdinlry6VR"
   },
   "outputs": [],
   "source": [
    "#realiza a previsão\n",
    "previsao=reg.predict(x_test)"
   ]
  },
  {
   "cell_type": "code",
   "execution_count": 49,
   "metadata": {
    "colab": {
     "base_uri": "https://localhost:8080/",
     "height": 51
    },
    "colab_type": "code",
    "executionInfo": {
     "elapsed": 660,
     "status": "ok",
     "timestamp": 1590662641611,
     "user": {
      "displayName": "Giselle Silva",
      "photoUrl": "https://lh3.googleusercontent.com/a-/AOh14Ghw1WCpW9Q_9WLdA1gi-7ssprk6FMiSRivyisCC5LA=s64",
      "userId": "07908098511200809974"
     },
     "user_tz": 180
    },
    "id": "BV2gjOpa1cXE",
    "outputId": "bcbc0a93-4f3d-44eb-fcfa-63acc59ded7c"
   },
   "outputs": [
    {
     "name": "stdout",
     "output_type": "stream",
     "text": [
      "Y = [-104.46054184    2.18444819]X 177.74781932890795\n",
      "Coeficiente de Determinação (R2): 0.407248711070358\n"
     ]
    }
   ],
   "source": [
    "#parâmetros encontrados\n",
    "print('Y = {}X {}'.format(reg.coef_,reg.intercept_))\n",
    "\n",
    "R_2 = r2_score(y_test, previsao)  #realiza o cálculo do R2\n",
    "\n",
    "print(\"Coeficiente de Determinação (R2):\", R_2)"
   ]
  },
  {
   "cell_type": "markdown",
   "metadata": {
    "colab_type": "text",
    "id": "kqyd0NsN4eaM"
   },
   "source": [
    "R2 = 0,407  para a análise de regressão"
   ]
  },
  {
   "cell_type": "markdown",
   "metadata": {
    "colab_type": "text",
    "id": "82NAAzC82B0j"
   },
   "source": [
    "**Árvore de Regressão**"
   ]
  },
  {
   "cell_type": "code",
   "execution_count": 50,
   "metadata": {
    "colab": {},
    "colab_type": "code",
    "id": "zpT3_A3Axaxj"
   },
   "outputs": [],
   "source": [
    "from sklearn.tree import DecisionTreeClassifier,export_graphviz\n",
    "from sklearn.preprocessing import MinMaxScaler\n",
    "from sklearn.tree import DecisionTreeRegressor\n",
    "from sklearn import metrics"
   ]
  },
  {
   "cell_type": "code",
   "execution_count": 51,
   "metadata": {
    "colab": {
     "base_uri": "https://localhost:8080/",
     "height": 119
    },
    "colab_type": "code",
    "executionInfo": {
     "elapsed": 674,
     "status": "ok",
     "timestamp": 1590663279011,
     "user": {
      "displayName": "Giselle Silva",
      "photoUrl": "https://lh3.googleusercontent.com/a-/AOh14Ghw1WCpW9Q_9WLdA1gi-7ssprk6FMiSRivyisCC5LA=s64",
      "userId": "07908098511200809974"
     },
     "user_tz": 180
    },
    "id": "nJmWfwI-2Af4",
    "outputId": "2e56be03-b1e5-4d58-83c4-03edc5c0c5d7"
   },
   "outputs": [
    {
     "data": {
      "text/plain": [
       "DecisionTreeRegressor(ccp_alpha=0.0, criterion='mse', max_depth=None,\n",
       "                      max_features=None, max_leaf_nodes=None,\n",
       "                      min_impurity_decrease=0.0, min_impurity_split=None,\n",
       "                      min_samples_leaf=1, min_samples_split=2,\n",
       "                      min_weight_fraction_leaf=0.0, presort='deprecated',\n",
       "                      random_state=None, splitter='best')"
      ]
     },
     "execution_count": 51,
     "metadata": {},
     "output_type": "execute_result"
    }
   ],
   "source": [
    "arvore_reg = DecisionTreeRegressor()   #instanciando\n",
    "arvore_reg.fit(x_train,y_train)        #construindo o modelo"
   ]
  },
  {
   "cell_type": "code",
   "execution_count": 52,
   "metadata": {
    "colab": {
     "base_uri": "https://localhost:8080/",
     "height": 51
    },
    "colab_type": "code",
    "executionInfo": {
     "elapsed": 722,
     "status": "ok",
     "timestamp": 1590663284797,
     "user": {
      "displayName": "Giselle Silva",
      "photoUrl": "https://lh3.googleusercontent.com/a-/AOh14Ghw1WCpW9Q_9WLdA1gi-7ssprk6FMiSRivyisCC5LA=s64",
      "userId": "07908098511200809974"
     },
     "user_tz": 180
    },
    "id": "N7iWD-ui2A5B",
    "outputId": "ffb57dec-0a37-4423-b815-d9eb2b071742"
   },
   "outputs": [
    {
     "name": "stdout",
     "output_type": "stream",
     "text": [
      "Erro Absoluto: 103.3677994167946\n",
      "Erro quadratico: 23135.745231943885\n"
     ]
    }
   ],
   "source": [
    "previsao_arv = arvore_reg.predict(x_test)   #calculando a previsão\n",
    "print('Erro Absoluto:', metrics.mean_absolute_error(y_test,previsao_arv))\n",
    "print('Erro quadratico:', metrics.mean_squared_error(y_test,previsao_arv))"
   ]
  },
  {
   "cell_type": "code",
   "execution_count": 53,
   "metadata": {
    "colab": {
     "base_uri": "https://localhost:8080/",
     "height": 34
    },
    "colab_type": "code",
    "executionInfo": {
     "elapsed": 570,
     "status": "ok",
     "timestamp": 1590663291338,
     "user": {
      "displayName": "Giselle Silva",
      "photoUrl": "https://lh3.googleusercontent.com/a-/AOh14Ghw1WCpW9Q_9WLdA1gi-7ssprk6FMiSRivyisCC5LA=s64",
      "userId": "07908098511200809974"
     },
     "user_tz": 180
    },
    "id": "OeT-fkZQ1tH1",
    "outputId": "112bca5e-ec7d-46d2-9468-fcc2e93c3a03"
   },
   "outputs": [
    {
     "name": "stdout",
     "output_type": "stream",
     "text": [
      "Coeficiente de Determinação (R2): 0.21534011124446517\n"
     ]
    }
   ],
   "source": [
    "R_2_arv = r2_score(y_test, previsao_arv)  #realiza o cálculo do R2\n",
    "print(\"Coeficiente de Determinação (R2):\", R_2_arv)"
   ]
  },
  {
   "cell_type": "markdown",
   "metadata": {
    "colab_type": "text",
    "id": "B6he00sK67d8"
   },
   "source": [
    "R2 = 0,215  para a árvore de regressão"
   ]
  },
  {
   "cell_type": "markdown",
   "metadata": {
    "colab_type": "text",
    "id": "Ur2HJda8QC4Q"
   },
   "source": [
    "**Regressão com todos os dados**"
   ]
  },
  {
   "cell_type": "code",
   "execution_count": 54,
   "metadata": {
    "colab": {},
    "colab_type": "code",
    "id": "PaLrK6BQQUJp"
   },
   "outputs": [],
   "source": [
    "#Realiza a construção do modelo de regressão com os dados completos\n",
    "reg2= LinearRegression()\n",
    "#x_train_Reshaped=x_train.reshape(-2, 2) #coloca os dados no formato 2D\n",
    "regressao= reg2.fit (x,y) # encontra os coeficientes (realiza a regressão)"
   ]
  },
  {
   "cell_type": "code",
   "execution_count": 55,
   "metadata": {
    "colab": {},
    "colab_type": "code",
    "id": "bR885XmOQUJs"
   },
   "outputs": [],
   "source": [
    "#realiza a previsão\n",
    "previsao2=reg2.predict(x)"
   ]
  },
  {
   "cell_type": "code",
   "execution_count": 56,
   "metadata": {
    "colab": {
     "base_uri": "https://localhost:8080/",
     "height": 51
    },
    "colab_type": "code",
    "executionInfo": {
     "elapsed": 809,
     "status": "ok",
     "timestamp": 1590669045291,
     "user": {
      "displayName": "Giselle Silva",
      "photoUrl": "https://lh3.googleusercontent.com/a-/AOh14Ghw1WCpW9Q_9WLdA1gi-7ssprk6FMiSRivyisCC5LA=s64",
      "userId": "07908098511200809974"
     },
     "user_tz": 180
    },
    "id": "dGRxRyG4QUJx",
    "outputId": "b5e2b461-549b-4a13-c65b-ce7effd2e6af"
   },
   "outputs": [
    {
     "name": "stdout",
     "output_type": "stream",
     "text": [
      "Y = [-100.98900093    2.20087962]X 174.98415936102265\n",
      "Coeficiente de Determinação (R2): 0.40561165206692495\n"
     ]
    }
   ],
   "source": [
    "#parâmetros encontrados\n",
    "print('Y = {}X {}'.format(reg2.coef_,reg2.intercept_))\n",
    "\n",
    "R_2_reg2 = r2_score(y, previsao2)  #realiza o cálculo do R2\n",
    "\n",
    "print(\"Coeficiente de Determinação (R2):\", R_2_reg2)"
   ]
  },
  {
   "cell_type": "markdown",
   "metadata": {
    "colab_type": "text",
    "id": "qtham33RQ4Vg"
   },
   "source": [
    "R2 = 0,4056  para a análise de regressão com todos os dados"
   ]
  },
  {
   "cell_type": "markdown",
   "metadata": {
    "colab_type": "text",
    "id": "P4AxmcZuQJf0"
   },
   "source": [
    "**Árvore de Decisão com todos os dados**"
   ]
  },
  {
   "cell_type": "code",
   "execution_count": 57,
   "metadata": {
    "colab": {
     "base_uri": "https://localhost:8080/",
     "height": 119
    },
    "colab_type": "code",
    "executionInfo": {
     "elapsed": 634,
     "status": "ok",
     "timestamp": 1590669171505,
     "user": {
      "displayName": "Giselle Silva",
      "photoUrl": "https://lh3.googleusercontent.com/a-/AOh14Ghw1WCpW9Q_9WLdA1gi-7ssprk6FMiSRivyisCC5LA=s64",
      "userId": "07908098511200809974"
     },
     "user_tz": 180
    },
    "id": "dKUIpj8oRHJ-",
    "outputId": "c130771b-9b97-482b-9671-67580f17a1f1"
   },
   "outputs": [
    {
     "data": {
      "text/plain": [
       "DecisionTreeRegressor(ccp_alpha=0.0, criterion='mse', max_depth=None,\n",
       "                      max_features=None, max_leaf_nodes=None,\n",
       "                      min_impurity_decrease=0.0, min_impurity_split=None,\n",
       "                      min_samples_leaf=1, min_samples_split=2,\n",
       "                      min_weight_fraction_leaf=0.0, presort='deprecated',\n",
       "                      random_state=None, splitter='best')"
      ]
     },
     "execution_count": 57,
     "metadata": {},
     "output_type": "execute_result"
    }
   ],
   "source": [
    "arvore_reg2 = DecisionTreeRegressor()   #instanciando\n",
    "arvore_reg2.fit(x,y)        #construindo o modelo"
   ]
  },
  {
   "cell_type": "code",
   "execution_count": 58,
   "metadata": {
    "colab": {},
    "colab_type": "code",
    "id": "lFl2gXQxRHKH"
   },
   "outputs": [],
   "source": [
    "previsao_arv2 = arvore_reg2.predict(x)   #calculando a previsão"
   ]
  },
  {
   "cell_type": "code",
   "execution_count": 59,
   "metadata": {
    "colab": {
     "base_uri": "https://localhost:8080/",
     "height": 34
    },
    "colab_type": "code",
    "executionInfo": {
     "elapsed": 797,
     "status": "ok",
     "timestamp": 1590669179531,
     "user": {
      "displayName": "Giselle Silva",
      "photoUrl": "https://lh3.googleusercontent.com/a-/AOh14Ghw1WCpW9Q_9WLdA1gi-7ssprk6FMiSRivyisCC5LA=s64",
      "userId": "07908098511200809974"
     },
     "user_tz": 180
    },
    "id": "mYBF3D56RHKM",
    "outputId": "4a2d8234-6b16-4fde-de1a-840198be9c06"
   },
   "outputs": [
    {
     "name": "stdout",
     "output_type": "stream",
     "text": [
      "Coeficiente de Determinação (R2): 0.6973174287156154\n"
     ]
    }
   ],
   "source": [
    "R_2_arv2 = r2_score(y, previsao_arv2)  #realiza o cálculo do R2\n",
    "print(\"Coeficiente de Determinação (R2):\", R_2_arv2)"
   ]
  },
  {
   "cell_type": "markdown",
   "metadata": {
    "colab_type": "text",
    "id": "m3_F5TvoRHKT"
   },
   "source": [
    "R2 = 0,697  para a árvore de regressão com todos os dados"
   ]
  }
 ],
 "metadata": {
  "colab": {
   "authorship_tag": "ABX9TyMdQdzCsq2TjaQzk1LhoMKT",
   "name": "Desafio_Mod_1.ipynb",
   "provenance": []
  },
  "kernelspec": {
   "display_name": "Python 3",
   "language": "python",
   "name": "python3"
  },
  "language_info": {
   "codemirror_mode": {
    "name": "ipython",
    "version": 3
   },
   "file_extension": ".py",
   "mimetype": "text/x-python",
   "name": "python",
   "nbconvert_exporter": "python",
   "pygments_lexer": "ipython3",
   "version": "3.8.3"
  }
 },
 "nbformat": 4,
 "nbformat_minor": 4
}
